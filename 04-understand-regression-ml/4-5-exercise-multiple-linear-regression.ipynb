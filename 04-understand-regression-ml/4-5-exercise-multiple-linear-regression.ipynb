{
  "cells": [
    {
      "cell_type": "markdown",
      "source": [
        "# Exercise: Train a multiple linear regression model\n",
        "In this exercise, we'll train both a simple linear regression model and a multiple linear regression model, and compare their performance using R-Squared.\n",
        "\n",
        "## Loading data\n",
        "Let's start by having a look at our data."
      ],
      "metadata": {},
      "id": "dde0a4ff-1f09-47ae-85e0-87fc892370c5"
    },
    {
      "cell_type": "code",
      "source": [
        "import pandas\n",
        "!pip install statsmodels\n",
        "!wget https://raw.githubusercontent.com/MicrosoftDocs/mslearn-introduction-to-machine-learning/main/graphing.py\n",
        "!wget https://raw.githubusercontent.com/MicrosoftDocs/mslearn-introduction-to-machine-learning/main/Data/doggy-illness.csv\n",
        "\n",
        "#Import the data from the .csv file\n",
        "dataset = pandas.read_csv('doggy-illness.csv', delimiter=\"\\t\")\n",
        "\n",
        "#Let's have a look at the data\n",
        "dataset"
      ],
      "outputs": [],
      "execution_count": null,
      "metadata": {},
      "id": "74133c47-0473-4008-ac81-d631f166cf24"
    },
    {
      "cell_type": "markdown",
      "source": [
        "For this exercise we'll try to predict `core_temperature` from some of the other available features. \n",
        "\n",
        "## Data visualization\n",
        "Let's quickly eyeball which features seem to have some kind of relationship with `core_temperature`"
      ],
      "metadata": {},
      "id": "be0ca653-0ec1-4f83-b098-63e08350934e"
    },
    {
      "cell_type": "code",
      "source": [
        "import graphing # Custom graphing code that uses Plotly. See our GitHub repository for details\n",
        "\n",
        "graphing.box_and_whisker(dataset, \"male\", \"core_temperature\", show=True)\n",
        "graphing.box_and_whisker(dataset, \"attended_training\", \"core_temperature\", show=True)\n",
        "graphing.box_and_whisker(dataset, \"ate_at_tonys_steakhouse\", \"core_temperature\", show=True)\n",
        "graphing.scatter_2D(dataset, \"body_fat_percentage\", \"core_temperature\", show=True)\n",
        "graphing.scatter_2D(dataset, \"protein_content_of_last_meal\", \"core_temperature\", show=True)\n",
        "graphing.scatter_2D(dataset, \"age\", \"core_temperature\")"
      ],
      "outputs": [],
      "execution_count": null,
      "metadata": {},
      "id": "969ff781-1d53-409c-97d8-d66b5bbfbec8"
    },
    {
      "cell_type": "markdown",
      "source": [
        "At a glance, fatter, older, and male dogs seem to more commonly have higher temperatures than thinner, younger, or female dogs. Dogs who ate a lot of protein last night also seem to be more unwell. The other features don't seem particularly useful.\n",
        "\n",
        "## Simple linear regression\n",
        "\n",
        "Let's try to predict `core_temperature` using simple linear regression, and note the R-Squared for these relationships."
      ],
      "metadata": {},
      "id": "551aefe7-ef37-4131-b664-92499bfc3e82"
    },
    {
      "cell_type": "code",
      "source": [
        "import statsmodels.formula.api as smf\n",
        "import graphing # custom graphing code. See our GitHub repo for details\n",
        "\n",
        "for feature in [\"male\", \"age\", \"protein_content_of_last_meal\", \"body_fat_percentage\"]:\n",
        "    # Perform linear regression. This method takes care of\n",
        "    # the entire fitting procedure for us.\n",
        "    formula = \"core_temperature ~ \" + feature\n",
        "    simple_model = smf.ols(formula = formula, data = dataset).fit()\n",
        "\n",
        "    print(feature)\n",
        "    print(\"R-squared:\", simple_model.rsquared)\n",
        "    \n",
        "    # Show a graph of the result\n",
        "    graphing.scatter_2D(dataset, label_x=feature, \n",
        "                                 label_y=\"core_temperature\",\n",
        "                                 title = feature,\n",
        "                                 trendline=lambda x: simple_model.params[1] * x + simple_model.params[0],\n",
        "                                 show=True)"
      ],
      "outputs": [],
      "execution_count": null,
      "metadata": {},
      "id": "74d680f7-751a-407a-ab8d-ee91ea03afd1"
    },
    {
      "cell_type": "markdown",
      "source": [
        "Scrolling through these graphs, we get R-square values of 0.0002 (`body_fat_percentage`), 0.1 (`male`), and 0.26 (`age`).\n",
        "\n",
        "While `protein_content_of_last_meal` looks very promising too, the relationship looks curved, not linear. We'll leave this feature for now and come back to it in the next exercise."
      ],
      "metadata": {},
      "id": "98290144-fc2f-4085-b4c2-ecc5d4487a58"
    },
    {
      "cell_type": "markdown",
      "source": [
        "## R-Squared\n",
        "\n",
        "We've shown the R-Squared value for these models and used it as a measure of 'correctness' for our regression, but what is it?\n",
        "\n",
        "Intuitively, we can think of R-Squared as ratio for how much better our regression line is than a naive regression that just goes straight through the mean of all examples. \n",
        "Roughly, the R-Squared is calculated by taking the loss/error of the trained model, and dividing by the loss/error of the naive model. That gives a range where `0` is better and `1` is worse, so the whole thing is subtracted from `1` to flip those results.\n",
        "\n",
        "Below, we once again show the scatter plot with `age` and `core_temperature`, but this time, we show two regression lines. The first is the naive line that just goes straight through the mean. This has an R-Squared of `0` (since it's no better than itself). An R-Squared of `1` would be a line that fit each training example perfectly. The second plot shows our trained regression line and we once again see its R-Squared."
      ],
      "metadata": {},
      "id": "957b96bf-8be3-4160-a7b1-17d984c04c08"
    },
    {
      "cell_type": "code",
      "source": [
        "formula = \"core_temperature ~ age\"\n",
        "age_trained_model = smf.ols(formula = formula, data = dataset).fit()\n",
        "age_naive_model = smf.ols(formula = formula, data = dataset).fit()\n",
        "age_naive_model.params[0] = dataset['core_temperature'].mean()\n",
        "age_naive_model.params[1] = 0\n",
        "\n",
        "print(\"naive R-squared:\", age_naive_model.rsquared)\n",
        "print(\"trained R-squared:\", age_trained_model.rsquared)\n",
        "\n",
        "# Show a graph of the result\n",
        "graphing.scatter_2D(dataset, label_x=\"age\", \n",
        "                                label_y=\"core_temperature\",\n",
        "                                title = \"Naive model\",\n",
        "                                trendline=lambda x: dataset['core_temperature'].repeat(len(x)), \n",
        "                                show=True)\n",
        "# Show a graph of the result\n",
        "graphing.scatter_2D(dataset, label_x=\"age\", \n",
        "                                label_y=\"core_temperature\",\n",
        "                                title = \"Trained model\",\n",
        "                                trendline=lambda x: age_trained_model.params[1] * x + age_trained_model.params[0])\n",
        "\n"
      ],
      "outputs": [],
      "execution_count": null,
      "metadata": {},
      "id": "a73bbf24-3ed5-4f0c-8f51-5e01fc6fb511"
    },
    {
      "cell_type": "markdown",
      "source": [
        "## Multiple Linear Regression\n",
        "\n",
        "Instead of modelling these separately, lets try to combine these into a single model. Body fat didn't seem to be useful after all, so let's just use `male` and `age` as features."
      ],
      "metadata": {},
      "id": "88444b5a-4899-493d-ac2e-9bfe08dd2e59"
    },
    {
      "cell_type": "code",
      "source": [
        "model = smf.ols(formula = \"core_temperature ~ age + male\", data = dataset).fit()\n",
        "\n",
        "print(\"R-squared:\", model.rsquared)"
      ],
      "outputs": [],
      "execution_count": null,
      "metadata": {},
      "id": "552565ca-6d75-49c3-afd9-885c9f7ebe7d"
    },
    {
      "cell_type": "markdown",
      "source": [
        "By using both features at the same time, we got a better result than any of the one-feature (univariate) models.\n",
        "\n",
        "How can we view this though? Well, a simple linear regression is drawn in 2d. If we are working with an extra variable, we add one dimension and work in 3D. \n"
      ],
      "metadata": {},
      "id": "21934c75-11c6-40b4-8789-014aad37f3f2"
    },
    {
      "cell_type": "code",
      "source": [
        "import numpy as np\n",
        "# Show a graph of the result\n",
        "# this needs to be 3D, because we now have three variables in play: two features and one label\n",
        "\n",
        "def predict(age, male):\n",
        "    '''\n",
        "    This converts given age and male values into a prediction from the model\n",
        "    '''\n",
        "    # to make a prediction with statsmodels, we need to provide a dataframe\n",
        "    # so create a dataframe with just the age and male variables\n",
        "    df = pandas.DataFrame(dict(age=[age], male=[male]))\n",
        "    return model.predict(df)\n",
        "\n",
        "# Create the surface graph\n",
        "fig = graphing.surface(\n",
        "    x_values=np.array([min(dataset.age), max(dataset.age)]),\n",
        "    y_values=np.array([0, 1]),\n",
        "    calc_z=predict,\n",
        "    axis_title_x=\"Age\",\n",
        "    axis_title_y=\"Male\",\n",
        "    axis_title_z=\"Core temperature\"\n",
        ")\n",
        "\n",
        "# Add our datapoints to it and display\n",
        "fig.add_scatter3d(x=dataset.age, y=dataset.male, z=dataset.core_temperature, mode='markers')\n",
        "fig.show()"
      ],
      "outputs": [],
      "execution_count": null,
      "metadata": {},
      "id": "3896c5b6-3de6-4f6c-b052-8c2aa92dd68b"
    },
    {
      "cell_type": "markdown",
      "source": [
        "The graph above is interactive. Try rotating it to see how the model (shown as a solid plane) would predict core temperature from different combinations of age and sex.\n",
        "\n",
        "### Inspecting our model\n",
        "\n",
        "When we have more than two features, it becomes very difficult to visualise these models. We usually have to look at the parameters directly. Let's do that now. _Statsmodels_, one of the common machine learning and statistics libraries, provides a `summary()` method which provides information about our model.    "
      ],
      "metadata": {},
      "id": "315b6ace-765e-4abd-a704-2752acac60ab"
    },
    {
      "cell_type": "code",
      "source": [
        "# Print summary information\n",
        "model.summary()"
      ],
      "outputs": [],
      "execution_count": null,
      "metadata": {},
      "id": "ad7b2a3d-1acb-41ff-847f-629082ce9586"
    },
    {
      "cell_type": "markdown",
      "source": [
        "If we look at the top right hand corner, we can see our R-squared statistic that we printed out earlier.\n",
        "\n",
        "Slightly down and to the left, we can also see information about the data we trained our model on. For example, we can see that we trained it on 98 observations (`No. Observations`).\n",
        "\n",
        "Below this we find information about our parameters, in a column called `coef` (which stands for _coefficients_, a synonym for parameters in machine learning). Here we can see the intercept was about `38` - meaning that the model predicts a core temperature of 38 for a dog with `age=0` and `male=0`. Below this we see the parameter for age is 0.14, meaning that for each additional year of age, the predicted temperature would rise 0.14 degrees celsius. For `male`, we can see a parameter of 0.32, meaning that the model estimates all dogs (i.e. where `male == 1`) to have temperatures 0.32 degrees celsius higher than female dogs (i.e. where `male == 0`).\n",
        "\n",
        "Although we don't have space here to go into detail, the `P` column is also very useful. This tells us how confident the model is about this parameter value. As a rule of thumb, if the p value is less than 0.05, there is a good chance that this relationship if trustable. For example, here both `age` and `male` are less than 0.05, so we should feel confident using this model in the real world.\n",
        "\n",
        "As a final exercise, lets do the same thing with our earlier simple linear regression model, relating `age` to `core_temperature`. Read through the table below and see what you can make out from this model. "
      ],
      "metadata": {},
      "id": "70ccf0ef-c2d7-4b37-a837-1f968506374e"
    },
    {
      "cell_type": "code",
      "source": [
        "age_trained_model.summary()"
      ],
      "outputs": [],
      "execution_count": null,
      "metadata": {},
      "id": "7007a7a3-cda2-4b52-b962-1d60e40bb66c"
    },
    {
      "cell_type": "markdown",
      "source": [
        "## Summary\n",
        "We covered the following concepts in this exercise:\n",
        "\n",
        "- Build Simple and Multiple Linear Regression Models.\n",
        "- Compare the performance of both models by looking at R-Squared values.\n",
        "- Inspected models to understand how they work."
      ],
      "metadata": {},
      "id": "aa71e630-6749-439c-82f5-bfe3e42732e7"
    }
  ],
  "metadata": {
    "kernel_info": {
      "name": "conda-env-py38_default-py"
    },
    "kernelspec": {
      "display_name": "py38_default",
      "language": "python",
      "name": "conda-env-py38_default-py"
    },
    "language_info": {
      "codemirror_mode": {
        "name": "ipython",
        "version": 3
      },
      "file_extension": ".py",
      "mimetype": "text/x-python",
      "name": "python",
      "nbconvert_exporter": "python",
      "pygments_lexer": "ipython3",
      "version": "3.7.9"
    },
    "nteract": {
      "version": "nteract-front-end@1.0.0"
    },
    "vscode": {
      "interpreter": {
        "hash": "2a35a5d7a1695c145f6d485f5528d9f0e062df43578e4fcb0dcb8fc15dd48b38"
      }
    }
  },
  "nbformat": 4,
  "nbformat_minor": 5
}