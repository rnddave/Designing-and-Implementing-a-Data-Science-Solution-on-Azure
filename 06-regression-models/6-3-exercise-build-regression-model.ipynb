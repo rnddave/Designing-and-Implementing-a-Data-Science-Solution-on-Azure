{
  "cells": [
    {
      "cell_type": "markdown",
      "source": [
        "# Exercise: Build a simple logistic regression model\n",
        "\n",
        "In this exercise, we'll fit a simple logistic regression model that will try to predict the chance of an avalanche. \n",
        "\n",
        "Recall that logistic regression fits an s-shaped curve to data, rather than a straight line, and we can use this to calculate a probability of a binary outcome.\n",
        "\n",
        "## Data visualization\n",
        "\n",
        "Let's start this exercise by loading in and having a look at our data:"
      ],
      "metadata": {}
    },
    {
      "cell_type": "code",
      "source": [
        "import pandas\n",
        "!pip install statsmodels\n",
        "!wget https://raw.githubusercontent.com/MicrosoftDocs/mslearn-introduction-to-machine-learning/main/graphing.py\n",
        "!wget https://raw.githubusercontent.com/MicrosoftDocs/mslearn-introduction-to-machine-learning/main/Data/avalanche.csv\n",
        "\n",
        "#Import the data from the .csv file\n",
        "dataset = pandas.read_csv('avalanche.csv', delimiter=\"\\t\")\n",
        "\n",
        "#Let's have a look at the data\n",
        "dataset"
      ],
      "outputs": [],
      "execution_count": null,
      "metadata": {
        "scrolled": true
      }
    },
    {
      "cell_type": "markdown",
      "source": [
        "## Data Exploration\n",
        "\n",
        "The `avalanche` field is our target. A value of `1` means that an avalanche did occur at the conditions described by the features, whereas a value of `0` means no avalanche hapenned. Since our targets can only be `0` or `1` we call this a *binary classification* model.\n",
        "\n",
        "Now let's plot the relationships between each feature and the target values. That helps us understand which features are more likely to influence the results:"
      ],
      "metadata": {}
    },
    {
      "cell_type": "code",
      "source": [
        "import graphing # custom graphing code. See our GitHub repo for details\n",
        "\n",
        "graphing.box_and_whisker(dataset, label_x=\"avalanche\", label_y=\"surface_hoar\", show=True)\n",
        "graphing.box_and_whisker(dataset, label_x=\"avalanche\", label_y=\"fresh_thickness\", show=True)\n",
        "graphing.box_and_whisker(dataset, label_x=\"avalanche\", label_y=\"weak_layers\", show=True)\n",
        "graphing.box_and_whisker(dataset, label_x=\"avalanche\", label_y=\"no_visitors\")"
      ],
      "outputs": [],
      "execution_count": null,
      "metadata": {}
    },
    {
      "cell_type": "markdown",
      "source": [
        "We can notice that:\n",
        "\n",
        "- For `fresh_thickness` the outcomes are very similar. This means that variations in their values aren't strongly correlated with the results.\n",
        "\n",
        "- Variations in values for `weak_layers` and `no_visitors`, seem to correlate with a larger number of `avalanche` results, and thus we should assign more importance to these features.\n",
        "\n",
        "The differences between avalanche and non-avalanche days are small and there isn't one clear driver of issues. Weak layers looks like a good starting point as it is related to the widest variation in results.\n",
        "\n",
        "## Building a simple logistic regression model\n",
        "\n",
        "We will now built and train a model to predict the chance of an avalanche happening based __solely__ on the number of weak layers of snow:"
      ],
      "metadata": {}
    },
    {
      "cell_type": "code",
      "source": [
        "# Here we import a function that splits datasets according to a given ratio\n",
        "from sklearn.model_selection import train_test_split\n",
        "\n",
        "# Split the dataset in an 70/30 train/test ratio. \n",
        "train, test = train_test_split(dataset, test_size=0.3, random_state=2)\n",
        "print(train.shape)\n",
        "print(test.shape)"
      ],
      "outputs": [],
      "execution_count": null,
      "metadata": {}
    },
    {
      "cell_type": "markdown",
      "source": [
        "OK, lets train our model, using the `train` dataset we've just created (notice that `weak_layers` will be the only feature used to determine the outcome):"
      ],
      "metadata": {}
    },
    {
      "cell_type": "code",
      "source": [
        "import statsmodels.formula.api as smf\n",
        "import graphing # custom graphing code. See our GitHub repo for details\n",
        "\n",
        "# Perform logistic regression.\n",
        "model = smf.logit(\"avalanche ~ weak_layers\", train).fit()\n",
        "\n",
        "print(\"Model trained\")"
      ],
      "outputs": [],
      "execution_count": null,
      "metadata": {}
    },
    {
      "cell_type": "markdown",
      "source": [
        "After training, we can print a model summary with very detailed information:"
      ],
      "metadata": {}
    },
    {
      "cell_type": "code",
      "source": [
        "print(model.summary())"
      ],
      "outputs": [],
      "execution_count": null,
      "metadata": {}
    },
    {
      "cell_type": "markdown",
      "source": [
        "Notice that the positive coefficient for `weak_layers` means that a higher value means a higher likelihood for an avalanche.\n"
      ],
      "metadata": {}
    },
    {
      "cell_type": "markdown",
      "source": [
        "## Using our model\n",
        "\n",
        "We can now use our trained model to make predictions and estimate probabilities.\n",
        "\n",
        "Let's pick the first four occurrences in our `test` set and print the probability of an avalanche for each one of them:"
      ],
      "metadata": {}
    },
    {
      "cell_type": "code",
      "source": [
        "# predict to get a probability\n",
        "\n",
        "# get first 3 samples from dataset\n",
        "samples = test[\"weak_layers\"][:4]\n",
        "\n",
        "# use the model to get predictions as possibilities\n",
        "estimated_probabilities = model.predict(samples)\n",
        "\n",
        "# Print results for each sample\n",
        "for sample, pred in zip(samples,estimated_probabilities):\n",
        "    print(f\"A weak_layer with value {sample} yields a {pred * 100:.2f}% chance of an avalanche.\")\n"
      ],
      "outputs": [],
      "execution_count": null,
      "metadata": {}
    },
    {
      "cell_type": "markdown",
      "source": [
        "Let's plot out model to understand this:"
      ],
      "metadata": {}
    },
    {
      "cell_type": "code",
      "source": [
        "# plot the model\n",
        "# Show a graph of the result\n",
        "predict = lambda x: model.predict(pandas.DataFrame({\"weak_layers\": x}))\n",
        "\n",
        "graphing.line_2D([(\"Model\", predict)],\n",
        "                 x_range=[-20,40],\n",
        "                 label_x=\"weak_layers\", \n",
        "                 label_y=\"estimated probability of an avalanche\")"
      ],
      "outputs": [],
      "execution_count": null,
      "metadata": {}
    },
    {
      "cell_type": "markdown",
      "source": [
        "The line plots the function of the __probability__ of an avalanche over the number of weak layers; Notice that the more weak layers, the more likely an avalanche will happen. This plot can look a bit confusing for two reasons.\n",
        "\n",
        "Firstly, the curve can make predictions from negative to positive infinity, but we only have data for 0 - 10 layers:"
      ],
      "metadata": {}
    },
    {
      "cell_type": "code",
      "source": [
        "print(\"Minimum number of weak layers:\", min(train.weak_layers))\n",
        "print(\"Maximum number of weak layers:\", max(train.weak_layers))"
      ],
      "outputs": [],
      "execution_count": null,
      "metadata": {}
    },
    {
      "cell_type": "markdown",
      "source": [
        "This is because logistic regression models allow predictions outside the range of values they have seen, and sometimes do so quite well.\n",
        "\n",
        "The second reason the plot is confusing is that at 0 layers, there's still _some_ risk of an avalanche. Similarly, at 10 layers, there isn't a 100% risk of an avalanche. This is actually in line with the data:"
      ],
      "metadata": {}
    },
    {
      "cell_type": "code",
      "source": [
        "import numpy as np\n",
        "\n",
        "# Get actual rates of avalanches at 0 years\n",
        "avalanche_outcomes_for_0_layers = train[train.weak_layers == 0].avalanche\n",
        "print(\"Average rate of avalanches for 0 weak layers of snow\", np.average(avalanche_outcomes_for_0_layers))\n",
        "\n",
        "# Get actual rates of avalanches at 10 years\n",
        "avalanche_outcomes_for_10_layers = train[train.weak_layers == 10].avalanche\n",
        "print(\"Average rate of avalanches for 10 weak layers of snow\", np.average(avalanche_outcomes_for_10_layers))"
      ],
      "outputs": [],
      "execution_count": null,
      "metadata": {}
    },
    {
      "cell_type": "markdown",
      "source": [
        "Our model is actually doing a good job! It's just that avalanches aren't _only_ caused by weak layers of snow. If we want to do better, we probably need to think about including other information in the model."
      ],
      "metadata": {}
    },
    {
      "cell_type": "markdown",
      "source": [
        "## Classification or decision thresholds\n",
        "To return a binary category (`True` = \"avalanche\", `False` = \"no avalanche\") we need to define a *Classification Threshold* value. Any probability above that threshold is returned as the positive category, whereas values below it will be returned as the negative category.\n",
        "\n",
        "Let's see what happens if set our threshold to `0.5` (meaning that our model will return `True` whenever it calculates a chance above 50% of an avalanche happening):"
      ],
      "metadata": {}
    },
    {
      "cell_type": "code",
      "source": [
        "# threshold to get an absolute value\n",
        "threshold = 0.5\n",
        "\n",
        "# Add classification to the samples we used before\n",
        "for sample, pred in list(zip(samples,estimated_probabilities)):\n",
        "    print(f\"A weak_layer with value {sample} yields a chance of {pred * 100:.2f}% of an avalanche. Classification = {pred > threshold}\")\n",
        "\n"
      ],
      "outputs": [],
      "execution_count": null,
      "metadata": {}
    },
    {
      "cell_type": "markdown",
      "source": [
        "Note that a `0.5` threshold is just a starting point that needs to be tuned depending on the data we're trying to classify.\n",
        "\n",
        "## Performance on test set\n",
        "Now let's use our `test` dataset to perform a quick evaluation on how the model did. For now, we'll just look at how often we correctly predicted if there would be an avalanche or not"
      ],
      "metadata": {}
    },
    {
      "cell_type": "code",
      "source": [
        "# Classify the mdel predictions using the threshold\n",
        "predictions = model.predict(test) > threshold\n",
        "\n",
        "# Compare the predictions to the actual outcomes in the dataset\n",
        "accuracy = np.average(predictions == test.avalanche)\n",
        "\n",
        "# Print the evaluation\n",
        "print(f\"The model correctly predicted outcomes {accuracy * 100:.2f}% of time.\")"
      ],
      "outputs": [],
      "execution_count": null,
      "metadata": {}
    },
    {
      "cell_type": "markdown",
      "source": [
        "Avalanches are hard to pick but we're doing ok. It's hard to tell exactly what kind of mistakes our model is making, though. We'll focus on this in the next exercise.\n",
        "\n",
        "## Summary\n",
        "\n",
        "In this unit we covered the following topics:\n",
        " - Using Data Exploration to understand which features have a stronger correlation to the outcomes\n",
        " - Building a simple Logistic Regression model\n",
        " - Using the trained model to predict _probabilities_\n",
        " - Using *thresholds* to map probabilities to binary classes\n",
        " - How to use a test set to measure the model's performance\n"
      ],
      "metadata": {}
    }
  ],
  "metadata": {
    "kernelspec": {
      "name": "conda-env-py38_default-py",
      "language": "python",
      "display_name": "py38_default"
    },
    "language_info": {
      "name": "python",
      "version": "3.7.9",
      "mimetype": "text/x-python",
      "codemirror_mode": {
        "name": "ipython",
        "version": 3
      },
      "pygments_lexer": "ipython3",
      "nbconvert_exporter": "python",
      "file_extension": ".py"
    },
    "kernel_info": {
      "name": "conda-env-py38_default-py"
    },
    "nteract": {
      "version": "nteract-front-end@1.0.0"
    }
  },
  "nbformat": 4,
  "nbformat_minor": 2
}