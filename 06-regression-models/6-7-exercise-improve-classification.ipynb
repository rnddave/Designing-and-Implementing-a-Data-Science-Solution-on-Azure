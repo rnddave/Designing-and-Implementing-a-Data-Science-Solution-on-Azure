{
  "cells": [
    {
      "cell_type": "markdown",
      "source": [
        "# Exercise: Improving a logistic regression model\n",
        "\n",
        "In the previous exercise, we fit a simple logistic regression model to predict the chance of an avalanche. This time, we'll improve its performance by using multiple features intelligently.\n",
        "\n",
        "## Data visualisation\n",
        "\n",
        "Let's load our data."
      ],
      "metadata": {}
    },
    {
      "cell_type": "code",
      "source": [
        "import pandas\n",
        "!pip install statsmodels\n",
        "!wget https://raw.githubusercontent.com/MicrosoftDocs/mslearn-introduction-to-machine-learning/main/graphing.py\n",
        "!wget https://raw.githubusercontent.com/MicrosoftDocs/mslearn-introduction-to-machine-learning/main/Data/avalanche.csv\n",
        "import graphing # custom graphing code. See our GitHub repo for details\n",
        "\n",
        "#Import the data from the .csv file\n",
        "dataset = pandas.read_csv('avalanche.csv', delimiter=\"\\t\", index_col=0)\n",
        "\n",
        "# Split our data into training and test\n",
        "import sklearn.model_selection\n",
        "train, test = sklearn.model_selection.train_test_split(dataset, test_size=0.25, random_state=10)\n",
        "\n",
        "print(\"Train size:\", train.shape[0])\n",
        "print(\"Test size:\", test.shape[0])\n",
        "\n",
        "#Let's have a look at the data\n",
        "print(train.head())"
      ],
      "outputs": [],
      "execution_count": null,
      "metadata": {
        "scrolled": true
      }
    },
    {
      "cell_type": "markdown",
      "source": [
        "We have numerous features available:\n",
        "\n",
        "* `surface_hoar` is how disturbed the surface of the snow is\n",
        "* `fresh_thickness` is how thick the top layer of snow is, or 0 if there's no fresh snow on top\n",
        "* `wind` is the top wind speed that day, in km/h\n",
        "* `weak_layers` is the number of layers of snow that aren't well-bound to other layers\n",
        "* `no_visitors` is the number of hikers who were on the trail that day\n",
        "* `tracked_out` is a `1` or `0`. A `1` means that the snow has been trampled heavily by hikers \n",
        "\n",
        "## Simple logistic regression\n",
        "\n",
        "Let's make a simple logistic regression model and assess its performance with accuracy.\n",
        "\n"
      ],
      "metadata": {}
    },
    {
      "cell_type": "code",
      "source": [
        "import sklearn\n",
        "from sklearn.metrics import accuracy_score\n",
        "import statsmodels.formula.api as smf\n",
        "\n",
        "# Perform logistic regression.\n",
        "model = smf.logit(\"avalanche ~ weak_layers\", train).fit()\n",
        "\n",
        "# Calculate accuracy\n",
        "def calculate_accuracy(model):\n",
        "    '''\n",
        "    Calculates accuracy\n",
        "    '''\n",
        "    # Make estimations and convert to categories\n",
        "    avalanche_predicted = model.predict(test) > 0.5\n",
        "\n",
        "    # Calculate what proportion were predicted correctly\n",
        "    # We can use sklearn to calculate accuracy for us\n",
        "    print(\"Accuracy:\", accuracy_score(test.avalanche, avalanche_predicted))\n",
        "\n",
        "calculate_accuracy(model)"
      ],
      "outputs": [],
      "execution_count": null,
      "metadata": {}
    },
    {
      "cell_type": "markdown",
      "source": [
        "Let's see how we can improve our model\n",
        "\n",
        "## Utilizing multiple features\n",
        "\n",
        "Most of our features seem like they could be useful, least in theory. Let's try a model with all features we've available."
      ],
      "metadata": {}
    },
    {
      "cell_type": "code",
      "source": [
        "# Perform logistic regression.\n",
        "model_all_features = smf.logit(\"avalanche ~ weak_layers + surface_hoar + fresh_thickness + wind + no_visitors + tracked_out\", train).fit()\n",
        "calculate_accuracy(model_all_features)"
      ],
      "outputs": [],
      "execution_count": null,
      "metadata": {}
    },
    {
      "cell_type": "markdown",
      "source": [
        "That's a big improvement on the simpler model we've been working with. \n",
        "\n",
        "To understand why, we can look at the summary information"
      ],
      "metadata": {}
    },
    {
      "cell_type": "code",
      "source": [
        "model_all_features.summary()"
      ],
      "outputs": [],
      "execution_count": null,
      "metadata": {}
    },
    {
      "cell_type": "markdown",
      "source": [
        "Take a look at the P column, recalling that values less than 0.05 mean we can be confident that this parameter is helping the model make better predictions.\n",
        "\n",
        "Both `surface_hoar` and `wind` have very small values here, meaning they're useful predictors and probably explain why our model is working better. If we look at the `coef` (which states _parameters_) column we see that these have positive values. This means that higher winds, and greater amounts of surface hoar result in higher avalanche risk.\n",
        "\n",
        "## Simplifying our model\n",
        "\n",
        "Looking at the summary again, we can see that `tracked_out` (how trampled the snow is), and `fresh_thickness` have large p-values. This means they aren't useful predictors. Let's see what happens if we remove them from our model:"
      ],
      "metadata": {}
    },
    {
      "cell_type": "code",
      "source": [
        "# Perform logistic regression.\n",
        "model_simplified = smf.logit(\"avalanche ~ weak_layers + surface_hoar + wind + no_visitors\", train).fit()\n",
        "calculate_accuracy(model_simplified)"
      ],
      "outputs": [],
      "execution_count": null,
      "metadata": {}
    },
    {
      "cell_type": "markdown",
      "source": [
        "Our new model works very similarly to the old one! In some circumstances simplifying a model like this can even improve it, as it becomes less likely to overfit.\n",
        "\n",
        "## Careful feature selection\n",
        "\n",
        "Usually, we don't just pick features blindly. Let's think about what we've just done - we removed how much fresh snow was in a model, trying to predict avalanches. Something seems off. Surely avalanches are much _more_ likely after it has snowed? Similarly, the number of people on the track seems unrelated to how many avalanches there were, but we know that people often can trigger avalanches.\n",
        "\n",
        "Let's review our earlier model again:"
      ],
      "metadata": {}
    },
    {
      "cell_type": "code",
      "source": [
        "model_all_features.summary()"
      ],
      "outputs": [],
      "execution_count": null,
      "metadata": {}
    },
    {
      "cell_type": "markdown",
      "source": [
        "Look at the `fresh_thickness` row. We're told that it has a negative coefficient. This means that as thickness increases, avalanches decrease.\n",
        "\n",
        "Similarly, `no_visitors` has a negative coefficient, meaning that fewer hikers means more avalanches.\n",
        "\n",
        "How can this bes? Well, while visitors can cause avalanches if there's a lot of fresh snow, presumably they cannot do so easily if there's no fresh snow. This means that our features aren't fully independent.\n",
        "\n",
        "We can tell the model to try to take into account that these features interact, using a multiply sign. Let's try that now."
      ],
      "metadata": {}
    },
    {
      "cell_type": "code",
      "source": [
        "# Create a model with an interaction. Notice the end of the string where\n",
        "# we've a multiply sign between no_visitors and fresh_thickness\n",
        "formula = \"avalanche ~ weak_layers + surface_hoar + wind + no_visitors * fresh_thickness\"\n",
        "model_with_interaction = smf.logit(formula, train).fit()\n",
        "calculate_accuracy(model_with_interaction)"
      ],
      "outputs": [],
      "execution_count": null,
      "metadata": {}
    },
    {
      "cell_type": "markdown",
      "source": [
        "The model has improved to 84% accuracy! Let's look at the summary information:"
      ],
      "metadata": {}
    },
    {
      "cell_type": "code",
      "source": [
        "model_with_interaction.summary()"
      ],
      "outputs": [],
      "execution_count": null,
      "metadata": {}
    },
    {
      "cell_type": "markdown",
      "source": [
        "We can see that the interaction term is helpful - the p-value is less than 0.05. The model is also performing better than our previous attempts.\n",
        "\n",
        "## Making predictions with multiple features\n",
        "\n",
        "Very quickly, lets explore what this interaction means by looking at model predictions. \n",
        "\n",
        "We will first graph two independent features in 3D. Let's start with `weak_layers` and `wind`:"
      ],
      "metadata": {}
    },
    {
      "cell_type": "code",
      "source": [
        "graphing.model_to_surface_plot(model_with_interaction, [\"weak_layers\", \"wind\"], test)"
      ],
      "outputs": [],
      "execution_count": null,
      "metadata": {}
    },
    {
      "cell_type": "markdown",
      "source": [
        "The graph is interactive - rotate it and explore how there's a clear s-shaped relationship between the features and probability.\n",
        "\n",
        "Let's now look at the features that we've said can interact:"
      ],
      "metadata": {}
    },
    {
      "cell_type": "code",
      "source": [
        "graphing.model_to_surface_plot(model_with_interaction, [\"no_visitors\", \"fresh_thickness\"], test)"
      ],
      "outputs": [],
      "execution_count": null,
      "metadata": {}
    },
    {
      "cell_type": "markdown",
      "source": [
        "It looks quite different to the other! From any side, we can see an s-shape, but these combine in strange ways.\n",
        "\n",
        "We can see that the risk goes up on days with lots of visitors _and_ lots of snow. There is no real risk of avalanche when there's a lot of snow but no visitors, or when there are a lot of visitors but no snow.\n",
        "\n",
        "The fact that it shows high risk when there's no fresh snow and no visitors could be due to rain, which keeps visitors and snow clouds away but results in avalanches of the older snow. To confirm this, we'd need to explore the data in more depth, but we'll stop here for now.\n",
        "\n",
        "## Summary\n",
        "\n",
        "Well done! Let's recap. We've:\n",
        "\n",
        "* improved our simple model by adding more features. \n",
        "* practiced interpreting our model coefficients (parameters) from the model summary\n",
        "* eliminated unnecessary features\n",
        "* explored how sometimes it's important to think about what your data really mean\n",
        "* created a model that combined features to give superior result"
      ],
      "metadata": {}
    }
  ],
  "metadata": {
    "kernelspec": {
      "name": "conda-env-py38_default-py",
      "language": "python",
      "display_name": "py38_default"
    },
    "language_info": {
      "name": "python",
      "version": "3.7.9",
      "mimetype": "text/x-python",
      "codemirror_mode": {
        "name": "ipython",
        "version": 3
      },
      "pygments_lexer": "ipython3",
      "nbconvert_exporter": "python",
      "file_extension": ".py"
    },
    "kernel_info": {
      "name": "conda-env-py38_default-py"
    },
    "nteract": {
      "version": "nteract-front-end@1.0.0"
    }
  },
  "nbformat": 4,
  "nbformat_minor": 2
}