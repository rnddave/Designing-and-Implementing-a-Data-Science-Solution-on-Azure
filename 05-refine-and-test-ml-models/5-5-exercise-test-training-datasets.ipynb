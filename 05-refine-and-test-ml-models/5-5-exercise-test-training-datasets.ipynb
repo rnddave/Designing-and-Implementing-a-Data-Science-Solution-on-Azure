{
  "cells": [
    {
      "cell_type": "markdown",
      "metadata": {},
      "source": [
        "# Training And Test Sets\n",
        "\n",
        "We have seen previously how to fit a model to a dataset. In this exercise, we'll be looking at how to check and confirm the validity and performance of our models by using training and testing sets.\n",
        "As usual, we begin by loading in and having a look at our data:"
      ]
    },
    {
      "cell_type": "code",
      "execution_count": 1,
      "metadata": {},
      "outputs": [
        {
          "name": "stdout",
          "output_type": "stream",
          "text": [
            "Requirement already satisfied: statsmodels in /Users/dickinsd/miniforge3/lib/python3.9/site-packages (0.13.2)\n",
            "Requirement already satisfied: scipy>=1.3 in /Users/dickinsd/miniforge3/lib/python3.9/site-packages (from statsmodels) (1.8.1)\n",
            "Requirement already satisfied: patsy>=0.5.2 in /Users/dickinsd/miniforge3/lib/python3.9/site-packages (from statsmodels) (0.5.2)\n",
            "Requirement already satisfied: numpy>=1.17 in /Users/dickinsd/miniforge3/lib/python3.9/site-packages (from statsmodels) (1.23.0rc2)\n",
            "Requirement already satisfied: packaging>=21.3 in /Users/dickinsd/miniforge3/lib/python3.9/site-packages (from statsmodels) (21.3)\n",
            "Requirement already satisfied: pandas>=0.25 in /Users/dickinsd/miniforge3/lib/python3.9/site-packages (from statsmodels) (1.4.2)\n",
            "Requirement already satisfied: pyparsing!=3.0.5,>=2.0.2 in /Users/dickinsd/miniforge3/lib/python3.9/site-packages (from packaging>=21.3->statsmodels) (3.0.9)\n",
            "Requirement already satisfied: python-dateutil>=2.8.1 in /Users/dickinsd/miniforge3/lib/python3.9/site-packages (from pandas>=0.25->statsmodels) (2.8.2)\n",
            "Requirement already satisfied: pytz>=2020.1 in /Users/dickinsd/miniforge3/lib/python3.9/site-packages (from pandas>=0.25->statsmodels) (2022.1)\n",
            "Requirement already satisfied: six in /Users/dickinsd/miniforge3/lib/python3.9/site-packages (from patsy>=0.5.2->statsmodels) (1.16.0)\n",
            "--2022-11-28 11:54:16--  https://raw.githubusercontent.com/MicrosoftDocs/mslearn-introduction-to-machine-learning/main/Data/dog-training-switzerland.csv\n",
            "Resolving raw.githubusercontent.com (raw.githubusercontent.com)... 185.199.110.133, 185.199.108.133, 185.199.111.133, ...\n",
            "Connecting to raw.githubusercontent.com (raw.githubusercontent.com)|185.199.110.133|:443... connected.\n",
            "HTTP request sent, awaiting response... 200 OK\n",
            "Length: 12362 (12K) [text/plain]\n",
            "Saving to: ‘dog-training-switzerland.csv’\n",
            "\n",
            "dog-training-switze 100%[===================>]  12.07K  --.-KB/s    in 0s      \n",
            "\n",
            "2022-11-28 11:54:16 (30.2 MB/s) - ‘dog-training-switzerland.csv’ saved [12362/12362]\n",
            "\n",
            "(50, 5)\n",
            "   month_old_when_trained  mean_rescues_per_year  age_last_year  \\\n",
            "0                      68                   21.1              9   \n",
            "1                      53                   14.9              5   \n",
            "2                      41                   20.5              6   \n",
            "3                       3                   19.4              1   \n",
            "4                       4                   24.9              4   \n",
            "\n",
            "   weight_last_year  rescues_last_year  \n",
            "0              14.5                 35  \n",
            "1              14.0                 30  \n",
            "2              17.7                 34  \n",
            "3              13.7                 29  \n",
            "4              18.4                 30  \n"
          ]
        }
      ],
      "source": [
        "import pandas\n",
        "!pip install statsmodels\n",
        "\"\"\" !wget https://raw.githubusercontent.com/MicrosoftDocs/mslearn-introduction-to-machine-learning/main/graphing.py\n",
        "!wget https://raw.githubusercontent.com/MicrosoftDocs/mslearn-introduction-to-machine-learning/main/Data/dog-training.csv\n",
        " \"\"\"\n",
        "!wget https://raw.githubusercontent.com/MicrosoftDocs/mslearn-introduction-to-machine-learning/main/Data/dog-training-switzerland.csv\n",
        "\n",
        "data = pandas.read_csv(\"dog-training.csv\", delimiter=\"\\t\")\n",
        "\n",
        "print(data.shape)\n",
        "print(data.head())"
      ]
    },
    {
      "cell_type": "markdown",
      "metadata": {},
      "source": [
        "We are interested in the relationship between a dog's weight and the amount of rescues it performed in the previous year. Let's begin by plotting `rescues_last_year` as a function of `weight_last_year`:"
      ]
    },
    {
      "cell_type": "code",
      "execution_count": 2,
      "metadata": {
        "tags": []
      },
      "outputs": [
        {
          "ename": "ModuleNotFoundError",
          "evalue": "No module named 'plotly'",
          "output_type": "error",
          "traceback": [
            "\u001b[0;31m---------------------------------------------------------------------------\u001b[0m",
            "\u001b[0;31mModuleNotFoundError\u001b[0m                       Traceback (most recent call last)",
            "\u001b[1;32m/Users/dickinsd/Github/Designing-and-Implementing-a-Data-Science-Solution-on-Azure/05-refine-and-test-ml-models/5-5-exercise-test-training-datasets.ipynb Cell 4\u001b[0m in \u001b[0;36m<cell line: 1>\u001b[0;34m()\u001b[0m\n\u001b[0;32m----> <a href='vscode-notebook-cell:/Users/dickinsd/Github/Designing-and-Implementing-a-Data-Science-Solution-on-Azure/05-refine-and-test-ml-models/5-5-exercise-test-training-datasets.ipynb#W3sZmlsZQ%3D%3D?line=0'>1</a>\u001b[0m \u001b[39mimport\u001b[39;00m \u001b[39mgraphing\u001b[39;00m\n\u001b[1;32m      <a href='vscode-notebook-cell:/Users/dickinsd/Github/Designing-and-Implementing-a-Data-Science-Solution-on-Azure/05-refine-and-test-ml-models/5-5-exercise-test-training-datasets.ipynb#W3sZmlsZQ%3D%3D?line=1'>2</a>\u001b[0m \u001b[39mimport\u001b[39;00m \u001b[39mstatsmodels\u001b[39;00m\u001b[39m.\u001b[39;00m\u001b[39mformula\u001b[39;00m\u001b[39m.\u001b[39;00m\u001b[39mapi\u001b[39;00m \u001b[39mas\u001b[39;00m \u001b[39msmf\u001b[39;00m\n\u001b[1;32m      <a href='vscode-notebook-cell:/Users/dickinsd/Github/Designing-and-Implementing-a-Data-Science-Solution-on-Azure/05-refine-and-test-ml-models/5-5-exercise-test-training-datasets.ipynb#W3sZmlsZQ%3D%3D?line=3'>4</a>\u001b[0m \u001b[39m# First, we define our formula using a special syntax\u001b[39;00m\n\u001b[1;32m      <a href='vscode-notebook-cell:/Users/dickinsd/Github/Designing-and-Implementing-a-Data-Science-Solution-on-Azure/05-refine-and-test-ml-models/5-5-exercise-test-training-datasets.ipynb#W3sZmlsZQ%3D%3D?line=4'>5</a>\u001b[0m \u001b[39m# This says that rescues_last_year is explained by weight_last_year\u001b[39;00m\n",
            "File \u001b[0;32m~/Github/Designing-and-Implementing-a-Data-Science-Solution-on-Azure/05-refine-and-test-ml-models/graphing.py:9\u001b[0m, in \u001b[0;36m<module>\u001b[0;34m\u001b[0m\n\u001b[1;32m      7\u001b[0m \u001b[39mfrom\u001b[39;00m \u001b[39mnumpy\u001b[39;00m\u001b[39m.\u001b[39;00m\u001b[39mcore\u001b[39;00m\u001b[39m.\u001b[39;00m\u001b[39mfromnumeric\u001b[39;00m \u001b[39mimport\u001b[39;00m repeat, shape\n\u001b[1;32m      8\u001b[0m \u001b[39mimport\u001b[39;00m \u001b[39mpandas\u001b[39;00m\n\u001b[0;32m----> 9\u001b[0m \u001b[39mimport\u001b[39;00m \u001b[39mplotly\u001b[39;00m\u001b[39m.\u001b[39;00m\u001b[39mexpress\u001b[39;00m \u001b[39mas\u001b[39;00m \u001b[39mpx\u001b[39;00m\n\u001b[1;32m     10\u001b[0m \u001b[39mimport\u001b[39;00m \u001b[39mplotly\u001b[39;00m\u001b[39m.\u001b[39;00m\u001b[39mio\u001b[39;00m \u001b[39mas\u001b[39;00m \u001b[39mpio\u001b[39;00m\n\u001b[1;32m     11\u001b[0m \u001b[39mimport\u001b[39;00m \u001b[39mplotly\u001b[39;00m\u001b[39m.\u001b[39;00m\u001b[39mgraph_objects\u001b[39;00m \u001b[39mas\u001b[39;00m \u001b[39mgraph_objects\u001b[39;00m\n",
            "\u001b[0;31mModuleNotFoundError\u001b[0m: No module named 'plotly'"
          ]
        }
      ],
      "source": [
        "import graphing\n",
        "import statsmodels.formula.api as smf\n",
        "\n",
        "# First, we define our formula using a special syntax\n",
        "# This says that rescues_last_year is explained by weight_last_year\n",
        "formula = \"rescues_last_year ~ weight_last_year\"\n",
        "\n",
        "model = smf.ols(formula = formula, data = data).fit()\n",
        "\n",
        "graphing.scatter_2D(data, \"weight_last_year\", \"rescues_last_year\", trendline = lambda x: model.params[1] * x + model.params[0])\n"
      ]
    },
    {
      "cell_type": "markdown",
      "metadata": {},
      "source": [
        "There seems to be a pretty clear relationship between a dog's weight and the number of rescues it's performed. \n",
        "That seems pretty reasonable, as we would expect heavier dogs to be bigger and stronger and thus better at saving lives!"
      ]
    },
    {
      "cell_type": "markdown",
      "metadata": {},
      "source": [
        "# Train/test split\n",
        "\n",
        "This time, instead of fitting a model to the entirety of our dataset, we're going to separate our dataset into two smaller partitions: a _training set_ and a _test set_.  \n",
        "The _training set_ is the largest of the two, usually made up of between 70-80% of the overall dataset, with the rest of the dataset making up the _test set_.\n",
        "By splitting our data, we're able to gauge the performance of our model when confronted with previously unseen data. \n",
        "\n",
        "Notice that data on the _test set_ is never used in training. For that reason it's commonly referred to as *unseen data* or data that is *unknown by the model*."
      ]
    },
    {
      "cell_type": "code",
      "execution_count": 3,
      "metadata": {
        "scrolled": false
      },
      "outputs": [
        {
          "name": "stdout",
          "output_type": "stream",
          "text": [
            "Train\n",
            "    rescues_last_year  weight_last_year\n",
            "33                 30              19.4\n",
            "0                  35              14.5\n",
            "13                 36              19.5\n",
            "28                 31              16.1\n",
            "49                 37              23.0\n",
            "(35, 2)\n",
            "Test\n",
            "    rescues_last_year  weight_last_year\n",
            "7                  37              17.1\n",
            "44                 25              15.4\n",
            "43                 26              20.0\n",
            "25                 32              22.2\n",
            "14                 32              18.3\n",
            "(15, 2)\n"
          ]
        }
      ],
      "source": [
        "from sklearn.model_selection import train_test_split\n",
        "\n",
        "\n",
        "# Obtain the label and feature from the original data\n",
        "dataset = data[['rescues_last_year','weight_last_year']]\n",
        "\n",
        "# Split the dataset in an 70/30 train/test ratio. We also obtain the respective corresponding indices from the original dataset.\n",
        "train, test = train_test_split(dataset, train_size=0.7, random_state=21)\n",
        "\n",
        "print(\"Train\")\n",
        "print(train.head())\n",
        "print(train.shape)\n",
        "\n",
        "print(\"Test\")\n",
        "print(test.head())\n",
        "print(test.shape)"
      ]
    },
    {
      "cell_type": "markdown",
      "metadata": {},
      "source": [
        "We can see that these sets are different, and that the _training set_ and _test set_ contain 70% and 30% of the overall data respectively.\n",
        "\n",
        "Let's have a look at how the _training set_ and _test set_ are separated out:"
      ]
    },
    {
      "cell_type": "code",
      "execution_count": 4,
      "metadata": {},
      "outputs": [
        {
          "ename": "NameError",
          "evalue": "name 'graphing' is not defined",
          "output_type": "error",
          "traceback": [
            "\u001b[0;31m---------------------------------------------------------------------------\u001b[0m",
            "\u001b[0;31mNameError\u001b[0m                                 Traceback (most recent call last)",
            "\u001b[1;32m/Users/dickinsd/Github/Designing-and-Implementing-a-Data-Science-Solution-on-Azure/05-refine-and-test-ml-models/5-5-exercise-test-training-datasets.ipynb Cell 9\u001b[0m in \u001b[0;36m<cell line: 9>\u001b[0;34m()\u001b[0m\n\u001b[1;32m      <a href='vscode-notebook-cell:/Users/dickinsd/Github/Designing-and-Implementing-a-Data-Science-Solution-on-Azure/05-refine-and-test-ml-models/5-5-exercise-test-training-datasets.ipynb#X11sZmlsZQ%3D%3D?line=5'>6</a>\u001b[0m plot_set[\u001b[39m\"\u001b[39m\u001b[39mDataset\u001b[39m\u001b[39m\"\u001b[39m] \u001b[39m=\u001b[39m [\u001b[39m\"\u001b[39m\u001b[39mtrain\u001b[39m\u001b[39m\"\u001b[39m] \u001b[39m*\u001b[39m \u001b[39mlen\u001b[39m(train) \u001b[39m+\u001b[39m [\u001b[39m\"\u001b[39m\u001b[39mtest\u001b[39m\u001b[39m\"\u001b[39m] \u001b[39m*\u001b[39m \u001b[39mlen\u001b[39m(test)\n\u001b[1;32m      <a href='vscode-notebook-cell:/Users/dickinsd/Github/Designing-and-Implementing-a-Data-Science-Solution-on-Azure/05-refine-and-test-ml-models/5-5-exercise-test-training-datasets.ipynb#X11sZmlsZQ%3D%3D?line=7'>8</a>\u001b[0m \u001b[39m# Create graph\u001b[39;00m\n\u001b[0;32m----> <a href='vscode-notebook-cell:/Users/dickinsd/Github/Designing-and-Implementing-a-Data-Science-Solution-on-Azure/05-refine-and-test-ml-models/5-5-exercise-test-training-datasets.ipynb#X11sZmlsZQ%3D%3D?line=8'>9</a>\u001b[0m graphing\u001b[39m.\u001b[39mscatter_2D(plot_set, \u001b[39m\"\u001b[39m\u001b[39mweight_last_year\u001b[39m\u001b[39m\"\u001b[39m, \u001b[39m\"\u001b[39m\u001b[39mrescues_last_year\u001b[39m\u001b[39m\"\u001b[39m, \u001b[39m\"\u001b[39m\u001b[39mDataset\u001b[39m\u001b[39m\"\u001b[39m, trendline \u001b[39m=\u001b[39m \u001b[39mlambda\u001b[39;00m x: model\u001b[39m.\u001b[39mparams[\u001b[39m1\u001b[39m] \u001b[39m*\u001b[39m x \u001b[39m+\u001b[39m model\u001b[39m.\u001b[39mparams[\u001b[39m0\u001b[39m])\n",
            "\u001b[0;31mNameError\u001b[0m: name 'graphing' is not defined"
          ]
        }
      ],
      "source": [
        "# You don't need to understand this code well\n",
        "# It's just used to create a scatter plot\n",
        "\n",
        "# concatenate training and test so they can be graphed\n",
        "plot_set = pandas.concat([train,test])\n",
        "plot_set[\"Dataset\"] = [\"train\"] * len(train) + [\"test\"] * len(test)\n",
        "\n",
        "# Create graph\n",
        "graphing.scatter_2D(plot_set, \"weight_last_year\", \"rescues_last_year\", \"Dataset\", trendline = lambda x: model.params[1] * x + model.params[0])"
      ]
    },
    {
      "cell_type": "markdown",
      "metadata": {},
      "source": [
        "# Training Set\n",
        "\n",
        "We begin by training our model using the _training set_, and testing its performance with the same _training set_:"
      ]
    },
    {
      "cell_type": "code",
      "execution_count": 6,
      "metadata": {
        "scrolled": true
      },
      "outputs": [
        {
          "ename": "NameError",
          "evalue": "name 'graphing' is not defined",
          "output_type": "error",
          "traceback": [
            "\u001b[0;31m---------------------------------------------------------------------------\u001b[0m",
            "\u001b[0;31mNameError\u001b[0m                                 Traceback (most recent call last)",
            "\u001b[1;32m/Users/dickinsd/Github/Designing-and-Implementing-a-Data-Science-Solution-on-Azure/05-refine-and-test-ml-models/5-5-exercise-test-training-datasets.ipynb Cell 11\u001b[0m in \u001b[0;36m<cell line: 12>\u001b[0;34m()\u001b[0m\n\u001b[1;32m      <a href='vscode-notebook-cell:/Users/dickinsd/Github/Designing-and-Implementing-a-Data-Science-Solution-on-Azure/05-refine-and-test-ml-models/5-5-exercise-test-training-datasets.ipynb#X13sZmlsZQ%3D%3D?line=8'>9</a>\u001b[0m model \u001b[39m=\u001b[39m smf\u001b[39m.\u001b[39mols(formula \u001b[39m=\u001b[39m formula, data \u001b[39m=\u001b[39m train)\u001b[39m.\u001b[39mfit()\n\u001b[1;32m     <a href='vscode-notebook-cell:/Users/dickinsd/Github/Designing-and-Implementing-a-Data-Science-Solution-on-Azure/05-refine-and-test-ml-models/5-5-exercise-test-training-datasets.ipynb#X13sZmlsZQ%3D%3D?line=10'>11</a>\u001b[0m \u001b[39m# Graph the result against the data\u001b[39;00m\n\u001b[0;32m---> <a href='vscode-notebook-cell:/Users/dickinsd/Github/Designing-and-Implementing-a-Data-Science-Solution-on-Azure/05-refine-and-test-ml-models/5-5-exercise-test-training-datasets.ipynb#X13sZmlsZQ%3D%3D?line=11'>12</a>\u001b[0m graphing\u001b[39m.\u001b[39mscatter_2D(train, \u001b[39m\"\u001b[39m\u001b[39mweight_last_year\u001b[39m\u001b[39m\"\u001b[39m, \u001b[39m\"\u001b[39m\u001b[39mrescues_last_year\u001b[39m\u001b[39m\"\u001b[39m, trendline \u001b[39m=\u001b[39m \u001b[39mlambda\u001b[39;00m x: model\u001b[39m.\u001b[39mparams[\u001b[39m1\u001b[39m] \u001b[39m*\u001b[39m x \u001b[39m+\u001b[39m model\u001b[39m.\u001b[39mparams[\u001b[39m0\u001b[39m])\n",
            "\u001b[0;31mNameError\u001b[0m: name 'graphing' is not defined"
          ]
        }
      ],
      "source": [
        "import statsmodels.formula.api as smf\n",
        "from sklearn.metrics import mean_squared_error as mse\n",
        "\n",
        "# First, we define our formula using a special syntax\n",
        "# This says that rescues_last_year is explained by weight_last_year\n",
        "formula = \"rescues_last_year ~ weight_last_year\"\n",
        "\n",
        "# Create and train the model\n",
        "model = smf.ols(formula = formula, data = train).fit()\n",
        "\n",
        "# Graph the result against the data\n",
        "graphing.scatter_2D(train, \"weight_last_year\", \"rescues_last_year\", trendline = lambda x: model.params[1] * x + model.params[0])"
      ]
    },
    {
      "cell_type": "markdown",
      "metadata": {},
      "source": [
        "We can gauge our model's performance by calculating the _mean squared error_ (MSE)."
      ]
    },
    {
      "cell_type": "code",
      "execution_count": 7,
      "metadata": {},
      "outputs": [
        {
          "name": "stdout",
          "output_type": "stream",
          "text": [
            "MSE = 18.674546 \n"
          ]
        }
      ],
      "source": [
        "# We use the in-buit sklearn function to calculate the MSE\n",
        "correct_labels = train['rescues_last_year']\n",
        "predicted = model.predict(train['weight_last_year'])\n",
        "\n",
        "MSE = mse(correct_labels, predicted)\n",
        "print('MSE = %f ' % MSE)"
      ]
    },
    {
      "cell_type": "markdown",
      "metadata": {},
      "source": [
        "# Test Set\n",
        "\n",
        "Next, we test the same model's performance using the _test set_:"
      ]
    },
    {
      "cell_type": "code",
      "execution_count": 8,
      "metadata": {},
      "outputs": [
        {
          "ename": "NameError",
          "evalue": "name 'graphing' is not defined",
          "output_type": "error",
          "traceback": [
            "\u001b[0;31m---------------------------------------------------------------------------\u001b[0m",
            "\u001b[0;31mNameError\u001b[0m                                 Traceback (most recent call last)",
            "\u001b[1;32m/Users/dickinsd/Github/Designing-and-Implementing-a-Data-Science-Solution-on-Azure/05-refine-and-test-ml-models/5-5-exercise-test-training-datasets.ipynb Cell 15\u001b[0m in \u001b[0;36m<cell line: 1>\u001b[0;34m()\u001b[0m\n\u001b[0;32m----> <a href='vscode-notebook-cell:/Users/dickinsd/Github/Designing-and-Implementing-a-Data-Science-Solution-on-Azure/05-refine-and-test-ml-models/5-5-exercise-test-training-datasets.ipynb#X20sZmlsZQ%3D%3D?line=0'>1</a>\u001b[0m graphing\u001b[39m.\u001b[39mscatter_2D(test, \u001b[39m\"\u001b[39m\u001b[39mweight_last_year\u001b[39m\u001b[39m\"\u001b[39m, \u001b[39m\"\u001b[39m\u001b[39mrescues_last_year\u001b[39m\u001b[39m\"\u001b[39m, trendline \u001b[39m=\u001b[39m \u001b[39mlambda\u001b[39;00m x: model\u001b[39m.\u001b[39mparams[\u001b[39m1\u001b[39m] \u001b[39m*\u001b[39m x \u001b[39m+\u001b[39m model\u001b[39m.\u001b[39mparams[\u001b[39m0\u001b[39m])\n",
            "\u001b[0;31mNameError\u001b[0m: name 'graphing' is not defined"
          ]
        }
      ],
      "source": [
        "graphing.scatter_2D(test, \"weight_last_year\", \"rescues_last_year\", trendline = lambda x: model.params[1] * x + model.params[0])"
      ]
    },
    {
      "cell_type": "markdown",
      "metadata": {},
      "source": [
        "Let's have a look at the MSE again."
      ]
    },
    {
      "cell_type": "code",
      "execution_count": 9,
      "metadata": {},
      "outputs": [
        {
          "name": "stdout",
          "output_type": "stream",
          "text": [
            "MSE = 24.352949 \n"
          ]
        }
      ],
      "source": [
        "correct_labels = test['rescues_last_year']\n",
        "predicted = model.predict(test['weight_last_year'])\n",
        "\n",
        "MSE = mse(correct_labels, predicted)\n",
        "print('MSE = %f ' % MSE)"
      ]
    },
    {
      "cell_type": "markdown",
      "metadata": {},
      "source": [
        "We can see that the model performs much better on the known _training data_ than on the unseen _test data_ (remember that higher MSE values are worse).  \n",
        "\n",
        "This can be down to a number of factors but first and foremost is _overfitting_, which is when a model matches the data in the _training set_ too closely. This means that it will perform very well on the _training set_, but will not _generalize_ well. (i.e., work well with other datasets)."
      ]
    },
    {
      "cell_type": "markdown",
      "metadata": {},
      "source": [
        "# New Dataset\n",
        "\n",
        "To illustrate our point further, let's have a look at how our model performs when confronted with a completely new, unseen, and larger dataset. For our scenario, we'll use data provided by the avalanche rescue charity's European branch."
      ]
    },
    {
      "cell_type": "code",
      "execution_count": 10,
      "metadata": {},
      "outputs": [
        {
          "name": "stdout",
          "output_type": "stream",
          "text": [
            "(500, 5)\n"
          ]
        },
        {
          "data": {
            "text/html": [
              "<div>\n",
              "<style scoped>\n",
              "    .dataframe tbody tr th:only-of-type {\n",
              "        vertical-align: middle;\n",
              "    }\n",
              "\n",
              "    .dataframe tbody tr th {\n",
              "        vertical-align: top;\n",
              "    }\n",
              "\n",
              "    .dataframe thead th {\n",
              "        text-align: right;\n",
              "    }\n",
              "</style>\n",
              "<table border=\"1\" class=\"dataframe\">\n",
              "  <thead>\n",
              "    <tr style=\"text-align: right;\">\n",
              "      <th></th>\n",
              "      <th>month_old_when_trained</th>\n",
              "      <th>mean_rescues_per_year</th>\n",
              "      <th>age_last_year</th>\n",
              "      <th>weight_last_year</th>\n",
              "      <th>rescues_last_year</th>\n",
              "    </tr>\n",
              "  </thead>\n",
              "  <tbody>\n",
              "    <tr>\n",
              "      <th>0</th>\n",
              "      <td>9</td>\n",
              "      <td>16.7</td>\n",
              "      <td>2</td>\n",
              "      <td>15.709342</td>\n",
              "      <td>30</td>\n",
              "    </tr>\n",
              "    <tr>\n",
              "      <th>1</th>\n",
              "      <td>33</td>\n",
              "      <td>24.2</td>\n",
              "      <td>8</td>\n",
              "      <td>14.760819</td>\n",
              "      <td>35</td>\n",
              "    </tr>\n",
              "    <tr>\n",
              "      <th>2</th>\n",
              "      <td>43</td>\n",
              "      <td>20.2</td>\n",
              "      <td>4</td>\n",
              "      <td>13.118374</td>\n",
              "      <td>19</td>\n",
              "    </tr>\n",
              "    <tr>\n",
              "      <th>3</th>\n",
              "      <td>37</td>\n",
              "      <td>19.2</td>\n",
              "      <td>5</td>\n",
              "      <td>10.614075</td>\n",
              "      <td>24</td>\n",
              "    </tr>\n",
              "    <tr>\n",
              "      <th>4</th>\n",
              "      <td>45</td>\n",
              "      <td>16.9</td>\n",
              "      <td>8</td>\n",
              "      <td>17.519890</td>\n",
              "      <td>28</td>\n",
              "    </tr>\n",
              "  </tbody>\n",
              "</table>\n",
              "</div>"
            ],
            "text/plain": [
              "   month_old_when_trained  mean_rescues_per_year  age_last_year  \\\n",
              "0                       9                   16.7              2   \n",
              "1                      33                   24.2              8   \n",
              "2                      43                   20.2              4   \n",
              "3                      37                   19.2              5   \n",
              "4                      45                   16.9              8   \n",
              "\n",
              "   weight_last_year  rescues_last_year  \n",
              "0         15.709342                 30  \n",
              "1         14.760819                 35  \n",
              "2         13.118374                 19  \n",
              "3         10.614075                 24  \n",
              "4         17.519890                 28  "
            ]
          },
          "execution_count": 10,
          "metadata": {},
          "output_type": "execute_result"
        }
      ],
      "source": [
        "# Load an alternative dataset from the charity's European branch\n",
        "new_data = pandas.read_csv(\"dog-training-switzerland.csv\", delimiter=\"\\t\")\n",
        "\n",
        "print(new_data.shape)\n",
        "new_data.head()\n"
      ]
    },
    {
      "cell_type": "markdown",
      "metadata": {},
      "source": [
        "The features are the same, but we have much more data this time. Let's see how our model does!"
      ]
    },
    {
      "cell_type": "code",
      "execution_count": null,
      "metadata": {},
      "outputs": [],
      "source": [
        "# Plot the fitted model against this new dataset. \n",
        "\n",
        "graphing.scatter_2D(new_data, \"weight_last_year\", \"rescues_last_year\", trendline = lambda x: model.params[1] * x + model.params[0])"
      ]
    },
    {
      "cell_type": "markdown",
      "metadata": {},
      "source": [
        "And now the MSE:"
      ]
    },
    {
      "cell_type": "code",
      "execution_count": 11,
      "metadata": {},
      "outputs": [
        {
          "name": "stdout",
          "output_type": "stream",
          "text": [
            "MSE = 20.406905 \n"
          ]
        }
      ],
      "source": [
        "correct_labels = new_data['rescues_last_year']\n",
        "predicted = model.predict(new_data['weight_last_year'])\n",
        "\n",
        "MSE = mse(correct_labels, predicted)\n",
        "print('MSE = %f ' % MSE)"
      ]
    },
    {
      "cell_type": "markdown",
      "metadata": {},
      "source": [
        "As expected, the model performs better on the training dataset as it does on the unseen dataset. This is simply due to overfitting, as we saw previously.\n",
        "\n",
        "Interestingly, the model performs better on this unseen dataset than it does on the _test set_. This is because our previous test set was quite small, and thus not a very good representation of 'real world' data. By contrast, this unseen dataset is large and a much better representation of data we'll find outside of the lab. In essence, this shows us that part of performance difference we see between training and test is due to model overfitting, and part of the error is due to the test set not being perfect. In the next exercises, we'll explore the trade-off we have to make between training and test dataset sizes. \n",
        "\n",
        "# Summary\n",
        "\n",
        "In this exercise we covered the following concepts:\n",
        "\n",
        " - Splitting a dataset into a _training set_ and a _test set_.\n",
        " - Training a model using the _training set_ and testing its performance on the _training set_, _test set_, and on a new, unseen dataset.\n",
        " - Compared the respective MSEs to highlight the effects and dangers of _overfitting_.\n"
      ]
    }
  ],
  "metadata": {
    "kernel_info": {
      "name": "conda-env-py38_default-py"
    },
    "kernelspec": {
      "display_name": "Python 3.9.13 ('base')",
      "language": "python",
      "name": "python3"
    },
    "language_info": {
      "codemirror_mode": {
        "name": "ipython",
        "version": 3
      },
      "file_extension": ".py",
      "mimetype": "text/x-python",
      "name": "python",
      "nbconvert_exporter": "python",
      "pygments_lexer": "ipython3",
      "version": "3.9.13"
    },
    "nteract": {
      "version": "nteract-front-end@1.0.0"
    },
    "vscode": {
      "interpreter": {
        "hash": "29ba88fc74c30cfb08fb6ce3b25c2ccd724cd11e96a643650e6c772fb9859a2d"
      }
    }
  },
  "nbformat": 4,
  "nbformat_minor": 2
}
