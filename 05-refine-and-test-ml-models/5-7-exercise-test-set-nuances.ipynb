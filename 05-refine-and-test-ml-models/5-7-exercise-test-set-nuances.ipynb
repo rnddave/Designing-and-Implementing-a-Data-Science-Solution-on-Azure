{
  "cells": [
    {
      "cell_type": "markdown",
      "metadata": {},
      "source": [
        "# Test sets in depth\n",
        "\n",
        "In the previous exercise we looked at how to split our data into training and test sets to evaluate model performance.\n",
        "\n",
        "We will now repeat the last exercise, but this time we'll look at what happens when we split the data in different ways and ratios.\n",
        "\n",
        "First let's recall what's in our dataset:"
      ]
    },
    {
      "cell_type": "code",
      "execution_count": 1,
      "metadata": {},
      "outputs": [
        {
          "name": "stdout",
          "output_type": "stream",
          "text": [
            "Requirement already satisfied: statsmodels in /Users/dickinsd/miniforge3/lib/python3.9/site-packages (0.13.2)\n",
            "Requirement already satisfied: scipy>=1.3 in /Users/dickinsd/miniforge3/lib/python3.9/site-packages (from statsmodels) (1.8.1)\n",
            "Requirement already satisfied: patsy>=0.5.2 in /Users/dickinsd/miniforge3/lib/python3.9/site-packages (from statsmodels) (0.5.2)\n",
            "Requirement already satisfied: packaging>=21.3 in /Users/dickinsd/miniforge3/lib/python3.9/site-packages (from statsmodels) (21.3)\n",
            "Requirement already satisfied: pandas>=0.25 in /Users/dickinsd/miniforge3/lib/python3.9/site-packages (from statsmodels) (1.4.2)\n",
            "Requirement already satisfied: numpy>=1.17 in /Users/dickinsd/miniforge3/lib/python3.9/site-packages (from statsmodels) (1.23.0rc2)\n",
            "Requirement already satisfied: pyparsing!=3.0.5,>=2.0.2 in /Users/dickinsd/miniforge3/lib/python3.9/site-packages (from packaging>=21.3->statsmodels) (3.0.9)\n",
            "Requirement already satisfied: python-dateutil>=2.8.1 in /Users/dickinsd/miniforge3/lib/python3.9/site-packages (from pandas>=0.25->statsmodels) (2.8.2)\n",
            "Requirement already satisfied: pytz>=2020.1 in /Users/dickinsd/miniforge3/lib/python3.9/site-packages (from pandas>=0.25->statsmodels) (2022.1)\n",
            "Requirement already satisfied: six in /Users/dickinsd/miniforge3/lib/python3.9/site-packages (from patsy>=0.5.2->statsmodels) (1.16.0)\n",
            "Dataset shape: (50, 5)\n"
          ]
        },
        {
          "data": {
            "text/html": [
              "<div>\n",
              "<style scoped>\n",
              "    .dataframe tbody tr th:only-of-type {\n",
              "        vertical-align: middle;\n",
              "    }\n",
              "\n",
              "    .dataframe tbody tr th {\n",
              "        vertical-align: top;\n",
              "    }\n",
              "\n",
              "    .dataframe thead th {\n",
              "        text-align: right;\n",
              "    }\n",
              "</style>\n",
              "<table border=\"1\" class=\"dataframe\">\n",
              "  <thead>\n",
              "    <tr style=\"text-align: right;\">\n",
              "      <th></th>\n",
              "      <th>month_old_when_trained</th>\n",
              "      <th>mean_rescues_per_year</th>\n",
              "      <th>age_last_year</th>\n",
              "      <th>weight_last_year</th>\n",
              "      <th>rescues_last_year</th>\n",
              "    </tr>\n",
              "  </thead>\n",
              "  <tbody>\n",
              "    <tr>\n",
              "      <th>0</th>\n",
              "      <td>68</td>\n",
              "      <td>21.1</td>\n",
              "      <td>9</td>\n",
              "      <td>14.5</td>\n",
              "      <td>35</td>\n",
              "    </tr>\n",
              "    <tr>\n",
              "      <th>1</th>\n",
              "      <td>53</td>\n",
              "      <td>14.9</td>\n",
              "      <td>5</td>\n",
              "      <td>14.0</td>\n",
              "      <td>30</td>\n",
              "    </tr>\n",
              "    <tr>\n",
              "      <th>2</th>\n",
              "      <td>41</td>\n",
              "      <td>20.5</td>\n",
              "      <td>6</td>\n",
              "      <td>17.7</td>\n",
              "      <td>34</td>\n",
              "    </tr>\n",
              "    <tr>\n",
              "      <th>3</th>\n",
              "      <td>3</td>\n",
              "      <td>19.4</td>\n",
              "      <td>1</td>\n",
              "      <td>13.7</td>\n",
              "      <td>29</td>\n",
              "    </tr>\n",
              "    <tr>\n",
              "      <th>4</th>\n",
              "      <td>4</td>\n",
              "      <td>24.9</td>\n",
              "      <td>4</td>\n",
              "      <td>18.4</td>\n",
              "      <td>30</td>\n",
              "    </tr>\n",
              "  </tbody>\n",
              "</table>\n",
              "</div>"
            ],
            "text/plain": [
              "   month_old_when_trained  mean_rescues_per_year  age_last_year  \\\n",
              "0                      68                   21.1              9   \n",
              "1                      53                   14.9              5   \n",
              "2                      41                   20.5              6   \n",
              "3                       3                   19.4              1   \n",
              "4                       4                   24.9              4   \n",
              "\n",
              "   weight_last_year  rescues_last_year  \n",
              "0              14.5                 35  \n",
              "1              14.0                 30  \n",
              "2              17.7                 34  \n",
              "3              13.7                 29  \n",
              "4              18.4                 30  "
            ]
          },
          "execution_count": 1,
          "metadata": {},
          "output_type": "execute_result"
        }
      ],
      "source": [
        "import pandas\n",
        "!pip install statsmodels\n",
        "\"\"\" !wget https://raw.githubusercontent.com/MicrosoftDocs/mslearn-introduction-to-machine-learning/main/Data/dog-training.csv\n",
        "!wget https://raw.githubusercontent.com/MicrosoftDocs/mslearn-introduction-to-machine-learning/main/Data/dog-training-switzerland.csv\n",
        "!wget https://raw.githubusercontent.com/MicrosoftDocs/mslearn-introduction-to-machine-learning/main/graphing.py\n",
        "import graphing\n",
        " \"\"\"\n",
        "data = pandas.read_csv(\"dog-training.csv\", delimiter=\"\\t\")\n",
        "\n",
        "print(f\"Dataset shape: {data.shape}\")\n",
        "data.head()"
      ]
    },
    {
      "cell_type": "markdown",
      "metadata": {},
      "source": [
        "Let's take a quick recap at what the distribution of our data looks like (remember that we were using `weight_last_year` to predict the value of `rescues_last_year`). "
      ]
    },
    {
      "cell_type": "code",
      "execution_count": 2,
      "metadata": {},
      "outputs": [
        {
          "name": "stdout",
          "output_type": "stream",
          "text": [
            "No. observations: 50\n"
          ]
        },
        {
          "ename": "NameError",
          "evalue": "name 'graphing' is not defined",
          "output_type": "error",
          "traceback": [
            "\u001b[0;31m---------------------------------------------------------------------------\u001b[0m",
            "\u001b[0;31mNameError\u001b[0m                                 Traceback (most recent call last)",
            "\u001b[1;32m/Users/dickinsd/Github/Designing-and-Implementing-a-Data-Science-Solution-on-Azure/05-refine-and-test-ml-models/5-7-exercise-test-set-nuances.ipynb Cell 4\u001b[0m in \u001b[0;36m<cell line: 8>\u001b[0;34m()\u001b[0m\n\u001b[1;32m      <a href='vscode-notebook-cell:/Users/dickinsd/Github/Designing-and-Implementing-a-Data-Science-Solution-on-Azure/05-refine-and-test-ml-models/5-7-exercise-test-set-nuances.ipynb#W3sZmlsZQ%3D%3D?line=4'>5</a>\u001b[0m \u001b[39mprint\u001b[39m(\u001b[39m\"\u001b[39m\u001b[39mNo. observations:\u001b[39m\u001b[39m\"\u001b[39m, dataset\u001b[39m.\u001b[39mshape[\u001b[39m0\u001b[39m])\n\u001b[1;32m      <a href='vscode-notebook-cell:/Users/dickinsd/Github/Designing-and-Implementing-a-Data-Science-Solution-on-Azure/05-refine-and-test-ml-models/5-7-exercise-test-set-nuances.ipynb#W3sZmlsZQ%3D%3D?line=6'>7</a>\u001b[0m \u001b[39m# Graph the distribution of variables for the unsplit dataset\u001b[39;00m\n\u001b[0;32m----> <a href='vscode-notebook-cell:/Users/dickinsd/Github/Designing-and-Implementing-a-Data-Science-Solution-on-Azure/05-refine-and-test-ml-models/5-7-exercise-test-set-nuances.ipynb#W3sZmlsZQ%3D%3D?line=7'>8</a>\u001b[0m graphing\u001b[39m.\u001b[39mscatter_2D(dataset, \u001b[39m'\u001b[39m\u001b[39mrescues_last_year\u001b[39m\u001b[39m'\u001b[39m, \u001b[39m'\u001b[39m\u001b[39mweight_last_year\u001b[39m\u001b[39m'\u001b[39m)\n",
            "\u001b[0;31mNameError\u001b[0m: name 'graphing' is not defined"
          ]
        }
      ],
      "source": [
        "# Obtain the label and feature from the original data\n",
        "dataset = data[['rescues_last_year','weight_last_year']]\n",
        "\n",
        "# Print the number of observations\n",
        "print(\"No. observations:\", dataset.shape[0])\n",
        "\n",
        "# Graph the distribution of variables for the unsplit dataset\n",
        "graphing.scatter_2D(dataset, 'rescues_last_year', 'weight_last_year')"
      ]
    },
    {
      "cell_type": "markdown",
      "metadata": {},
      "source": [
        "Notice we have 50 observations plotted (which corresponds to the number of samples in the dataset).\n",
        "\n",
        "## Dataset split ratio comparison\n",
        "We will now split our dataset using different ratios to understand how these can affect our models"
      ]
    },
    {
      "cell_type": "code",
      "execution_count": 3,
      "metadata": {
        "tags": []
      },
      "outputs": [
        {
          "ename": "NameError",
          "evalue": "name 'graphing' is not defined",
          "output_type": "error",
          "traceback": [
            "\u001b[0;31m---------------------------------------------------------------------------\u001b[0m",
            "\u001b[0;31mNameError\u001b[0m                                 Traceback (most recent call last)",
            "\u001b[1;32m/Users/dickinsd/Github/Designing-and-Implementing-a-Data-Science-Solution-on-Azure/05-refine-and-test-ml-models/5-7-exercise-test-set-nuances.ipynb Cell 6\u001b[0m in \u001b[0;36m<cell line: 22>\u001b[0;34m()\u001b[0m\n\u001b[1;32m     <a href='vscode-notebook-cell:/Users/dickinsd/Github/Designing-and-Implementing-a-Data-Science-Solution-on-Azure/05-refine-and-test-ml-models/5-7-exercise-test-set-nuances.ipynb#W5sZmlsZQ%3D%3D?line=18'>19</a>\u001b[0m df_8020 \u001b[39m=\u001b[39m pandas\u001b[39m.\u001b[39mconcat([train_8020, test_8020], axis\u001b[39m=\u001b[39m\u001b[39m0\u001b[39m)\n\u001b[1;32m     <a href='vscode-notebook-cell:/Users/dickinsd/Github/Designing-and-Implementing-a-Data-Science-Solution-on-Azure/05-refine-and-test-ml-models/5-7-exercise-test-set-nuances.ipynb#W5sZmlsZQ%3D%3D?line=20'>21</a>\u001b[0m \u001b[39m# Plot each distribution for comparison\u001b[39;00m\n\u001b[0;32m---> <a href='vscode-notebook-cell:/Users/dickinsd/Github/Designing-and-Implementing-a-Data-Science-Solution-on-Azure/05-refine-and-test-ml-models/5-7-exercise-test-set-nuances.ipynb#W5sZmlsZQ%3D%3D?line=21'>22</a>\u001b[0m graphing\u001b[39m.\u001b[39mscatter_2D(df_5050, \u001b[39m\"\u001b[39m\u001b[39mweight_last_year\u001b[39m\u001b[39m\"\u001b[39m, \u001b[39m\"\u001b[39m\u001b[39mrescues_last_year\u001b[39m\u001b[39m\"\u001b[39m, title\u001b[39m=\u001b[39m\u001b[39m\"\u001b[39m\u001b[39m50:50 split\u001b[39m\u001b[39m\"\u001b[39m, label_colour\u001b[39m=\u001b[39m\u001b[39m\"\u001b[39m\u001b[39mSet\u001b[39m\u001b[39m\"\u001b[39m, show\u001b[39m=\u001b[39m\u001b[39mTrue\u001b[39;00m)\n\u001b[1;32m     <a href='vscode-notebook-cell:/Users/dickinsd/Github/Designing-and-Implementing-a-Data-Science-Solution-on-Azure/05-refine-and-test-ml-models/5-7-exercise-test-set-nuances.ipynb#W5sZmlsZQ%3D%3D?line=22'>23</a>\u001b[0m graphing\u001b[39m.\u001b[39mscatter_2D(df_6040, \u001b[39m\"\u001b[39m\u001b[39mweight_last_year\u001b[39m\u001b[39m\"\u001b[39m, \u001b[39m\"\u001b[39m\u001b[39mrescues_last_year\u001b[39m\u001b[39m\"\u001b[39m, title\u001b[39m=\u001b[39m\u001b[39m\"\u001b[39m\u001b[39m60:40 split\u001b[39m\u001b[39m\"\u001b[39m, label_colour\u001b[39m=\u001b[39m\u001b[39m\"\u001b[39m\u001b[39mSet\u001b[39m\u001b[39m\"\u001b[39m, show\u001b[39m=\u001b[39m\u001b[39mTrue\u001b[39;00m)\n\u001b[1;32m     <a href='vscode-notebook-cell:/Users/dickinsd/Github/Designing-and-Implementing-a-Data-Science-Solution-on-Azure/05-refine-and-test-ml-models/5-7-exercise-test-set-nuances.ipynb#W5sZmlsZQ%3D%3D?line=23'>24</a>\u001b[0m graphing\u001b[39m.\u001b[39mscatter_2D(df_7030, \u001b[39m\"\u001b[39m\u001b[39mweight_last_year\u001b[39m\u001b[39m\"\u001b[39m, \u001b[39m\"\u001b[39m\u001b[39mrescues_last_year\u001b[39m\u001b[39m\"\u001b[39m, title\u001b[39m=\u001b[39m\u001b[39m\"\u001b[39m\u001b[39m70:30 split\u001b[39m\u001b[39m\"\u001b[39m, label_colour\u001b[39m=\u001b[39m\u001b[39m\"\u001b[39m\u001b[39mSet\u001b[39m\u001b[39m\"\u001b[39m, show\u001b[39m=\u001b[39m\u001b[39mTrue\u001b[39;00m)\n",
            "\u001b[0;31mNameError\u001b[0m: name 'graphing' is not defined"
          ]
        }
      ],
      "source": [
        "from sklearn.model_selection import train_test_split\n",
        "\n",
        "# Split Dataset using different ratios 50:50, 60:40, 70:30, 80:20\n",
        "train_5050, test_5050 = train_test_split(dataset, test_size=0.5, random_state=2)\n",
        "train_6040, test_6040 = train_test_split(dataset, test_size=0.4, random_state=2)\n",
        "train_7030, test_7030 = train_test_split(dataset, test_size=0.3, random_state=2)\n",
        "train_8020, test_8020 = train_test_split(dataset, test_size=0.2, random_state=2)\n",
        "\n",
        "# Add a column to each set to identify if a datapoint belongs to \"train\" or \"test\"\n",
        "train_5050, test_5050 = train_5050.assign(Set=\"train\"), test_5050.assign(Set=\"test\")\n",
        "train_6040, test_6040 = train_6040.assign(Set=\"train\"), test_6040.assign(Set=\"test\")\n",
        "train_7030, test_7030 = train_7030.assign(Set=\"train\"), test_7030.assign(Set=\"test\")\n",
        "train_8020, test_8020 = train_8020.assign(Set=\"train\"), test_8020.assign(Set=\"test\")\n",
        "\n",
        "# Concatenate the \"train\" and \"test\" sets for each split so we can plot them on the same chart\n",
        "df_5050 = pandas.concat([train_5050, test_5050], axis=0)\n",
        "df_6040 = pandas.concat([train_6040, test_6040], axis=0)\n",
        "df_7030 = pandas.concat([train_7030, test_7030], axis=0)\n",
        "df_8020 = pandas.concat([train_8020, test_8020], axis=0)\n",
        "\n",
        "# Plot each distribution for comparison\n",
        "graphing.scatter_2D(df_5050, \"weight_last_year\", \"rescues_last_year\", title=\"50:50 split\", label_colour=\"Set\", show=True)\n",
        "graphing.scatter_2D(df_6040, \"weight_last_year\", \"rescues_last_year\", title=\"60:40 split\", label_colour=\"Set\", show=True)\n",
        "graphing.scatter_2D(df_7030, \"weight_last_year\", \"rescues_last_year\", title=\"70:30 split\", label_colour=\"Set\", show=True)\n",
        "graphing.scatter_2D(df_8020, \"weight_last_year\", \"rescues_last_year\", title=\"80:20 split\", label_colour=\"Set\")"
      ]
    },
    {
      "cell_type": "markdown",
      "metadata": {},
      "source": [
        "Notice on how the first splits leave us with relatively small _training_ datasets. On the 50:50 split, we have only 25 samples to train with.\n",
        "\n",
        "On the other hand, the latter ones leave us much more data for training, but relatively little for testing. The 80:20 split leaves us with only 10 samples in the _test_ set!\n",
        "\n",
        "\n",
        "Let's take a look at the distributions of _training_ data for each split:"
      ]
    },
    {
      "cell_type": "code",
      "execution_count": 4,
      "metadata": {},
      "outputs": [
        {
          "ename": "NameError",
          "evalue": "name 'graphing' is not defined",
          "output_type": "error",
          "traceback": [
            "\u001b[0;31m---------------------------------------------------------------------------\u001b[0m",
            "\u001b[0;31mNameError\u001b[0m                                 Traceback (most recent call last)",
            "\u001b[1;32m/Users/dickinsd/Github/Designing-and-Implementing-a-Data-Science-Solution-on-Azure/05-refine-and-test-ml-models/5-7-exercise-test-set-nuances.ipynb Cell 8\u001b[0m in \u001b[0;36m<cell line: 11>\u001b[0;34m()\u001b[0m\n\u001b[1;32m      <a href='vscode-notebook-cell:/Users/dickinsd/Github/Designing-and-Implementing-a-Data-Science-Solution-on-Azure/05-refine-and-test-ml-models/5-7-exercise-test-set-nuances.ipynb#X10sZmlsZQ%3D%3D?line=7'>8</a>\u001b[0m split_df \u001b[39m=\u001b[39m pandas\u001b[39m.\u001b[39mconcat([train_5050, train_6040, train_7030, train_8020], axis\u001b[39m=\u001b[39m\u001b[39m0\u001b[39m)\n\u001b[1;32m     <a href='vscode-notebook-cell:/Users/dickinsd/Github/Designing-and-Implementing-a-Data-Science-Solution-on-Azure/05-refine-and-test-ml-models/5-7-exercise-test-set-nuances.ipynb#X10sZmlsZQ%3D%3D?line=9'>10</a>\u001b[0m  \u001b[39m# Plot a histogram of data distribution\u001b[39;00m\n\u001b[0;32m---> <a href='vscode-notebook-cell:/Users/dickinsd/Github/Designing-and-Implementing-a-Data-Science-Solution-on-Azure/05-refine-and-test-ml-models/5-7-exercise-test-set-nuances.ipynb#X10sZmlsZQ%3D%3D?line=10'>11</a>\u001b[0m graphing\u001b[39m.\u001b[39mmultiple_histogram(split_df, label_x\u001b[39m=\u001b[39m\u001b[39m\"\u001b[39m\u001b[39mrescues_last_year\u001b[39m\u001b[39m\"\u001b[39m, label_group\u001b[39m=\u001b[39m\u001b[39m\"\u001b[39m\u001b[39mSplit\u001b[39m\u001b[39m\"\u001b[39m, title\u001b[39m=\u001b[39m\u001b[39m\"\u001b[39m\u001b[39mDistribution of Training data\u001b[39m\u001b[39m\"\u001b[39m)\n",
            "\u001b[0;31mNameError\u001b[0m: name 'graphing' is not defined"
          ]
        }
      ],
      "source": [
        "# Add a column for each \"train\" set that identifies the split used\n",
        "train_8020 = train_8020.assign(Split=\"80:20\")\n",
        "train_7030 = train_7030.assign(Split=\"70:30\")\n",
        "train_6040 = train_6040.assign(Split=\"60:40\")\n",
        "train_5050 = train_5050.assign(Split=\"50:50\")\n",
        "\n",
        "# Concatenate training sets so we can plot them on the same chart\n",
        "split_df = pandas.concat([train_5050, train_6040, train_7030, train_8020], axis=0)\n",
        "\n",
        " # Plot a histogram of data distribution\n",
        "graphing.multiple_histogram(split_df, label_x=\"rescues_last_year\", label_group=\"Split\", title=\"Distribution of Training data\")"
      ]
    },
    {
      "cell_type": "markdown",
      "metadata": {},
      "source": [
        "We can draw a couple of conclusions from the plot above:\n",
        "\n",
        "1. The `train_test_split()` function we used does a fairly good job of keeping a fair distribution of data across different ratios. It attempts to keep different values represented in the same proportion.\n",
        "\n",
        "2. When we use a `50:50` ratio, however, we have to leave so much data out of the _train_ set that some values aren't present anymore! (can you spot where blue bars are missing?)\n",
        "\n",
        "Point `2` is especially concerning since if that data isn't available for training, our model can't learn from it, and therefore will not make accurate predictions. In other words, using a `50:50` split doesn't look like a good idea for this dataset!"
      ]
    },
    {
      "cell_type": "markdown",
      "metadata": {},
      "source": [
        "## Fitting and evaluating models with different split ratios\n",
        "\n",
        "Let's fit models using different splits, then see how they appear to perform:"
      ]
    },
    {
      "cell_type": "code",
      "execution_count": 5,
      "metadata": {},
      "outputs": [
        {
          "name": "stdout",
          "output_type": "stream",
          "text": [
            "Mean Squared Error values (smaller is better)\n",
            "50:50 MSE = 21.930788 \n",
            "60:40 MSE = 19.834762 \n",
            "70:30 MSE = 23.747817 \n",
            "80:20 MSE = 18.441786 \n"
          ]
        }
      ],
      "source": [
        "import statsmodels.formula.api as smf\n",
        "from sklearn.metrics import mean_squared_error as mse\n",
        "\n",
        "def train_and_test_model(name, train, test):\n",
        "    '''\n",
        "    This method creates a model, trains it on the provided data, and assesses \n",
        "    it against the test data\n",
        "    '''\n",
        "    # This formula says that rescues_last_year is explained by weight_last_year\n",
        "    formula = \"rescues_last_year ~ weight_last_year\"\n",
        "\n",
        "    # Create and train a linear regression model using the training data\n",
        "    model = smf.ols(formula = formula, data = train).fit()\n",
        "\n",
        "    # Now evaluate the model (by calculating the Mean Squared Error) using the \n",
        "    # corresponding \"test\" set for that split\n",
        "    correct_answers = test['rescues_last_year']\n",
        "    predictions = model.predict(test['weight_last_year'])\n",
        "    MSE = mse(correct_answers, predictions)\n",
        "    print(name + ' MSE = %f ' % MSE)\n",
        "\n",
        "    return model\n",
        "\n",
        "\n",
        "# Train a model and test it for each kind of split\n",
        "print(\"Mean Squared Error values (smaller is better)\")\n",
        "model_5050 = train_and_test_model(\"50:50\", train_5050, test_5050)\n",
        "model_6040 = train_and_test_model(\"60:40\", train_6040, test_6040)\n",
        "model_7030 = train_and_test_model(\"70:30\", train_7030, test_7030)\n",
        "model_8020 = train_and_test_model(\"80:20\", train_8020, test_8020)"
      ]
    },
    {
      "cell_type": "markdown",
      "metadata": {},
      "source": [
        "The code above trains one model for each ratio, using the corresponding _train_ set for that ratio. It then calculates the MSE (Mean Squared Error) for each model, using its corresponding _test_ set.\n",
        "\n",
        "The results seem mixed. The `80:20` ratio was best, but there is no clear pattern as to whether growing or shrinking the training set is helpful.\n",
        "\n",
        "Two things are influencing our results. Firstly, the larger the _test_ set, the more we can trust the test results. Secondly, models usually will train better with larger training sets. \n",
        "\n",
        "These influences are at odds with one another, and how influential they're is exaggerated here because our dataset it very small. In this particular situation it's hard to assess whether the `60:40` split is truly better than the `70:30` split, for example. This is because the `70:30 split` might just give the appearance of being worse because it was tested against a less-representative (smaller) test set.\n",
        "\n",
        "## Model evaluation\n",
        "\n",
        "Let's take a look now what happens when these models are used against a much larger dataset that it was not trained or tested on. This can happen in the real world because we choose to hold-back data in the beginning, or simply because we collect data after training our model. In our current scenario, this is new data given to us by our avalanche-rescue charity's European arm."
      ]
    },
    {
      "cell_type": "code",
      "execution_count": 6,
      "metadata": {},
      "outputs": [
        {
          "name": "stdout",
          "output_type": "stream",
          "text": [
            "The Swiss dataset contains 500 samples\n"
          ]
        },
        {
          "ename": "NameError",
          "evalue": "name 'graphing' is not defined",
          "output_type": "error",
          "traceback": [
            "\u001b[0;31m---------------------------------------------------------------------------\u001b[0m",
            "\u001b[0;31mNameError\u001b[0m                                 Traceback (most recent call last)",
            "\u001b[1;32m/Users/dickinsd/Github/Designing-and-Implementing-a-Data-Science-Solution-on-Azure/05-refine-and-test-ml-models/5-7-exercise-test-set-nuances.ipynb Cell 13\u001b[0m in \u001b[0;36m<cell line: 9>\u001b[0;34m()\u001b[0m\n\u001b[1;32m      <a href='vscode-notebook-cell:/Users/dickinsd/Github/Designing-and-Implementing-a-Data-Science-Solution-on-Azure/05-refine-and-test-ml-models/5-7-exercise-test-set-nuances.ipynb#X15sZmlsZQ%3D%3D?line=6'>7</a>\u001b[0m \u001b[39m# Show show information about the data\u001b[39;00m\n\u001b[1;32m      <a href='vscode-notebook-cell:/Users/dickinsd/Github/Designing-and-Implementing-a-Data-Science-Solution-on-Azure/05-refine-and-test-ml-models/5-7-exercise-test-set-nuances.ipynb#X15sZmlsZQ%3D%3D?line=7'>8</a>\u001b[0m \u001b[39mprint\u001b[39m(\u001b[39mf\u001b[39m\u001b[39m\"\u001b[39m\u001b[39mThe Swiss dataset contains \u001b[39m\u001b[39m{\u001b[39;00mswiss_data\u001b[39m.\u001b[39mshape[\u001b[39m0\u001b[39m]\u001b[39m}\u001b[39;00m\u001b[39m samples\u001b[39m\u001b[39m\"\u001b[39m)\n\u001b[0;32m----> <a href='vscode-notebook-cell:/Users/dickinsd/Github/Designing-and-Implementing-a-Data-Science-Solution-on-Azure/05-refine-and-test-ml-models/5-7-exercise-test-set-nuances.ipynb#X15sZmlsZQ%3D%3D?line=8'>9</a>\u001b[0m graphing\u001b[39m.\u001b[39mscatter_2D(swiss_data, \u001b[39m'\u001b[39m\u001b[39mrescues_last_year\u001b[39m\u001b[39m'\u001b[39m, \u001b[39m'\u001b[39m\u001b[39mweight_last_year\u001b[39m\u001b[39m'\u001b[39m)\n",
            "\u001b[0;31mNameError\u001b[0m: name 'graphing' is not defined"
          ]
        }
      ],
      "source": [
        "import statsmodels.formula.api as smf\n",
        "from sklearn.metrics import mean_squared_error as mse\n",
        "\n",
        "# Load some dog statistics from our charity's European arm\n",
        "swiss_data = pandas.read_csv(\"dog-training-switzerland.csv\", delimiter=\"\\t\")\n",
        "\n",
        "# Show show information about the data\n",
        "print(f\"The Swiss dataset contains {swiss_data.shape[0]} samples\")\n",
        "graphing.scatter_2D(swiss_data, 'rescues_last_year', 'weight_last_year')"
      ]
    },
    {
      "cell_type": "markdown",
      "metadata": {},
      "source": [
        "This is clearly a much larger sample of data. Let's see how our models perform. Note that we aren't re-training the models here; we're simply using them to make predictions on a new dataset to assess how well they perform."
      ]
    },
    {
      "cell_type": "code",
      "execution_count": 7,
      "metadata": {},
      "outputs": [
        {
          "name": "stdout",
          "output_type": "stream",
          "text": [
            "50:50 MSE = 20.903325 \n",
            "60:40 MSE = 20.520190 \n",
            "70:30 MSE = 20.355991 \n",
            "80:20 MSE = 20.061225 \n"
          ]
        }
      ],
      "source": [
        "# Test our models against the swiss data\n",
        "features = swiss_data['weight_last_year']\n",
        "correct_answers = swiss_data['rescues_last_year']\n",
        "\n",
        "# We will now assess our models. Notice we're not training them again.\n",
        "# We are simply testing them against some new data \n",
        "\n",
        "# Assess the model trained on a 50:50 split\n",
        "predictions = model_5050.predict(features)\n",
        "MSE = mse(correct_answers, predictions)\n",
        "print('50:50 MSE = %f ' % MSE)\n",
        "\n",
        "# Assess the model trained on a 60:40 split\n",
        "predictions = model_6040.predict(features)\n",
        "MSE = mse(correct_answers, predictions)\n",
        "print('60:40 MSE = %f ' % MSE)\n",
        "\n",
        "# Assess the model trained on a 70:30 split\n",
        "predictions = model_7030.predict(features)\n",
        "MSE = mse(correct_answers, predictions)\n",
        "print('70:30 MSE = %f ' % MSE)\n",
        "\n",
        "# Assess the model trained on a 80:20 split\n",
        "predictions = model_8020.predict(features)\n",
        "MSE = mse(correct_answers, predictions)\n",
        "print('80:20 MSE = %f ' % MSE)"
      ]
    },
    {
      "cell_type": "markdown",
      "metadata": {},
      "source": [
        "With this larger dataset, the model using to `80:20` split yielded the lowest error, and thus the best performance. There is also a clear pattern, where the larger the training dataset, the better the model could perform after training.\n",
        "\n",
        "Together, this shows that we should try and evaluate different train/test splits when building Machine Learning models, and that _generally_ splits that favor the _train_ set with more data will yield better results. \n",
        " \n",
        "## Summary\n",
        "\n",
        "In this exercise you learned the following concepts:\n",
        "\n",
        " - You can use different *ratios* when splitting your dataset into *train* and *test* sets.\n",
        " - Different ratios yield different distributions of variables in the resulting *train* and *test* sets.\n",
        " - When the train:test ratios are close, you are possibly leaving a lot of data out of the __training__ set, and that can have a negative impact on your model's performance.\n",
        " - When building models, it's important to test them using different train/test splits. Simply assigning more data to the *train* set doesn't always guarantee the best results.\n"
      ]
    }
  ],
  "metadata": {
    "kernel_info": {
      "name": "conda-env-py38_default-py"
    },
    "kernelspec": {
      "display_name": "Python 3.9.13 ('base')",
      "language": "python",
      "name": "python3"
    },
    "language_info": {
      "codemirror_mode": {
        "name": "ipython",
        "version": 3
      },
      "file_extension": ".py",
      "mimetype": "text/x-python",
      "name": "python",
      "nbconvert_exporter": "python",
      "pygments_lexer": "ipython3",
      "version": "3.9.13"
    },
    "nteract": {
      "version": "nteract-front-end@1.0.0"
    },
    "vscode": {
      "interpreter": {
        "hash": "29ba88fc74c30cfb08fb6ce3b25c2ccd724cd11e96a643650e6c772fb9859a2d"
      }
    }
  },
  "nbformat": 4,
  "nbformat_minor": 2
}
