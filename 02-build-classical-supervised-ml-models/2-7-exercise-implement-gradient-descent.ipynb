{
  "cells": [
    {
      "cell_type": "markdown",
      "metadata": {},
      "source": [
        "# Exercise: Gradient descent\n",
        "\n",
        "Previously, we identified trends in winter temperatures by fitting a linear regression model to weather data. Here, we'll repeat this process by focusing on the optimizer. Specifically, we'll work with batch gradient descent and explore how changing the learning rate can alter its behavior.\n",
        "\n",
        "The model we'll be working with will be the same linear regression model that we've used in other units. The principles we learn, however, also apply to much more complex models.\n",
        "\n",
        "## Loading data and preparing our model\n",
        "\n",
        "Let's load up our weather data from Seattle, filter to January temperatures, and make slight adjustments so that the dates are mathematically interpretable."
      ]
    },
    {
      "cell_type": "code",
      "execution_count": 1,
      "metadata": {},
      "outputs": [
        {
          "name": "stdout",
          "output_type": "stream",
          "text": [
            "Requirement already satisfied: statsmodels in /Users/dickinsd/miniforge3/lib/python3.9/site-packages (0.13.2)\n",
            "Requirement already satisfied: scipy>=1.3 in /Users/dickinsd/miniforge3/lib/python3.9/site-packages (from statsmodels) (1.8.1)\n",
            "Requirement already satisfied: packaging>=21.3 in /Users/dickinsd/miniforge3/lib/python3.9/site-packages (from statsmodels) (21.3)\n",
            "Requirement already satisfied: pandas>=0.25 in /Users/dickinsd/miniforge3/lib/python3.9/site-packages (from statsmodels) (1.4.2)\n",
            "Requirement already satisfied: patsy>=0.5.2 in /Users/dickinsd/miniforge3/lib/python3.9/site-packages (from statsmodels) (0.5.2)\n",
            "Requirement already satisfied: numpy>=1.17 in /Users/dickinsd/miniforge3/lib/python3.9/site-packages (from statsmodels) (1.23.0rc2)\n",
            "Requirement already satisfied: pyparsing!=3.0.5,>=2.0.2 in /Users/dickinsd/miniforge3/lib/python3.9/site-packages (from packaging>=21.3->statsmodels) (3.0.9)\n",
            "Requirement already satisfied: python-dateutil>=2.8.1 in /Users/dickinsd/miniforge3/lib/python3.9/site-packages (from pandas>=0.25->statsmodels) (2.8.2)\n",
            "Requirement already satisfied: pytz>=2020.1 in /Users/dickinsd/miniforge3/lib/python3.9/site-packages (from pandas>=0.25->statsmodels) (2022.1)\n",
            "Requirement already satisfied: six in /Users/dickinsd/miniforge3/lib/python3.9/site-packages (from patsy>=0.5.2->statsmodels) (1.16.0)\n",
            "--2022-11-22 11:37:12--  https://raw.githubusercontent.com/MicrosoftDocs/mslearn-introduction-to-machine-learning/main/graphing.py\n",
            "Resolving raw.githubusercontent.com (raw.githubusercontent.com)... 185.199.110.133, 185.199.108.133, 185.199.109.133, ...\n",
            "Connecting to raw.githubusercontent.com (raw.githubusercontent.com)|185.199.110.133|:443... connected.\n",
            "HTTP request sent, awaiting response... 200 OK\n",
            "Length: 21511 (21K) [text/plain]\n",
            "Saving to: ‘graphing.py.4’\n",
            "\n",
            "graphing.py.4       100%[===================>]  21.01K  --.-KB/s    in 0.009s  \n",
            "\n",
            "2022-11-22 11:37:13 (2.24 MB/s) - ‘graphing.py.4’ saved [21511/21511]\n",
            "\n",
            "--2022-11-22 11:37:13--  https://raw.githubusercontent.com/MicrosoftDocs/mslearn-introduction-to-machine-learning/main/Data/seattleWeather_1948-2017.csv\n",
            "Resolving raw.githubusercontent.com (raw.githubusercontent.com)... 185.199.110.133, 185.199.108.133, 185.199.109.133, ...\n",
            "Connecting to raw.githubusercontent.com (raw.githubusercontent.com)|185.199.110.133|:443... connected.\n",
            "HTTP request sent, awaiting response... 200 OK\n",
            "Length: 762017 (744K) [text/plain]\n",
            "Saving to: ‘seattleWeather_1948-2017.csv.2’\n",
            "\n",
            "seattleWeather_1948 100%[===================>] 744.16K  --.-KB/s    in 0.1s    \n",
            "\n",
            "2022-11-22 11:37:13 (4.90 MB/s) - ‘seattleWeather_1948-2017.csv.2’ saved [762017/762017]\n",
            "\n"
          ]
        },
        {
          "ename": "ModuleNotFoundError",
          "evalue": "No module named 'plotly'",
          "output_type": "error",
          "traceback": [
            "\u001b[0;31m---------------------------------------------------------------------------\u001b[0m",
            "\u001b[0;31mModuleNotFoundError\u001b[0m                       Traceback (most recent call last)",
            "\u001b[1;32m/Users/dickinsd/Github/Designing-and-Implementing-a-Data-Science-Solution-on-Azure/2-7-exercise-implement-gradient-descent.ipynb Cell 2\u001b[0m in \u001b[0;36m<cell line: 6>\u001b[0;34m()\u001b[0m\n\u001b[1;32m      <a href='vscode-notebook-cell:/Users/dickinsd/Github/Designing-and-Implementing-a-Data-Science-Solution-on-Azure/2-7-exercise-implement-gradient-descent.ipynb#W1sZmlsZQ%3D%3D?line=3'>4</a>\u001b[0m get_ipython()\u001b[39m.\u001b[39msystem(\u001b[39m'\u001b[39m\u001b[39mwget https://raw.githubusercontent.com/MicrosoftDocs/mslearn-introduction-to-machine-learning/main/graphing.py\u001b[39m\u001b[39m'\u001b[39m)\n\u001b[1;32m      <a href='vscode-notebook-cell:/Users/dickinsd/Github/Designing-and-Implementing-a-Data-Science-Solution-on-Azure/2-7-exercise-implement-gradient-descent.ipynb#W1sZmlsZQ%3D%3D?line=4'>5</a>\u001b[0m get_ipython()\u001b[39m.\u001b[39msystem(\u001b[39m'\u001b[39m\u001b[39mwget https://raw.githubusercontent.com/MicrosoftDocs/mslearn-introduction-to-machine-learning/main/Data/seattleWeather_1948-2017.csv\u001b[39m\u001b[39m'\u001b[39m)\n\u001b[0;32m----> <a href='vscode-notebook-cell:/Users/dickinsd/Github/Designing-and-Implementing-a-Data-Science-Solution-on-Azure/2-7-exercise-implement-gradient-descent.ipynb#W1sZmlsZQ%3D%3D?line=5'>6</a>\u001b[0m \u001b[39mimport\u001b[39;00m \u001b[39mgraphing\u001b[39;00m \u001b[39m# Custom graphing code. See our GitHub repository\u001b[39;00m\n\u001b[1;32m      <a href='vscode-notebook-cell:/Users/dickinsd/Github/Designing-and-Implementing-a-Data-Science-Solution-on-Azure/2-7-exercise-implement-gradient-descent.ipynb#W1sZmlsZQ%3D%3D?line=7'>8</a>\u001b[0m \u001b[39m# Load a file that contains weather data for Seattle\u001b[39;00m\n\u001b[1;32m      <a href='vscode-notebook-cell:/Users/dickinsd/Github/Designing-and-Implementing-a-Data-Science-Solution-on-Azure/2-7-exercise-implement-gradient-descent.ipynb#W1sZmlsZQ%3D%3D?line=8'>9</a>\u001b[0m data \u001b[39m=\u001b[39m pandas\u001b[39m.\u001b[39mread_csv(\u001b[39m'\u001b[39m\u001b[39mseattleWeather_1948-2017.csv\u001b[39m\u001b[39m'\u001b[39m, parse_dates\u001b[39m=\u001b[39m[\u001b[39m'\u001b[39m\u001b[39mdate\u001b[39m\u001b[39m'\u001b[39m])\n",
            "File \u001b[0;32m~/Github/Designing-and-Implementing-a-Data-Science-Solution-on-Azure/graphing.py:9\u001b[0m, in \u001b[0;36m<module>\u001b[0;34m\u001b[0m\n\u001b[1;32m      7\u001b[0m \u001b[39mfrom\u001b[39;00m \u001b[39mnumpy\u001b[39;00m\u001b[39m.\u001b[39;00m\u001b[39mcore\u001b[39;00m\u001b[39m.\u001b[39;00m\u001b[39mfromnumeric\u001b[39;00m \u001b[39mimport\u001b[39;00m repeat, shape\n\u001b[1;32m      8\u001b[0m \u001b[39mimport\u001b[39;00m \u001b[39mpandas\u001b[39;00m\n\u001b[0;32m----> 9\u001b[0m \u001b[39mimport\u001b[39;00m \u001b[39mplotly\u001b[39;00m\u001b[39m.\u001b[39;00m\u001b[39mexpress\u001b[39;00m \u001b[39mas\u001b[39;00m \u001b[39mpx\u001b[39;00m\n\u001b[1;32m     10\u001b[0m \u001b[39mimport\u001b[39;00m \u001b[39mplotly\u001b[39;00m\u001b[39m.\u001b[39;00m\u001b[39mio\u001b[39;00m \u001b[39mas\u001b[39;00m \u001b[39mpio\u001b[39;00m\n\u001b[1;32m     11\u001b[0m \u001b[39mimport\u001b[39;00m \u001b[39mplotly\u001b[39;00m\u001b[39m.\u001b[39;00m\u001b[39mgraph_objects\u001b[39;00m \u001b[39mas\u001b[39;00m \u001b[39mgraph_objects\u001b[39;00m\n",
            "\u001b[0;31mModuleNotFoundError\u001b[0m: No module named 'plotly'"
          ]
        }
      ],
      "source": [
        "from datetime import datetime\n",
        "import pandas\n",
        "!pip install statsmodels\n",
        "!wget https://raw.githubusercontent.com/MicrosoftDocs/mslearn-introduction-to-machine-learning/main/graphing.py\n",
        "!wget https://raw.githubusercontent.com/MicrosoftDocs/mslearn-introduction-to-machine-learning/main/Data/seattleWeather_1948-2017.csv\n",
        "import graphing # Custom graphing code. See our GitHub repository\n",
        "\n",
        "# Load a file that contains weather data for Seattle\n",
        "data = pandas.read_csv('seattleWeather_1948-2017.csv', parse_dates=['date'])\n",
        "\n",
        "# Remove all dates after July 1 because we have to to plant onions before summer begins\n",
        "data = data[[d.month < 7 for d in data.date]].copy()\n",
        "\n",
        "\n",
        "# Convert the dates into numbers so we can use them in our models\n",
        "# We make a year column that can contain fractions. For example,\n",
        "# 1948.5 is halfway through the year 1948\n",
        "data[\"year\"] = [(d.year + d.timetuple().tm_yday / 365.25) for d in data.date]\n",
        "\n",
        "# Let's take a quick look at our data\n",
        "print(\"Visual Check:\")\n",
        "graphing.scatter_2D(data, \n",
        "                    label_x=\"year\", \n",
        "                    label_y=\"min_temperature\",\n",
        "                    title=\"Temperatures over time (°F)\")\n"
      ]
    },
    {
      "cell_type": "markdown",
      "metadata": {},
      "source": [
        "## Fitting a model automatically\n",
        "\n",
        "Let's fit a line to this data well by using an existing library."
      ]
    },
    {
      "cell_type": "code",
      "execution_count": 2,
      "metadata": {},
      "outputs": [
        {
          "ename": "NameError",
          "evalue": "name 'data' is not defined",
          "output_type": "error",
          "traceback": [
            "\u001b[0;31m---------------------------------------------------------------------------\u001b[0m",
            "\u001b[0;31mNameError\u001b[0m                                 Traceback (most recent call last)",
            "\u001b[1;32m/Users/dickinsd/Github/Designing-and-Implementing-a-Data-Science-Solution-on-Azure/2-7-exercise-implement-gradient-descent.ipynb Cell 4\u001b[0m in \u001b[0;36m<cell line: 6>\u001b[0;34m()\u001b[0m\n\u001b[1;32m      <a href='vscode-notebook-cell:/Users/dickinsd/Github/Designing-and-Implementing-a-Data-Science-Solution-on-Azure/2-7-exercise-implement-gradient-descent.ipynb#W3sZmlsZQ%3D%3D?line=0'>1</a>\u001b[0m \u001b[39mimport\u001b[39;00m \u001b[39mstatsmodels\u001b[39;00m\u001b[39m.\u001b[39;00m\u001b[39mformula\u001b[39;00m\u001b[39m.\u001b[39;00m\u001b[39mapi\u001b[39;00m \u001b[39mas\u001b[39;00m \u001b[39msmf\u001b[39;00m\n\u001b[1;32m      <a href='vscode-notebook-cell:/Users/dickinsd/Github/Designing-and-Implementing-a-Data-Science-Solution-on-Azure/2-7-exercise-implement-gradient-descent.ipynb#W3sZmlsZQ%3D%3D?line=2'>3</a>\u001b[0m \u001b[39m# Perform linear regression to fit a line to our data\u001b[39;00m\n\u001b[1;32m      <a href='vscode-notebook-cell:/Users/dickinsd/Github/Designing-and-Implementing-a-Data-Science-Solution-on-Azure/2-7-exercise-implement-gradient-descent.ipynb#W3sZmlsZQ%3D%3D?line=3'>4</a>\u001b[0m \u001b[39m# NB OLS uses the sum or mean of squared differences as a cost function,\u001b[39;00m\n\u001b[1;32m      <a href='vscode-notebook-cell:/Users/dickinsd/Github/Designing-and-Implementing-a-Data-Science-Solution-on-Azure/2-7-exercise-implement-gradient-descent.ipynb#W3sZmlsZQ%3D%3D?line=4'>5</a>\u001b[0m \u001b[39m# which we're familiar with from our last exercise \u001b[39;00m\n\u001b[0;32m----> <a href='vscode-notebook-cell:/Users/dickinsd/Github/Designing-and-Implementing-a-Data-Science-Solution-on-Azure/2-7-exercise-implement-gradient-descent.ipynb#W3sZmlsZQ%3D%3D?line=5'>6</a>\u001b[0m model \u001b[39m=\u001b[39m smf\u001b[39m.\u001b[39mols(formula \u001b[39m=\u001b[39m \u001b[39m\"\u001b[39m\u001b[39mmin_temperature ~ year\u001b[39m\u001b[39m\"\u001b[39m, data \u001b[39m=\u001b[39m data)\u001b[39m.\u001b[39mfit()\n\u001b[1;32m      <a href='vscode-notebook-cell:/Users/dickinsd/Github/Designing-and-Implementing-a-Data-Science-Solution-on-Azure/2-7-exercise-implement-gradient-descent.ipynb#W3sZmlsZQ%3D%3D?line=7'>8</a>\u001b[0m \u001b[39m# Print the model\u001b[39;00m\n\u001b[1;32m      <a href='vscode-notebook-cell:/Users/dickinsd/Github/Designing-and-Implementing-a-Data-Science-Solution-on-Azure/2-7-exercise-implement-gradient-descent.ipynb#W3sZmlsZQ%3D%3D?line=8'>9</a>\u001b[0m intercept \u001b[39m=\u001b[39m model\u001b[39m.\u001b[39mparams[\u001b[39m0\u001b[39m]\n",
            "\u001b[0;31mNameError\u001b[0m: name 'data' is not defined"
          ]
        }
      ],
      "source": [
        "import statsmodels.formula.api as smf\n",
        "\n",
        "# Perform linear regression to fit a line to our data\n",
        "# NB OLS uses the sum or mean of squared differences as a cost function,\n",
        "# which we're familiar with from our last exercise \n",
        "model = smf.ols(formula = \"min_temperature ~ year\", data = data).fit()\n",
        "\n",
        "# Print the model\n",
        "intercept = model.params[0]\n",
        "slope = model.params[1]\n",
        "\n",
        "print(f\"The model is: y = {slope:0.3f} * X + {intercept:0.3f}\")"
      ]
    },
    {
      "cell_type": "markdown",
      "metadata": {},
      "source": [
        "Ooh, some math! Don't let that bother you. It's quite common for labels and features to be referred to as `Y` and `X`, respectively.\n",
        "Here:\n",
        "* `Y` is temperature (°F).\n",
        "* `X` is year.\n",
        "* -83 is a _model parameter_ that acts as the line offset. \n",
        "* 0.063 is a _model parameter_ that defines the line slope (in °F per year).\n",
        "\n",
        "So this little equation states that the model estimates temperature by multiplying the year by `0.063` and then subtracting `83`.\n",
        "\n",
        "How did the library calculate these values? Let's go through the process.\n",
        "\n",
        "## Model selection\n",
        "\n",
        "The first step is always selecting a model. Let's reuse the model that we used in previous exercises."
      ]
    },
    {
      "cell_type": "code",
      "execution_count": 3,
      "metadata": {},
      "outputs": [
        {
          "name": "stdout",
          "output_type": "stream",
          "text": [
            "Model class ready\n"
          ]
        }
      ],
      "source": [
        "class MyModel:\n",
        "\n",
        "    def __init__(self):\n",
        "        '''\n",
        "        Creates a new MyModel\n",
        "        '''\n",
        "        # Straight lines described by two parameters:\n",
        "        # The slope is the angle of the line\n",
        "        self.slope = 0\n",
        "        # The intercept moves the line up or down\n",
        "        self.intercept = 0\n",
        "\n",
        "    def predict(self, date):\n",
        "        '''\n",
        "        Estimates the temperature from the date\n",
        "        '''\n",
        "        return date * self.slope + self.intercept\n",
        "\n",
        "    def get_summary(self):\n",
        "        '''\n",
        "        Returns a string that summarises the model\n",
        "        '''\n",
        "        return f\"y = {self.slope} * x + {self.intercept}\"\n",
        "\n",
        "print(\"Model class ready\")"
      ]
    },
    {
      "cell_type": "markdown",
      "metadata": {},
      "source": [
        "## Fitting our model with gradient descent\n",
        "\n",
        "The automatic method used the _ordinary least squares_ (OLS) method, which is the standard way to fit a line. OLS uses the mean (or sum) of square differences as a cost function. (Recall our experimentation with the sum of squared differences in the last exercise.) Let's replicate the preceding line fitting, and break down each step so we can watch it in action.\n",
        "\n",
        "Recall that for each iteration, our training conducts three steps: \n",
        "\n",
        "1. Estimation of `Y` (temperature) from `X` (year).\n",
        "\n",
        "2. Calculation of the cost function and its slope.\n",
        "\n",
        "3. Adjustment of our model according to this slope.\n",
        "\n",
        "Let's implement this now to watch it in action. Note that *to keep things simple, we'll focus on estimating one parameter (line slope) for now*.\n",
        "\n",
        "### Visualizing the error function\n",
        "\n",
        "First, let's look at the error function for this data. Normally we don't know this in advance, but for learning purposes, let's calculate it now for different potential models."
      ]
    },
    {
      "cell_type": "code",
      "execution_count": 4,
      "metadata": {},
      "outputs": [
        {
          "ename": "NameError",
          "evalue": "name 'data' is not defined",
          "output_type": "error",
          "traceback": [
            "\u001b[0;31m---------------------------------------------------------------------------\u001b[0m",
            "\u001b[0;31mNameError\u001b[0m                                 Traceback (most recent call last)",
            "\u001b[1;32m/Users/dickinsd/Github/Designing-and-Implementing-a-Data-Science-Solution-on-Azure/2-7-exercise-implement-gradient-descent.ipynb Cell 8\u001b[0m in \u001b[0;36m<cell line: 3>\u001b[0;34m()\u001b[0m\n\u001b[1;32m      <a href='vscode-notebook-cell:/Users/dickinsd/Github/Designing-and-Implementing-a-Data-Science-Solution-on-Azure/2-7-exercise-implement-gradient-descent.ipynb#X10sZmlsZQ%3D%3D?line=0'>1</a>\u001b[0m \u001b[39mimport\u001b[39;00m \u001b[39mnumpy\u001b[39;00m \u001b[39mas\u001b[39;00m \u001b[39mnp\u001b[39;00m\n\u001b[0;32m----> <a href='vscode-notebook-cell:/Users/dickinsd/Github/Designing-and-Implementing-a-Data-Science-Solution-on-Azure/2-7-exercise-implement-gradient-descent.ipynb#X10sZmlsZQ%3D%3D?line=2'>3</a>\u001b[0m x \u001b[39m=\u001b[39m data\u001b[39m.\u001b[39myear\n\u001b[1;32m      <a href='vscode-notebook-cell:/Users/dickinsd/Github/Designing-and-Implementing-a-Data-Science-Solution-on-Azure/2-7-exercise-implement-gradient-descent.ipynb#X10sZmlsZQ%3D%3D?line=3'>4</a>\u001b[0m temperature_true \u001b[39m=\u001b[39m data\u001b[39m.\u001b[39mmin_temperature\n\u001b[1;32m      <a href='vscode-notebook-cell:/Users/dickinsd/Github/Designing-and-Implementing-a-Data-Science-Solution-on-Azure/2-7-exercise-implement-gradient-descent.ipynb#X10sZmlsZQ%3D%3D?line=5'>6</a>\u001b[0m \u001b[39m# We'll use a prebuilt method to show a 3D plot\u001b[39;00m\n\u001b[1;32m      <a href='vscode-notebook-cell:/Users/dickinsd/Github/Designing-and-Implementing-a-Data-Science-Solution-on-Azure/2-7-exercise-implement-gradient-descent.ipynb#X10sZmlsZQ%3D%3D?line=6'>7</a>\u001b[0m \u001b[39m# This requires a range of x values, a range of y values,\u001b[39;00m\n\u001b[1;32m      <a href='vscode-notebook-cell:/Users/dickinsd/Github/Designing-and-Implementing-a-Data-Science-Solution-on-Azure/2-7-exercise-implement-gradient-descent.ipynb#X10sZmlsZQ%3D%3D?line=7'>8</a>\u001b[0m \u001b[39m# and a way to calculate z\u001b[39;00m\n\u001b[0;32m   (...)\u001b[0m\n\u001b[1;32m     <a href='vscode-notebook-cell:/Users/dickinsd/Github/Designing-and-Implementing-a-Data-Science-Solution-on-Azure/2-7-exercise-implement-gradient-descent.ipynb#X10sZmlsZQ%3D%3D?line=12'>13</a>\u001b[0m \n\u001b[1;32m     <a href='vscode-notebook-cell:/Users/dickinsd/Github/Designing-and-Implementing-a-Data-Science-Solution-on-Azure/2-7-exercise-implement-gradient-descent.ipynb#X10sZmlsZQ%3D%3D?line=13'>14</a>\u001b[0m \u001b[39m# Choose a range of intercepts and slopes values\u001b[39;00m\n",
            "\u001b[0;31mNameError\u001b[0m: name 'data' is not defined"
          ]
        }
      ],
      "source": [
        "import numpy as np\n",
        "\n",
        "x = data.year\n",
        "temperature_true = data.min_temperature\n",
        "\n",
        "# We'll use a prebuilt method to show a 3D plot\n",
        "# This requires a range of x values, a range of y values,\n",
        "# and a way to calculate z\n",
        "# Here, we set:\n",
        "#   x to a range of potential model intercepts\n",
        "#   y to a range of potential model slopes\n",
        "#   z as the cost for that combination of model parameters   \n",
        "\n",
        "# Choose a range of intercepts and slopes values\n",
        "intercepts = np.linspace(-100,-70,10)\n",
        "slopes = np.linspace(0.060,0.07,10)\n",
        "\n",
        "\n",
        "# Set a cost function. This will be the mean of squared differences\n",
        "def cost_function(temperature_estimate):\n",
        "    \"\"\"\n",
        "    Calculates cost for a given temperature estimate\n",
        "    Our cost function is the mean of squared differences (a.k.a. mean squared error)\n",
        "    \"\"\"\n",
        "    # Note that with NumPy to square each value, we use **\n",
        "    return np.mean((temperature_true - temperature_estimate) ** 2)\n",
        "\n",
        "def predict_and_calc_cost(intercept, slope):\n",
        "    '''\n",
        "    Uses the model to make a prediction, then calculates the cost \n",
        "    '''\n",
        "\n",
        "    # Predict temperature by using these model parameters\n",
        "    temperature_estimate = x * slope + intercept\n",
        "\n",
        "    # Calculate cost\n",
        "    return cost_function(temperature_estimate)\n",
        "\n",
        "# Call the graphing method. This will use our cost function,\n",
        "# which is above. If you want to view this code in detail,\n",
        "# then see this project's GitHub repository\n",
        "graphing.surface(x_values=intercepts, \n",
        "                y_values=slopes, \n",
        "                calc_z=predict_and_calc_cost, \n",
        "                title=\"Cost for Different Model Parameters\",\n",
        "                axis_title_x=\"Model intercept\",\n",
        "                axis_title_y=\"Model slope\",\n",
        "                axis_title_z=\"Cost\")"
      ]
    },
    {
      "cell_type": "markdown",
      "metadata": {},
      "source": [
        "The preceding graph is interactive. Try clicking and dragging the mouse to rotate it.\n",
        "\n",
        "Notice how cost changes with both intercept and line slope. This is because our model has a slope and an intercept, which both will affect how well the line fits the data. A consequence is that the gradient of the cost function must also be described by two numbers: one for intercept and one for line slope.\n",
        "\n",
        "Our lowest point on the graph is the location of the best line equation for our data: a slope of 0.063 and an intercept of -83. Let's try to train a model to find this point.\n",
        "\n",
        "### Implementing gradient descent\n",
        "\n",
        "To implement gradient descent, we need a method that can calculate the gradient of the preceding curve. "
      ]
    },
    {
      "cell_type": "code",
      "execution_count": 5,
      "metadata": {},
      "outputs": [
        {
          "name": "stdout",
          "output_type": "stream",
          "text": [
            "Function is ready!\n"
          ]
        }
      ],
      "source": [
        "def calculate_gradient(temperature_estimate):\n",
        "    \"\"\"\n",
        "    This calculates the gradient for a linear regession \n",
        "    by using the Mean Squared Error cost function\n",
        "    \"\"\"\n",
        "\n",
        "    # The partial derivatives of MSE are as follows\n",
        "    # You don't need to be able to do this just yet, but\n",
        "    # it's important to note that these give you the two gradients\n",
        "    # that we need to train our model\n",
        "    error = temperature_estimate - temperature_true\n",
        "    grad_intercept = np.mean(error) * 2\n",
        "    grad_slope = (x * error).mean() * 2\n",
        "\n",
        "    return grad_intercept, grad_slope\n",
        "\n",
        "print(\"Function is ready!\")"
      ]
    },
    {
      "cell_type": "markdown",
      "metadata": {},
      "source": [
        "Now all we need is a starting guess, and a loop that will update this guess with each iteration."
      ]
    },
    {
      "cell_type": "code",
      "execution_count": 6,
      "metadata": {
        "tags": []
      },
      "outputs": [
        {
          "ename": "NameError",
          "evalue": "name 'x' is not defined",
          "output_type": "error",
          "traceback": [
            "\u001b[0;31m---------------------------------------------------------------------------\u001b[0m",
            "\u001b[0;31mNameError\u001b[0m                                 Traceback (most recent call last)",
            "\u001b[1;32m/Users/dickinsd/Github/Designing-and-Implementing-a-Data-Science-Solution-on-Azure/2-7-exercise-implement-gradient-descent.ipynb Cell 12\u001b[0m in \u001b[0;36m<cell line: 37>\u001b[0;34m()\u001b[0m\n\u001b[1;32m     <a href='vscode-notebook-cell:/Users/dickinsd/Github/Designing-and-Implementing-a-Data-Science-Solution-on-Azure/2-7-exercise-implement-gradient-descent.ipynb#X14sZmlsZQ%3D%3D?line=33'>34</a>\u001b[0m     \u001b[39mprint\u001b[39m(\u001b[39mf\u001b[39m\u001b[39m\"\u001b[39m\u001b[39mFinal estimate:\u001b[39m\u001b[39m\"\u001b[39m, model\u001b[39m.\u001b[39mget_summary())\n\u001b[1;32m     <a href='vscode-notebook-cell:/Users/dickinsd/Github/Designing-and-Implementing-a-Data-Science-Solution-on-Azure/2-7-exercise-implement-gradient-descent.ipynb#X14sZmlsZQ%3D%3D?line=35'>36</a>\u001b[0m \u001b[39m# Run gradient descent\u001b[39;00m\n\u001b[0;32m---> <a href='vscode-notebook-cell:/Users/dickinsd/Github/Designing-and-Implementing-a-Data-Science-Solution-on-Azure/2-7-exercise-implement-gradient-descent.ipynb#X14sZmlsZQ%3D%3D?line=36'>37</a>\u001b[0m gradient_descent(learning_rate\u001b[39m=\u001b[39;49m\u001b[39m1E-9\u001b[39;49m, number_of_iterations\u001b[39m=\u001b[39;49m\u001b[39m1000\u001b[39;49m)\n",
            "\u001b[1;32m/Users/dickinsd/Github/Designing-and-Implementing-a-Data-Science-Solution-on-Azure/2-7-exercise-implement-gradient-descent.ipynb Cell 12\u001b[0m in \u001b[0;36mgradient_descent\u001b[0;34m(learning_rate, number_of_iterations)\u001b[0m\n\u001b[1;32m     <a href='vscode-notebook-cell:/Users/dickinsd/Github/Designing-and-Implementing-a-Data-Science-Solution-on-Azure/2-7-exercise-implement-gradient-descent.ipynb#X14sZmlsZQ%3D%3D?line=14'>15</a>\u001b[0m model\u001b[39m.\u001b[39mslope \u001b[39m=\u001b[39m \u001b[39m0\u001b[39m\n\u001b[1;32m     <a href='vscode-notebook-cell:/Users/dickinsd/Github/Designing-and-Implementing-a-Data-Science-Solution-on-Azure/2-7-exercise-implement-gradient-descent.ipynb#X14sZmlsZQ%3D%3D?line=16'>17</a>\u001b[0m \u001b[39mfor\u001b[39;00m i \u001b[39min\u001b[39;00m \u001b[39mrange\u001b[39m(number_of_iterations):\n\u001b[1;32m     <a href='vscode-notebook-cell:/Users/dickinsd/Github/Designing-and-Implementing-a-Data-Science-Solution-on-Azure/2-7-exercise-implement-gradient-descent.ipynb#X14sZmlsZQ%3D%3D?line=17'>18</a>\u001b[0m     \u001b[39m# Calculate the predicted values\u001b[39;00m\n\u001b[0;32m---> <a href='vscode-notebook-cell:/Users/dickinsd/Github/Designing-and-Implementing-a-Data-Science-Solution-on-Azure/2-7-exercise-implement-gradient-descent.ipynb#X14sZmlsZQ%3D%3D?line=18'>19</a>\u001b[0m     predicted_temperature \u001b[39m=\u001b[39m model\u001b[39m.\u001b[39mpredict(x)\n\u001b[1;32m     <a href='vscode-notebook-cell:/Users/dickinsd/Github/Designing-and-Implementing-a-Data-Science-Solution-on-Azure/2-7-exercise-implement-gradient-descent.ipynb#X14sZmlsZQ%3D%3D?line=20'>21</a>\u001b[0m     \u001b[39m# == OPTIMIZER ===\u001b[39;00m\n\u001b[1;32m     <a href='vscode-notebook-cell:/Users/dickinsd/Github/Designing-and-Implementing-a-Data-Science-Solution-on-Azure/2-7-exercise-implement-gradient-descent.ipynb#X14sZmlsZQ%3D%3D?line=21'>22</a>\u001b[0m     \u001b[39m# Calculate the gradient\u001b[39;00m\n\u001b[1;32m     <a href='vscode-notebook-cell:/Users/dickinsd/Github/Designing-and-Implementing-a-Data-Science-Solution-on-Azure/2-7-exercise-implement-gradient-descent.ipynb#X14sZmlsZQ%3D%3D?line=22'>23</a>\u001b[0m     _, grad_slope \u001b[39m=\u001b[39m calculate_gradient(predicted_temperature)\n",
            "\u001b[0;31mNameError\u001b[0m: name 'x' is not defined"
          ]
        }
      ],
      "source": [
        "def gradient_descent(learning_rate, number_of_iterations):\n",
        "    \"\"\"\n",
        "    Performs gradient descent for a one-variable function. \n",
        "\n",
        "    learning_rate: Larger numbers follow the gradient more aggressively\n",
        "    number_of_iterations: The maximum number of iterations to perform\n",
        "    \"\"\"\n",
        "\n",
        "    # Our starting guess is y = 0 * x - 83\n",
        "    # We're going to start with the correct intercept so that \n",
        "    # only the line's slope is estimated. This is just to keep\n",
        "    # things simple for this exercise\n",
        "    model = MyModel()\n",
        "    model.intercept = -83\n",
        "    model.slope = 0\n",
        "\n",
        "    for i in range(number_of_iterations):\n",
        "        # Calculate the predicted values\n",
        "        predicted_temperature = model.predict(x)\n",
        "\n",
        "        # == OPTIMIZER ===\n",
        "        # Calculate the gradient\n",
        "        _, grad_slope = calculate_gradient(predicted_temperature)\n",
        "        # Update the estimation of the line\n",
        "        model.slope -= learning_rate * grad_slope\n",
        "\n",
        "        # Print the current estimation and cost every 100 iterations\n",
        "        if( i % 100 == 0):\n",
        "            estimate = model.predict(x)\n",
        "            cost = cost_function(estimate)\n",
        "            print(\"Next estimate:\", model.get_summary(), f\"Cost: {cost}\")\n",
        "\n",
        "    # Print the final model\n",
        "    print(f\"Final estimate:\", model.get_summary())\n",
        "\n",
        "# Run gradient descent\n",
        "gradient_descent(learning_rate=1E-9, number_of_iterations=1000)"
      ]
    },
    {
      "cell_type": "markdown",
      "metadata": {},
      "source": [
        "Our model found the correct answer, but it took a number of steps. Looking at the printout, we can see how it progressively stepped toward the correct solution.\n",
        "\n",
        "Now, what happens if we make the learning rate faster? This means taking larger steps."
      ]
    },
    {
      "cell_type": "code",
      "execution_count": 7,
      "metadata": {},
      "outputs": [
        {
          "ename": "NameError",
          "evalue": "name 'x' is not defined",
          "output_type": "error",
          "traceback": [
            "\u001b[0;31m---------------------------------------------------------------------------\u001b[0m",
            "\u001b[0;31mNameError\u001b[0m                                 Traceback (most recent call last)",
            "\u001b[1;32m/Users/dickinsd/Github/Designing-and-Implementing-a-Data-Science-Solution-on-Azure/2-7-exercise-implement-gradient-descent.ipynb Cell 14\u001b[0m in \u001b[0;36m<cell line: 1>\u001b[0;34m()\u001b[0m\n\u001b[0;32m----> <a href='vscode-notebook-cell:/Users/dickinsd/Github/Designing-and-Implementing-a-Data-Science-Solution-on-Azure/2-7-exercise-implement-gradient-descent.ipynb#X16sZmlsZQ%3D%3D?line=0'>1</a>\u001b[0m gradient_descent(learning_rate\u001b[39m=\u001b[39;49m\u001b[39m1E-8\u001b[39;49m, number_of_iterations\u001b[39m=\u001b[39;49m\u001b[39m200\u001b[39;49m)\n",
            "\u001b[1;32m/Users/dickinsd/Github/Designing-and-Implementing-a-Data-Science-Solution-on-Azure/2-7-exercise-implement-gradient-descent.ipynb Cell 14\u001b[0m in \u001b[0;36mgradient_descent\u001b[0;34m(learning_rate, number_of_iterations)\u001b[0m\n\u001b[1;32m     <a href='vscode-notebook-cell:/Users/dickinsd/Github/Designing-and-Implementing-a-Data-Science-Solution-on-Azure/2-7-exercise-implement-gradient-descent.ipynb#X16sZmlsZQ%3D%3D?line=14'>15</a>\u001b[0m model\u001b[39m.\u001b[39mslope \u001b[39m=\u001b[39m \u001b[39m0\u001b[39m\n\u001b[1;32m     <a href='vscode-notebook-cell:/Users/dickinsd/Github/Designing-and-Implementing-a-Data-Science-Solution-on-Azure/2-7-exercise-implement-gradient-descent.ipynb#X16sZmlsZQ%3D%3D?line=16'>17</a>\u001b[0m \u001b[39mfor\u001b[39;00m i \u001b[39min\u001b[39;00m \u001b[39mrange\u001b[39m(number_of_iterations):\n\u001b[1;32m     <a href='vscode-notebook-cell:/Users/dickinsd/Github/Designing-and-Implementing-a-Data-Science-Solution-on-Azure/2-7-exercise-implement-gradient-descent.ipynb#X16sZmlsZQ%3D%3D?line=17'>18</a>\u001b[0m     \u001b[39m# Calculate the predicted values\u001b[39;00m\n\u001b[0;32m---> <a href='vscode-notebook-cell:/Users/dickinsd/Github/Designing-and-Implementing-a-Data-Science-Solution-on-Azure/2-7-exercise-implement-gradient-descent.ipynb#X16sZmlsZQ%3D%3D?line=18'>19</a>\u001b[0m     predicted_temperature \u001b[39m=\u001b[39m model\u001b[39m.\u001b[39mpredict(x)\n\u001b[1;32m     <a href='vscode-notebook-cell:/Users/dickinsd/Github/Designing-and-Implementing-a-Data-Science-Solution-on-Azure/2-7-exercise-implement-gradient-descent.ipynb#X16sZmlsZQ%3D%3D?line=20'>21</a>\u001b[0m     \u001b[39m# == OPTIMIZER ===\u001b[39;00m\n\u001b[1;32m     <a href='vscode-notebook-cell:/Users/dickinsd/Github/Designing-and-Implementing-a-Data-Science-Solution-on-Azure/2-7-exercise-implement-gradient-descent.ipynb#X16sZmlsZQ%3D%3D?line=21'>22</a>\u001b[0m     \u001b[39m# Calculate the gradient\u001b[39;00m\n\u001b[1;32m     <a href='vscode-notebook-cell:/Users/dickinsd/Github/Designing-and-Implementing-a-Data-Science-Solution-on-Azure/2-7-exercise-implement-gradient-descent.ipynb#X16sZmlsZQ%3D%3D?line=22'>23</a>\u001b[0m     _, grad_slope \u001b[39m=\u001b[39m calculate_gradient(predicted_temperature)\n",
            "\u001b[0;31mNameError\u001b[0m: name 'x' is not defined"
          ]
        }
      ],
      "source": [
        "gradient_descent(learning_rate=1E-8, number_of_iterations=200)"
      ]
    },
    {
      "cell_type": "markdown",
      "metadata": {},
      "source": [
        "Our model appears to have found the solution faster. If we increase the rate even more, however, things don't go so well:"
      ]
    },
    {
      "cell_type": "code",
      "execution_count": 8,
      "metadata": {},
      "outputs": [
        {
          "ename": "NameError",
          "evalue": "name 'x' is not defined",
          "output_type": "error",
          "traceback": [
            "\u001b[0;31m---------------------------------------------------------------------------\u001b[0m",
            "\u001b[0;31mNameError\u001b[0m                                 Traceback (most recent call last)",
            "\u001b[1;32m/Users/dickinsd/Github/Designing-and-Implementing-a-Data-Science-Solution-on-Azure/2-7-exercise-implement-gradient-descent.ipynb Cell 16\u001b[0m in \u001b[0;36m<cell line: 1>\u001b[0;34m()\u001b[0m\n\u001b[0;32m----> <a href='vscode-notebook-cell:/Users/dickinsd/Github/Designing-and-Implementing-a-Data-Science-Solution-on-Azure/2-7-exercise-implement-gradient-descent.ipynb#X21sZmlsZQ%3D%3D?line=0'>1</a>\u001b[0m gradient_descent(learning_rate\u001b[39m=\u001b[39;49m\u001b[39m5E-7\u001b[39;49m, number_of_iterations\u001b[39m=\u001b[39;49m\u001b[39m500\u001b[39;49m)\n",
            "\u001b[1;32m/Users/dickinsd/Github/Designing-and-Implementing-a-Data-Science-Solution-on-Azure/2-7-exercise-implement-gradient-descent.ipynb Cell 16\u001b[0m in \u001b[0;36mgradient_descent\u001b[0;34m(learning_rate, number_of_iterations)\u001b[0m\n\u001b[1;32m     <a href='vscode-notebook-cell:/Users/dickinsd/Github/Designing-and-Implementing-a-Data-Science-Solution-on-Azure/2-7-exercise-implement-gradient-descent.ipynb#X21sZmlsZQ%3D%3D?line=14'>15</a>\u001b[0m model\u001b[39m.\u001b[39mslope \u001b[39m=\u001b[39m \u001b[39m0\u001b[39m\n\u001b[1;32m     <a href='vscode-notebook-cell:/Users/dickinsd/Github/Designing-and-Implementing-a-Data-Science-Solution-on-Azure/2-7-exercise-implement-gradient-descent.ipynb#X21sZmlsZQ%3D%3D?line=16'>17</a>\u001b[0m \u001b[39mfor\u001b[39;00m i \u001b[39min\u001b[39;00m \u001b[39mrange\u001b[39m(number_of_iterations):\n\u001b[1;32m     <a href='vscode-notebook-cell:/Users/dickinsd/Github/Designing-and-Implementing-a-Data-Science-Solution-on-Azure/2-7-exercise-implement-gradient-descent.ipynb#X21sZmlsZQ%3D%3D?line=17'>18</a>\u001b[0m     \u001b[39m# Calculate the predicted values\u001b[39;00m\n\u001b[0;32m---> <a href='vscode-notebook-cell:/Users/dickinsd/Github/Designing-and-Implementing-a-Data-Science-Solution-on-Azure/2-7-exercise-implement-gradient-descent.ipynb#X21sZmlsZQ%3D%3D?line=18'>19</a>\u001b[0m     predicted_temperature \u001b[39m=\u001b[39m model\u001b[39m.\u001b[39mpredict(x)\n\u001b[1;32m     <a href='vscode-notebook-cell:/Users/dickinsd/Github/Designing-and-Implementing-a-Data-Science-Solution-on-Azure/2-7-exercise-implement-gradient-descent.ipynb#X21sZmlsZQ%3D%3D?line=20'>21</a>\u001b[0m     \u001b[39m# == OPTIMIZER ===\u001b[39;00m\n\u001b[1;32m     <a href='vscode-notebook-cell:/Users/dickinsd/Github/Designing-and-Implementing-a-Data-Science-Solution-on-Azure/2-7-exercise-implement-gradient-descent.ipynb#X21sZmlsZQ%3D%3D?line=21'>22</a>\u001b[0m     \u001b[39m# Calculate the gradient\u001b[39;00m\n\u001b[1;32m     <a href='vscode-notebook-cell:/Users/dickinsd/Github/Designing-and-Implementing-a-Data-Science-Solution-on-Azure/2-7-exercise-implement-gradient-descent.ipynb#X21sZmlsZQ%3D%3D?line=22'>23</a>\u001b[0m     _, grad_slope \u001b[39m=\u001b[39m calculate_gradient(predicted_temperature)\n",
            "\u001b[0;31mNameError\u001b[0m: name 'x' is not defined"
          ]
        }
      ],
      "source": [
        "gradient_descent(learning_rate=5E-7, number_of_iterations=500)"
      ]
    },
    {
      "cell_type": "markdown",
      "metadata": {},
      "source": [
        "Notice how the cost is getting worse each time.\n",
        "\n",
        "This is because the steps that the model was taking were too large. Although it would step toward the correct solution, it would step too far and actually get worse with each attempt.\n",
        "\n",
        "For each model, there's an ideal learning rate. It requires experimentation.\n",
        "\n",
        "## Fitting multiple variables simultaneously\n",
        "\n",
        "We've just fit one variable here to keep things simple. Expanding this to fit multiple variables requires only a few small code changes:\n",
        "\n",
        "* We need to update more than one variable in the gradient descent loop.\n",
        "\n",
        "* We need to do some preprocessing of the data, which we alluded to in an earlier exercise. We'll cover how and why in later learning material. \n",
        "\n",
        "## Summary\n",
        "\n",
        "Well done! In this unit, we:\n",
        "\n",
        "* Watched gradient descent in action.\n",
        "\n",
        "* Saw how changing the learning rate can improve a model's training speed.\n",
        "\n",
        "* Learned that changing the learning rate can also result in unstable models.\n",
        "\n",
        "You might have noticed that where the cost function stopped and the optimizer began became a little blurred here. Don't let that bother you. This is happens commonly, simply because they're conceptually separate and their mathematics sometimes can become intertwined."
      ]
    }
  ],
  "metadata": {
    "kernel_info": {
      "name": "conda-env-py38_default-py"
    },
    "kernelspec": {
      "display_name": "Python 3.9.13 ('base')",
      "language": "python",
      "name": "python3"
    },
    "language_info": {
      "codemirror_mode": {
        "name": "ipython",
        "version": 3
      },
      "file_extension": ".py",
      "mimetype": "text/x-python",
      "name": "python",
      "nbconvert_exporter": "python",
      "pygments_lexer": "ipython3",
      "version": "3.9.13"
    },
    "nteract": {
      "version": "nteract-front-end@1.0.0"
    },
    "vscode": {
      "interpreter": {
        "hash": "29ba88fc74c30cfb08fb6ce3b25c2ccd724cd11e96a643650e6c772fb9859a2d"
      }
    }
  },
  "nbformat": 4,
  "nbformat_minor": 2
}
