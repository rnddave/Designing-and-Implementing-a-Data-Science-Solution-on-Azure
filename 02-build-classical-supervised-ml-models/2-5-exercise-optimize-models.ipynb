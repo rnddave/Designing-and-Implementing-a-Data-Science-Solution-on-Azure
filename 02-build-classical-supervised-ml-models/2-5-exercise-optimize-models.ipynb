{
  "cells": [
    {
      "cell_type": "markdown",
      "id": "1ef9f31a-d66b-4821-8cc5-6f01d7a4f492",
      "metadata": {},
      "source": [
        "# Exercise: Supervised learning by using different cost functions\n",
        "\n",
        "In this exercise, we'll have a deeper look at how cost functions can change:\n",
        "\n",
        "* How well models appear to have fit data.\n",
        "* The kinds of relationships a model represents.\n",
        "\n",
        "## Loading the data\n",
        "\n",
        "Let's start by loading the data. To make this exercise simpler, we'll use only a few datapoints this time."
      ]
    },
    {
      "cell_type": "code",
      "execution_count": 1,
      "id": "3d28b584-c7d9-4761-9a36-bb1264d86e1f",
      "metadata": {},
      "outputs": [
        {
          "name": "stdout",
          "output_type": "stream",
          "text": [
            "--2022-11-22 11:24:39--  https://raw.githubusercontent.com/MicrosoftDocs/mslearn-introduction-to-machine-learning/main/graphing.py\n",
            "Resolving raw.githubusercontent.com (raw.githubusercontent.com)... 185.199.109.133, 185.199.110.133, 185.199.111.133, ...\n",
            "Connecting to raw.githubusercontent.com (raw.githubusercontent.com)|185.199.109.133|:443... connected.\n",
            "HTTP request sent, awaiting response... 200 OK\n",
            "Length: 21511 (21K) [text/plain]\n",
            "Saving to: ‘graphing.py.3’\n",
            "\n",
            "graphing.py.3       100%[===================>]  21.01K  --.-KB/s    in 0.003s  \n",
            "\n",
            "2022-11-22 11:24:39 (7.31 MB/s) - ‘graphing.py.3’ saved [21511/21511]\n",
            "\n",
            "--2022-11-22 11:24:39--  https://raw.githubusercontent.com/MicrosoftDocs/mslearn-introduction-to-machine-learning/main/microsoft_custom_linear_regressor.py\n",
            "Resolving raw.githubusercontent.com (raw.githubusercontent.com)... 185.199.110.133, 185.199.108.133, 185.199.111.133, ...\n",
            "Connecting to raw.githubusercontent.com (raw.githubusercontent.com)|185.199.110.133|:443... connected.\n",
            "HTTP request sent, awaiting response... 200 OK\n",
            "Length: 2167 (2.1K) [text/plain]\n",
            "Saving to: ‘microsoft_custom_linear_regressor.py’\n",
            "\n",
            "microsoft_custom_li 100%[===================>]   2.12K  --.-KB/s    in 0s      \n",
            "\n",
            "2022-11-22 11:24:39 (17.8 MB/s) - ‘microsoft_custom_linear_regressor.py’ saved [2167/2167]\n",
            "\n",
            "--2022-11-22 11:24:40--  https://raw.githubusercontent.com/MicrosoftDocs/mslearn-introduction-to-machine-learning/main/Data/seattleWeather_1948-2017.csv\n",
            "Resolving raw.githubusercontent.com (raw.githubusercontent.com)... 185.199.111.133, 185.199.108.133, 185.199.109.133, ...\n",
            "Connecting to raw.githubusercontent.com (raw.githubusercontent.com)|185.199.111.133|:443... connected.\n",
            "HTTP request sent, awaiting response... 200 OK\n",
            "Length: 762017 (744K) [text/plain]\n",
            "Saving to: ‘seattleWeather_1948-2017.csv.1’\n",
            "\n",
            "seattleWeather_1948 100%[===================>] 744.16K  --.-KB/s    in 0.1s    \n",
            "\n",
            "2022-11-22 11:24:40 (5.68 MB/s) - ‘seattleWeather_1948-2017.csv.1’ saved [762017/762017]\n",
            "\n"
          ]
        },
        {
          "data": {
            "text/html": [
              "<div>\n",
              "<style scoped>\n",
              "    .dataframe tbody tr th:only-of-type {\n",
              "        vertical-align: middle;\n",
              "    }\n",
              "\n",
              "    .dataframe tbody tr th {\n",
              "        vertical-align: top;\n",
              "    }\n",
              "\n",
              "    .dataframe thead th {\n",
              "        text-align: right;\n",
              "    }\n",
              "</style>\n",
              "<table border=\"1\" class=\"dataframe\">\n",
              "  <thead>\n",
              "    <tr style=\"text-align: right;\">\n",
              "      <th></th>\n",
              "      <th>date</th>\n",
              "      <th>amount_of_precipitation</th>\n",
              "      <th>max_temperature</th>\n",
              "      <th>min_temperature</th>\n",
              "      <th>rain</th>\n",
              "      <th>year</th>\n",
              "    </tr>\n",
              "  </thead>\n",
              "  <tbody>\n",
              "    <tr>\n",
              "      <th>762</th>\n",
              "      <td>1950-02-01</td>\n",
              "      <td>0.00</td>\n",
              "      <td>27</td>\n",
              "      <td>1</td>\n",
              "      <td>False</td>\n",
              "      <td>1950.087611</td>\n",
              "    </tr>\n",
              "    <tr>\n",
              "      <th>4414</th>\n",
              "      <td>1960-02-01</td>\n",
              "      <td>0.15</td>\n",
              "      <td>52</td>\n",
              "      <td>44</td>\n",
              "      <td>True</td>\n",
              "      <td>1960.087611</td>\n",
              "    </tr>\n",
              "    <tr>\n",
              "      <th>8067</th>\n",
              "      <td>1970-02-01</td>\n",
              "      <td>0.00</td>\n",
              "      <td>50</td>\n",
              "      <td>42</td>\n",
              "      <td>False</td>\n",
              "      <td>1970.087611</td>\n",
              "    </tr>\n",
              "    <tr>\n",
              "      <th>11719</th>\n",
              "      <td>1980-02-01</td>\n",
              "      <td>0.37</td>\n",
              "      <td>54</td>\n",
              "      <td>36</td>\n",
              "      <td>True</td>\n",
              "      <td>1980.087611</td>\n",
              "    </tr>\n",
              "    <tr>\n",
              "      <th>15372</th>\n",
              "      <td>1990-02-01</td>\n",
              "      <td>0.08</td>\n",
              "      <td>45</td>\n",
              "      <td>37</td>\n",
              "      <td>True</td>\n",
              "      <td>1990.087611</td>\n",
              "    </tr>\n",
              "    <tr>\n",
              "      <th>19024</th>\n",
              "      <td>2000-02-01</td>\n",
              "      <td>1.34</td>\n",
              "      <td>49</td>\n",
              "      <td>41</td>\n",
              "      <td>True</td>\n",
              "      <td>2000.087611</td>\n",
              "    </tr>\n",
              "    <tr>\n",
              "      <th>22677</th>\n",
              "      <td>2010-02-01</td>\n",
              "      <td>0.08</td>\n",
              "      <td>49</td>\n",
              "      <td>40</td>\n",
              "      <td>True</td>\n",
              "      <td>2010.087611</td>\n",
              "    </tr>\n",
              "    <tr>\n",
              "      <th>25234</th>\n",
              "      <td>2017-02-01</td>\n",
              "      <td>0.00</td>\n",
              "      <td>43</td>\n",
              "      <td>29</td>\n",
              "      <td>False</td>\n",
              "      <td>2017.087611</td>\n",
              "    </tr>\n",
              "  </tbody>\n",
              "</table>\n",
              "</div>"
            ],
            "text/plain": [
              "            date  amount_of_precipitation  max_temperature  min_temperature  \\\n",
              "762   1950-02-01                     0.00               27                1   \n",
              "4414  1960-02-01                     0.15               52               44   \n",
              "8067  1970-02-01                     0.00               50               42   \n",
              "11719 1980-02-01                     0.37               54               36   \n",
              "15372 1990-02-01                     0.08               45               37   \n",
              "19024 2000-02-01                     1.34               49               41   \n",
              "22677 2010-02-01                     0.08               49               40   \n",
              "25234 2017-02-01                     0.00               43               29   \n",
              "\n",
              "        rain         year  \n",
              "762    False  1950.087611  \n",
              "4414    True  1960.087611  \n",
              "8067   False  1970.087611  \n",
              "11719   True  1980.087611  \n",
              "15372   True  1990.087611  \n",
              "19024   True  2000.087611  \n",
              "22677   True  2010.087611  \n",
              "25234  False  2017.087611  "
            ]
          },
          "execution_count": 1,
          "metadata": {},
          "output_type": "execute_result"
        }
      ],
      "source": [
        "import pandas\n",
        "!wget https://raw.githubusercontent.com/MicrosoftDocs/mslearn-introduction-to-machine-learning/main/graphing.py\n",
        "!wget https://raw.githubusercontent.com/MicrosoftDocs/mslearn-introduction-to-machine-learning/main/microsoft_custom_linear_regressor.py\n",
        "!wget https://raw.githubusercontent.com/MicrosoftDocs/mslearn-introduction-to-machine-learning/main/Data/seattleWeather_1948-2017.csv\n",
        "from datetime import datetime\n",
        "\n",
        "# Load a file that contains our weather data\n",
        "dataset = pandas.read_csv('seattleWeather_1948-2017.csv', parse_dates=['date'])\n",
        "\n",
        "# Convert the dates into numbers so we can use them in our models\n",
        "# We make a year column that can contain fractions. For example,\n",
        "# 1948.5 is halfway through the year 1948\n",
        "dataset[\"year\"] = [(d.year + d.timetuple().tm_yday / 365.25) for d in dataset.date]\n",
        "\n",
        "\n",
        "# For the sake of this exercise, let's look at February 1 for the following years:\n",
        "desired_dates = [\n",
        "    datetime(1950,2,1),\n",
        "    datetime(1960,2,1),\n",
        "    datetime(1970,2,1),\n",
        "    datetime(1980,2,1),\n",
        "    datetime(1990,2,1),\n",
        "    datetime(2000,2,1),\n",
        "    datetime(2010,2,1),\n",
        "    datetime(2017,2,1),\n",
        "]\n",
        "\n",
        "dataset = dataset[dataset.date.isin(desired_dates)].copy()\n",
        "\n",
        "# Print the dataset\n",
        "dataset\n"
      ]
    },
    {
      "cell_type": "markdown",
      "id": "9779a5d3-660f-4179-9cd2-c1d89610a9ea",
      "metadata": {},
      "source": [
        "## Comparing two cost functions\n",
        "\n",
        "Let's compare two common cost functions: the _sum of squared differences_ (SSD) and the _sum of absolute differences_ (SAD). They both calculate the difference between each predicted value and the expected value. The distinction is simply: \n",
        "\n",
        "* SSD squares that difference and sums the result.\n",
        "* SAD converts differences into absolute differences and then sums them.\n",
        "\n",
        "To see these cost functions in action, we need to first implement them:"
      ]
    },
    {
      "cell_type": "code",
      "execution_count": 4,
      "id": "6b3a79b8-01c5-4f12-b29c-e27e35f349c1",
      "metadata": {},
      "outputs": [],
      "source": [
        "import numpy\n",
        "\n",
        "def sum_of_square_differences(estimate, actual):\n",
        "    # Note that with NumPy, to square each value we use **\n",
        "    return numpy.sum((estimate - actual)**2)\n",
        "\n",
        "def sum_of_absolute_differences(estimate, actual):\n",
        "    return numpy.sum(numpy.abs(estimate - actual))"
      ]
    },
    {
      "cell_type": "markdown",
      "id": "eb9ea7aa-3a09-461e-ad29-a52d994e657d",
      "metadata": {},
      "source": [
        "They're very similar. How do they behave? Let's test with some fake model estimates.\n",
        "\n",
        "Let's say that the correct answers are `1` and `3`, but the model estimates `2` and `2`:"
      ]
    },
    {
      "cell_type": "code",
      "execution_count": 5,
      "id": "c7f84c59-fc51-4df2-84bc-23734583c979",
      "metadata": {},
      "outputs": [
        {
          "name": "stdout",
          "output_type": "stream",
          "text": [
            "SSD: 2\n",
            "SAD: 2\n"
          ]
        }
      ],
      "source": [
        "actual_label = numpy.array([1, 3])\n",
        "model_estimate = numpy.array([2, 2])\n",
        "\n",
        "print(\"SSD:\", sum_of_square_differences(model_estimate, actual_label))\n",
        "print(\"SAD:\", sum_of_absolute_differences(model_estimate, actual_label))"
      ]
    },
    {
      "cell_type": "markdown",
      "id": "8fbe2301-1d49-46f5-8611-c55047c4a160",
      "metadata": {},
      "source": [
        "We have an error of `1` for each estimate, and both methods have returned the same error. \n",
        "\n",
        "What happens if we distribute these errors differently? Let's pretend that we estimated the first value perfectly but were off by `2` for the second value: "
      ]
    },
    {
      "cell_type": "code",
      "execution_count": 6,
      "id": "668b4511-04c5-4a0f-9f40-10a16158eb90",
      "metadata": {},
      "outputs": [
        {
          "name": "stdout",
          "output_type": "stream",
          "text": [
            "SSD: 4\n",
            "SAD: 2\n"
          ]
        }
      ],
      "source": [
        "actual_label = numpy.array([1, 3])\n",
        "model_estimate = numpy.array([1, 1])\n",
        "\n",
        "print(\"SSD:\", sum_of_square_differences(model_estimate, actual_label))\n",
        "print(\"SAD:\", sum_of_absolute_differences(model_estimate, actual_label))"
      ]
    },
    {
      "cell_type": "markdown",
      "id": "faf4b15c-edb2-497d-af9f-c934a3b6c4a9",
      "metadata": {},
      "source": [
        "SAD has calculated the same cost as before, because the average error is still the same (`1 + 1 = 0 + 2`). According to SAD, the first and second set of estimates were equally good. \n",
        "\n",
        "By contrast, SSD has given a higher (worse) cost for the second set of estimates ( $1^2 + 1^2 < 0^2 + 2^2 $ ). When we use SSD, we encourage models to be both accurate and consistent in their accuracy.\n",
        "\n",
        "\n",
        "## Differences in action\n",
        "\n",
        "Let's compare how our two cost functions affect model fitting.\n",
        "\n",
        "First, fit a model by using the SSD cost function:"
      ]
    },
    {
      "cell_type": "code",
      "execution_count": 7,
      "id": "03fd66c4-844d-41d2-9d74-4a7eb4e540e2",
      "metadata": {},
      "outputs": [
        {
          "ename": "ModuleNotFoundError",
          "evalue": "No module named 'plotly'",
          "output_type": "error",
          "traceback": [
            "\u001b[0;31m---------------------------------------------------------------------------\u001b[0m",
            "\u001b[0;31mModuleNotFoundError\u001b[0m                       Traceback (most recent call last)",
            "\u001b[1;32m/Users/dickinsd/Github/Designing-and-Implementing-a-Data-Science-Solution-on-Azure/2-5-exercise-optimize-models.ipynb Cell 10\u001b[0m in \u001b[0;36m<cell line: 2>\u001b[0;34m()\u001b[0m\n\u001b[1;32m      <a href='vscode-notebook-cell:/Users/dickinsd/Github/Designing-and-Implementing-a-Data-Science-Solution-on-Azure/2-5-exercise-optimize-models.ipynb#X12sZmlsZQ%3D%3D?line=0'>1</a>\u001b[0m \u001b[39mfrom\u001b[39;00m \u001b[39mmicrosoft_custom_linear_regressor\u001b[39;00m \u001b[39mimport\u001b[39;00m MicrosoftCustomLinearRegressor\n\u001b[0;32m----> <a href='vscode-notebook-cell:/Users/dickinsd/Github/Designing-and-Implementing-a-Data-Science-Solution-on-Azure/2-5-exercise-optimize-models.ipynb#X12sZmlsZQ%3D%3D?line=1'>2</a>\u001b[0m \u001b[39mimport\u001b[39;00m \u001b[39mgraphing\u001b[39;00m\n\u001b[1;32m      <a href='vscode-notebook-cell:/Users/dickinsd/Github/Designing-and-Implementing-a-Data-Science-Solution-on-Azure/2-5-exercise-optimize-models.ipynb#X12sZmlsZQ%3D%3D?line=3'>4</a>\u001b[0m \u001b[39m# Create and fit the model\u001b[39;00m\n\u001b[1;32m      <a href='vscode-notebook-cell:/Users/dickinsd/Github/Designing-and-Implementing-a-Data-Science-Solution-on-Azure/2-5-exercise-optimize-models.ipynb#X12sZmlsZQ%3D%3D?line=4'>5</a>\u001b[0m \u001b[39m# We use a custom object that we've hidden from this notebook, because\u001b[39;00m\n\u001b[1;32m      <a href='vscode-notebook-cell:/Users/dickinsd/Github/Designing-and-Implementing-a-Data-Science-Solution-on-Azure/2-5-exercise-optimize-models.ipynb#X12sZmlsZQ%3D%3D?line=5'>6</a>\u001b[0m \u001b[39m# you don't need to understand its details. This fits a linear model\u001b[39;00m\n\u001b[1;32m      <a href='vscode-notebook-cell:/Users/dickinsd/Github/Designing-and-Implementing-a-Data-Science-Solution-on-Azure/2-5-exercise-optimize-models.ipynb#X12sZmlsZQ%3D%3D?line=6'>7</a>\u001b[0m \u001b[39m# by using a provided cost function\u001b[39;00m\n\u001b[1;32m      <a href='vscode-notebook-cell:/Users/dickinsd/Github/Designing-and-Implementing-a-Data-Science-Solution-on-Azure/2-5-exercise-optimize-models.ipynb#X12sZmlsZQ%3D%3D?line=7'>8</a>\u001b[0m \n\u001b[1;32m      <a href='vscode-notebook-cell:/Users/dickinsd/Github/Designing-and-Implementing-a-Data-Science-Solution-on-Azure/2-5-exercise-optimize-models.ipynb#X12sZmlsZQ%3D%3D?line=8'>9</a>\u001b[0m \u001b[39m# Fit a model by using sum of square differences\u001b[39;00m\n\u001b[1;32m     <a href='vscode-notebook-cell:/Users/dickinsd/Github/Designing-and-Implementing-a-Data-Science-Solution-on-Azure/2-5-exercise-optimize-models.ipynb#X12sZmlsZQ%3D%3D?line=9'>10</a>\u001b[0m model \u001b[39m=\u001b[39m MicrosoftCustomLinearRegressor()\u001b[39m.\u001b[39mfit(X \u001b[39m=\u001b[39m dataset\u001b[39m.\u001b[39myear, \n\u001b[1;32m     <a href='vscode-notebook-cell:/Users/dickinsd/Github/Designing-and-Implementing-a-Data-Science-Solution-on-Azure/2-5-exercise-optimize-models.ipynb#X12sZmlsZQ%3D%3D?line=10'>11</a>\u001b[0m                                              y \u001b[39m=\u001b[39m dataset\u001b[39m.\u001b[39mmin_temperature, \n\u001b[1;32m     <a href='vscode-notebook-cell:/Users/dickinsd/Github/Designing-and-Implementing-a-Data-Science-Solution-on-Azure/2-5-exercise-optimize-models.ipynb#X12sZmlsZQ%3D%3D?line=11'>12</a>\u001b[0m                                              cost_function \u001b[39m=\u001b[39m sum_of_square_differences)\n",
            "File \u001b[0;32m~/Github/Designing-and-Implementing-a-Data-Science-Solution-on-Azure/graphing.py:9\u001b[0m, in \u001b[0;36m<module>\u001b[0;34m\u001b[0m\n\u001b[1;32m      7\u001b[0m \u001b[39mfrom\u001b[39;00m \u001b[39mnumpy\u001b[39;00m\u001b[39m.\u001b[39;00m\u001b[39mcore\u001b[39;00m\u001b[39m.\u001b[39;00m\u001b[39mfromnumeric\u001b[39;00m \u001b[39mimport\u001b[39;00m repeat, shape\n\u001b[1;32m      8\u001b[0m \u001b[39mimport\u001b[39;00m \u001b[39mpandas\u001b[39;00m\n\u001b[0;32m----> 9\u001b[0m \u001b[39mimport\u001b[39;00m \u001b[39mplotly\u001b[39;00m\u001b[39m.\u001b[39;00m\u001b[39mexpress\u001b[39;00m \u001b[39mas\u001b[39;00m \u001b[39mpx\u001b[39;00m\n\u001b[1;32m     10\u001b[0m \u001b[39mimport\u001b[39;00m \u001b[39mplotly\u001b[39;00m\u001b[39m.\u001b[39;00m\u001b[39mio\u001b[39;00m \u001b[39mas\u001b[39;00m \u001b[39mpio\u001b[39;00m\n\u001b[1;32m     11\u001b[0m \u001b[39mimport\u001b[39;00m \u001b[39mplotly\u001b[39;00m\u001b[39m.\u001b[39;00m\u001b[39mgraph_objects\u001b[39;00m \u001b[39mas\u001b[39;00m \u001b[39mgraph_objects\u001b[39;00m\n",
            "\u001b[0;31mModuleNotFoundError\u001b[0m: No module named 'plotly'"
          ]
        }
      ],
      "source": [
        "from microsoft_custom_linear_regressor import MicrosoftCustomLinearRegressor\n",
        "import graphing\n",
        "\n",
        "# Create and fit the model\n",
        "# We use a custom object that we've hidden from this notebook, because\n",
        "# you don't need to understand its details. This fits a linear model\n",
        "# by using a provided cost function\n",
        "\n",
        "# Fit a model by using sum of square differences\n",
        "model = MicrosoftCustomLinearRegressor().fit(X = dataset.year, \n",
        "                                             y = dataset.min_temperature, \n",
        "                                             cost_function = sum_of_square_differences)\n",
        "\n",
        "# Graph the model\n",
        "graphing.scatter_2D(dataset, \n",
        "                    label_x=\"year\", \n",
        "                    label_y=\"min_temperature\", \n",
        "                    trendline=model.predict)\n"
      ]
    },
    {
      "cell_type": "markdown",
      "id": "e2f6f0e5-5b7f-4bd6-b21a-30a58ef1b1d1",
      "metadata": {},
      "source": [
        "Our SSD method normally does well, but here it did a poor job. The line is a far distance from the values for many years. Why? Notice that the datapoint at the lower left doesn't seem to follow the trend of the other datapoints. 1950 was a very cold winter in Seattle, and this datapoint is strongly influencing our final model (the blue line). What happens if we change the cost function?\n",
        "\n",
        "### Sum of absolute differences\n",
        "\n",
        "Let's repeat what we've just done, but using SAD."
      ]
    },
    {
      "cell_type": "code",
      "execution_count": 8,
      "id": "d5a3449f-0da8-477f-b511-1c0f10b2fe0c",
      "metadata": {},
      "outputs": [
        {
          "ename": "NameError",
          "evalue": "name 'graphing' is not defined",
          "output_type": "error",
          "traceback": [
            "\u001b[0;31m---------------------------------------------------------------------------\u001b[0m",
            "\u001b[0;31mNameError\u001b[0m                                 Traceback (most recent call last)",
            "\u001b[1;32m/Users/dickinsd/Github/Designing-and-Implementing-a-Data-Science-Solution-on-Azure/2-5-exercise-optimize-models.ipynb Cell 12\u001b[0m in \u001b[0;36m<cell line: 8>\u001b[0;34m()\u001b[0m\n\u001b[1;32m      <a href='vscode-notebook-cell:/Users/dickinsd/Github/Designing-and-Implementing-a-Data-Science-Solution-on-Azure/2-5-exercise-optimize-models.ipynb#X14sZmlsZQ%3D%3D?line=2'>3</a>\u001b[0m model \u001b[39m=\u001b[39m MicrosoftCustomLinearRegressor()\u001b[39m.\u001b[39mfit(X \u001b[39m=\u001b[39m dataset\u001b[39m.\u001b[39myear, \n\u001b[1;32m      <a href='vscode-notebook-cell:/Users/dickinsd/Github/Designing-and-Implementing-a-Data-Science-Solution-on-Azure/2-5-exercise-optimize-models.ipynb#X14sZmlsZQ%3D%3D?line=3'>4</a>\u001b[0m                                              y \u001b[39m=\u001b[39m dataset\u001b[39m.\u001b[39mmin_temperature, \n\u001b[1;32m      <a href='vscode-notebook-cell:/Users/dickinsd/Github/Designing-and-Implementing-a-Data-Science-Solution-on-Azure/2-5-exercise-optimize-models.ipynb#X14sZmlsZQ%3D%3D?line=4'>5</a>\u001b[0m                                              cost_function \u001b[39m=\u001b[39m sum_of_absolute_differences)\n\u001b[1;32m      <a href='vscode-notebook-cell:/Users/dickinsd/Github/Designing-and-Implementing-a-Data-Science-Solution-on-Azure/2-5-exercise-optimize-models.ipynb#X14sZmlsZQ%3D%3D?line=6'>7</a>\u001b[0m \u001b[39m# Graph the model\u001b[39;00m\n\u001b[0;32m----> <a href='vscode-notebook-cell:/Users/dickinsd/Github/Designing-and-Implementing-a-Data-Science-Solution-on-Azure/2-5-exercise-optimize-models.ipynb#X14sZmlsZQ%3D%3D?line=7'>8</a>\u001b[0m graphing\u001b[39m.\u001b[39mscatter_2D(dataset, \n\u001b[1;32m      <a href='vscode-notebook-cell:/Users/dickinsd/Github/Designing-and-Implementing-a-Data-Science-Solution-on-Azure/2-5-exercise-optimize-models.ipynb#X14sZmlsZQ%3D%3D?line=8'>9</a>\u001b[0m                     label_x\u001b[39m=\u001b[39m\u001b[39m\"\u001b[39m\u001b[39myear\u001b[39m\u001b[39m\"\u001b[39m, \n\u001b[1;32m     <a href='vscode-notebook-cell:/Users/dickinsd/Github/Designing-and-Implementing-a-Data-Science-Solution-on-Azure/2-5-exercise-optimize-models.ipynb#X14sZmlsZQ%3D%3D?line=9'>10</a>\u001b[0m                     label_y\u001b[39m=\u001b[39m\u001b[39m\"\u001b[39m\u001b[39mmin_temperature\u001b[39m\u001b[39m\"\u001b[39m, \n\u001b[1;32m     <a href='vscode-notebook-cell:/Users/dickinsd/Github/Designing-and-Implementing-a-Data-Science-Solution-on-Azure/2-5-exercise-optimize-models.ipynb#X14sZmlsZQ%3D%3D?line=10'>11</a>\u001b[0m                     trendline\u001b[39m=\u001b[39mmodel\u001b[39m.\u001b[39mpredict)\n",
            "\u001b[0;31mNameError\u001b[0m: name 'graphing' is not defined"
          ]
        }
      ],
      "source": [
        "# Fit a model with SSD\n",
        "# Fit a model by using sum of square differences\n",
        "model = MicrosoftCustomLinearRegressor().fit(X = dataset.year, \n",
        "                                             y = dataset.min_temperature, \n",
        "                                             cost_function = sum_of_absolute_differences)\n",
        "\n",
        "# Graph the model\n",
        "graphing.scatter_2D(dataset, \n",
        "                    label_x=\"year\", \n",
        "                    label_y=\"min_temperature\", \n",
        "                    trendline=model.predict)\n"
      ]
    },
    {
      "cell_type": "markdown",
      "id": "29f63f0f-381f-4ce4-b645-9a851ad1a073",
      "metadata": {},
      "source": [
        "It's clear that this line passes through the majority of points much better than before, at the expense of almost ignoring the measurement taken in 1950. \n",
        "\n",
        "In our farming scenario, we're interested in how average temperatures are changing over time. We don't have much interest in 1950 specifically, so for us, this is a better result. In other situations, of course, we might consider this result worse.\n",
        "\n",
        "\n",
        "## Summary\n",
        "\n",
        "In this exercise, you learned about how changing the cost function that's used during fitting can result in different final results. \n",
        "\n",
        "You also learned how this behavior happens because these cost functions describe the \"best\" way to fit a model. Although from a data analyst's point of view, there can be drawbacks no matter which cost function is chosen."
      ]
    }
  ],
  "metadata": {
    "kernel_info": {
      "name": "conda-env-py38_default-py"
    },
    "kernelspec": {
      "display_name": "Python 3.9.13 ('base')",
      "language": "python",
      "name": "python3"
    },
    "language_info": {
      "codemirror_mode": {
        "name": "ipython",
        "version": 3
      },
      "file_extension": ".py",
      "mimetype": "text/x-python",
      "name": "python",
      "nbconvert_exporter": "python",
      "pygments_lexer": "ipython3",
      "version": "3.9.13"
    },
    "nteract": {
      "version": "nteract-front-end@1.0.0"
    },
    "vscode": {
      "interpreter": {
        "hash": "29ba88fc74c30cfb08fb6ce3b25c2ccd724cd11e96a643650e6c772fb9859a2d"
      }
    }
  },
  "nbformat": 4,
  "nbformat_minor": 5
}
