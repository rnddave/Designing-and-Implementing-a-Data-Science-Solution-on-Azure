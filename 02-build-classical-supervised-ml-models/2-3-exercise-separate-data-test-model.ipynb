{
  "cells": [
    {
      "cell_type": "markdown",
      "id": "f6d3834f-cde0-4559-9a7d-9e4bee63a79a",
      "metadata": {},
      "source": [
        "# Exercise: Supervised learning\n",
        "\n",
        "Recall our farming scenario, in which we want to look at how January temperatures have changed over time. Now we'll build a model that achieves this by using supervised learning. \n",
        "\n",
        "With many libraries, we can build a model in only a few lines of code. Here, we'll break down the process into steps so that we can explore how things work.\n",
        "\n",
        "## Four components\n",
        "Recall that there are four key components to supervised learning: the data, the model, the cost function, and the optimizer. Let's inspect these one at a time.\n",
        "\n",
        "### 1. The data\n",
        "\n",
        "We'll use publicly available weather data for Seattle. Let's load that and restrict it to January temperatures."
      ]
    },
    {
      "cell_type": "code",
      "execution_count": 1,
      "id": "41614498-a9f6-460a-bb8e-9e8d6388bb91",
      "metadata": {},
      "outputs": [
        {
          "name": "stdout",
          "output_type": "stream",
          "text": [
            "--2022-11-22 11:09:44--  https://raw.githubusercontent.com/MicrosoftDocs/mslearn-introduction-to-machine-learning/main/graphing.py\n",
            "Resolving raw.githubusercontent.com (raw.githubusercontent.com)... 185.199.109.133, 185.199.110.133, 185.199.111.133, ...\n",
            "Connecting to raw.githubusercontent.com (raw.githubusercontent.com)|185.199.109.133|:443... connected.\n",
            "HTTP request sent, awaiting response... 200 OK\n",
            "Length: 21511 (21K) [text/plain]\n",
            "Saving to: ‘graphing.py.2’\n",
            "\n",
            "graphing.py.2       100%[===================>]  21.01K  --.-KB/s    in 0.005s  \n",
            "\n",
            "2022-11-22 11:09:44 (4.25 MB/s) - ‘graphing.py.2’ saved [21511/21511]\n",
            "\n",
            "--2022-11-22 11:09:44--  https://raw.githubusercontent.com/MicrosoftDocs/mslearn-introduction-to-machine-learning/main/m0b_optimizer.py\n",
            "Resolving raw.githubusercontent.com (raw.githubusercontent.com)... 185.199.110.133, 185.199.108.133, 185.199.111.133, ...\n",
            "Connecting to raw.githubusercontent.com (raw.githubusercontent.com)|185.199.110.133|:443... connected.\n",
            "HTTP request sent, awaiting response... 200 OK\n",
            "Length: 1287 (1.3K) [text/plain]\n",
            "Saving to: ‘m0b_optimizer.py’\n",
            "\n",
            "m0b_optimizer.py    100%[===================>]   1.26K  --.-KB/s    in 0s      \n",
            "\n",
            "2022-11-22 11:09:45 (76.7 MB/s) - ‘m0b_optimizer.py’ saved [1287/1287]\n",
            "\n",
            "--2022-11-22 11:09:45--  https://raw.githubusercontent.com/MicrosoftDocs/mslearn-introduction-to-machine-learning/main/Data/seattleWeather_1948-2017.csv\n",
            "Resolving raw.githubusercontent.com (raw.githubusercontent.com)... 185.199.111.133, 185.199.108.133, 185.199.109.133, ...\n",
            "Connecting to raw.githubusercontent.com (raw.githubusercontent.com)|185.199.111.133|:443... connected.\n",
            "HTTP request sent, awaiting response... 200 OK\n",
            "Length: 762017 (744K) [text/plain]\n",
            "Saving to: ‘seattleWeather_1948-2017.csv’\n",
            "\n",
            "seattleWeather_1948 100%[===================>] 744.16K  --.-KB/s    in 0.1s    \n",
            "\n",
            "2022-11-22 11:09:45 (6.29 MB/s) - ‘seattleWeather_1948-2017.csv’ saved [762017/762017]\n",
            "\n"
          ]
        },
        {
          "data": {
            "text/html": [
              "<div>\n",
              "<style scoped>\n",
              "    .dataframe tbody tr th:only-of-type {\n",
              "        vertical-align: middle;\n",
              "    }\n",
              "\n",
              "    .dataframe tbody tr th {\n",
              "        vertical-align: top;\n",
              "    }\n",
              "\n",
              "    .dataframe thead th {\n",
              "        text-align: right;\n",
              "    }\n",
              "</style>\n",
              "<table border=\"1\" class=\"dataframe\">\n",
              "  <thead>\n",
              "    <tr style=\"text-align: right;\">\n",
              "      <th></th>\n",
              "      <th>date</th>\n",
              "      <th>amount_of_precipitation</th>\n",
              "      <th>max_temperature</th>\n",
              "      <th>min_temperature</th>\n",
              "      <th>rain</th>\n",
              "    </tr>\n",
              "  </thead>\n",
              "  <tbody>\n",
              "    <tr>\n",
              "      <th>0</th>\n",
              "      <td>1948-01-01</td>\n",
              "      <td>0.47</td>\n",
              "      <td>51</td>\n",
              "      <td>42</td>\n",
              "      <td>True</td>\n",
              "    </tr>\n",
              "    <tr>\n",
              "      <th>1</th>\n",
              "      <td>1948-01-02</td>\n",
              "      <td>0.59</td>\n",
              "      <td>45</td>\n",
              "      <td>36</td>\n",
              "      <td>True</td>\n",
              "    </tr>\n",
              "    <tr>\n",
              "      <th>2</th>\n",
              "      <td>1948-01-03</td>\n",
              "      <td>0.42</td>\n",
              "      <td>45</td>\n",
              "      <td>35</td>\n",
              "      <td>True</td>\n",
              "    </tr>\n",
              "    <tr>\n",
              "      <th>3</th>\n",
              "      <td>1948-01-04</td>\n",
              "      <td>0.31</td>\n",
              "      <td>45</td>\n",
              "      <td>34</td>\n",
              "      <td>True</td>\n",
              "    </tr>\n",
              "    <tr>\n",
              "      <th>4</th>\n",
              "      <td>1948-01-05</td>\n",
              "      <td>0.17</td>\n",
              "      <td>45</td>\n",
              "      <td>32</td>\n",
              "      <td>True</td>\n",
              "    </tr>\n",
              "    <tr>\n",
              "      <th>...</th>\n",
              "      <td>...</td>\n",
              "      <td>...</td>\n",
              "      <td>...</td>\n",
              "      <td>...</td>\n",
              "      <td>...</td>\n",
              "    </tr>\n",
              "    <tr>\n",
              "      <th>25229</th>\n",
              "      <td>2017-01-27</td>\n",
              "      <td>0.00</td>\n",
              "      <td>54</td>\n",
              "      <td>37</td>\n",
              "      <td>False</td>\n",
              "    </tr>\n",
              "    <tr>\n",
              "      <th>25230</th>\n",
              "      <td>2017-01-28</td>\n",
              "      <td>0.00</td>\n",
              "      <td>52</td>\n",
              "      <td>37</td>\n",
              "      <td>False</td>\n",
              "    </tr>\n",
              "    <tr>\n",
              "      <th>25231</th>\n",
              "      <td>2017-01-29</td>\n",
              "      <td>0.03</td>\n",
              "      <td>48</td>\n",
              "      <td>37</td>\n",
              "      <td>True</td>\n",
              "    </tr>\n",
              "    <tr>\n",
              "      <th>25232</th>\n",
              "      <td>2017-01-30</td>\n",
              "      <td>0.02</td>\n",
              "      <td>45</td>\n",
              "      <td>40</td>\n",
              "      <td>True</td>\n",
              "    </tr>\n",
              "    <tr>\n",
              "      <th>25233</th>\n",
              "      <td>2017-01-31</td>\n",
              "      <td>0.00</td>\n",
              "      <td>44</td>\n",
              "      <td>34</td>\n",
              "      <td>False</td>\n",
              "    </tr>\n",
              "  </tbody>\n",
              "</table>\n",
              "<p>2170 rows × 5 columns</p>\n",
              "</div>"
            ],
            "text/plain": [
              "            date  amount_of_precipitation  max_temperature  min_temperature  \\\n",
              "0     1948-01-01                     0.47               51               42   \n",
              "1     1948-01-02                     0.59               45               36   \n",
              "2     1948-01-03                     0.42               45               35   \n",
              "3     1948-01-04                     0.31               45               34   \n",
              "4     1948-01-05                     0.17               45               32   \n",
              "...          ...                      ...              ...              ...   \n",
              "25229 2017-01-27                     0.00               54               37   \n",
              "25230 2017-01-28                     0.00               52               37   \n",
              "25231 2017-01-29                     0.03               48               37   \n",
              "25232 2017-01-30                     0.02               45               40   \n",
              "25233 2017-01-31                     0.00               44               34   \n",
              "\n",
              "        rain  \n",
              "0       True  \n",
              "1       True  \n",
              "2       True  \n",
              "3       True  \n",
              "4       True  \n",
              "...      ...  \n",
              "25229  False  \n",
              "25230  False  \n",
              "25231   True  \n",
              "25232   True  \n",
              "25233  False  \n",
              "\n",
              "[2170 rows x 5 columns]"
            ]
          },
          "execution_count": 1,
          "metadata": {},
          "output_type": "execute_result"
        }
      ],
      "source": [
        "import pandas\n",
        "!wget https://raw.githubusercontent.com/MicrosoftDocs/mslearn-introduction-to-machine-learning/main/graphing.py\n",
        "!wget https://raw.githubusercontent.com/MicrosoftDocs/mslearn-introduction-to-machine-learning/main/m0b_optimizer.py\n",
        "!wget https://raw.githubusercontent.com/MicrosoftDocs/mslearn-introduction-to-machine-learning/main/Data/seattleWeather_1948-2017.csv\n",
        "\n",
        "# Load a file that contains weather data for Seattle\n",
        "data = pandas.read_csv('seattleWeather_1948-2017.csv', parse_dates=['date'])\n",
        "\n",
        "# Keep only January temperatures\n",
        "data = data[[d.month == 1 for d in data.date]].copy()\n",
        "\n",
        "\n",
        "# Print the first and last few rows\n",
        "# Remember that with Jupyter notebooks, the last line of \n",
        "# code is automatically printed\n",
        "data"
      ]
    },
    {
      "cell_type": "markdown",
      "id": "2db017bb-5b5e-49bf-846b-a9f3818d3d67",
      "metadata": {},
      "source": [
        "We have data from 1948 to 2017, split across 2,170 rows. \n",
        "\n",
        "We'll analyze the relationship between `date` and daily minimum temperatures. Let's take a quick look at our data as a graph. \n"
      ]
    },
    {
      "cell_type": "code",
      "execution_count": 3,
      "id": "8193505e-3f74-43bb-acd4-8193099483b0",
      "metadata": {},
      "outputs": [
        {
          "ename": "ModuleNotFoundError",
          "evalue": "No module named 'plotly'",
          "output_type": "error",
          "traceback": [
            "\u001b[0;31m---------------------------------------------------------------------------\u001b[0m",
            "\u001b[0;31mModuleNotFoundError\u001b[0m                       Traceback (most recent call last)",
            "\u001b[1;32m/Users/dickinsd/Github/Designing-and-Implementing-a-Data-Science-Solution-on-Azure/2-3-exercise-separate-data-test-model.ipynb Cell 4\u001b[0m in \u001b[0;36m<cell line: 1>\u001b[0;34m()\u001b[0m\n\u001b[0;32m----> <a href='vscode-notebook-cell:/Users/dickinsd/Github/Designing-and-Implementing-a-Data-Science-Solution-on-Azure/2-3-exercise-separate-data-test-model.ipynb#W3sZmlsZQ%3D%3D?line=0'>1</a>\u001b[0m \u001b[39mimport\u001b[39;00m \u001b[39mgraphing\u001b[39;00m \u001b[39m# Custom graphing code. See our GitHub repository for details\u001b[39;00m\n\u001b[1;32m      <a href='vscode-notebook-cell:/Users/dickinsd/Github/Designing-and-Implementing-a-Data-Science-Solution-on-Azure/2-3-exercise-separate-data-test-model.ipynb#W3sZmlsZQ%3D%3D?line=2'>3</a>\u001b[0m \u001b[39m# Let's take a quick look at our data\u001b[39;00m\n\u001b[1;32m      <a href='vscode-notebook-cell:/Users/dickinsd/Github/Designing-and-Implementing-a-Data-Science-Solution-on-Azure/2-3-exercise-separate-data-test-model.ipynb#W3sZmlsZQ%3D%3D?line=3'>4</a>\u001b[0m graphing\u001b[39m.\u001b[39mscatter_2D(data, label_x\u001b[39m=\u001b[39m\u001b[39m\"\u001b[39m\u001b[39mdate\u001b[39m\u001b[39m\"\u001b[39m, label_y\u001b[39m=\u001b[39m\u001b[39m\"\u001b[39m\u001b[39mmin_temperature\u001b[39m\u001b[39m\"\u001b[39m, title\u001b[39m=\u001b[39m\u001b[39m\"\u001b[39m\u001b[39mJanuary Temperatures (°F)\u001b[39m\u001b[39m\"\u001b[39m)\n",
            "File \u001b[0;32m~/Github/Designing-and-Implementing-a-Data-Science-Solution-on-Azure/graphing.py:9\u001b[0m, in \u001b[0;36m<module>\u001b[0;34m\u001b[0m\n\u001b[1;32m      7\u001b[0m \u001b[39mfrom\u001b[39;00m \u001b[39mnumpy\u001b[39;00m\u001b[39m.\u001b[39;00m\u001b[39mcore\u001b[39;00m\u001b[39m.\u001b[39;00m\u001b[39mfromnumeric\u001b[39;00m \u001b[39mimport\u001b[39;00m repeat, shape\n\u001b[1;32m      8\u001b[0m \u001b[39mimport\u001b[39;00m \u001b[39mpandas\u001b[39;00m\n\u001b[0;32m----> 9\u001b[0m \u001b[39m\"\"\" import plotly.express as px\u001b[39;00m\n\u001b[1;32m     10\u001b[0m \u001b[39mimport plotly.io as pio\u001b[39;00m\n\u001b[1;32m     11\u001b[0m \u001b[39mimport plotly.graph_objects as graph_objects \"\"\"\u001b[39;00m\n\u001b[1;32m     13\u001b[0m \u001b[39m# Set the default theme\u001b[39;00m\n\u001b[1;32m     14\u001b[0m template \u001b[39m=\u001b[39m  graph_objects\u001b[39m.\u001b[39mlayout\u001b[39m.\u001b[39mTemplate()\n",
            "\u001b[0;31mModuleNotFoundError\u001b[0m: No module named 'plotly'"
          ]
        }
      ],
      "source": [
        "import graphing # Custom graphing code. See our GitHub repository for details\n",
        "\n",
        "# Let's take a quick look at our data\n",
        "graphing.scatter_2D(data, label_x=\"date\", label_y=\"min_temperature\", title=\"January Temperatures (°F)\")"
      ]
    },
    {
      "cell_type": "markdown",
      "id": "cfadf1b3-f705-4978-808b-36456ca86244",
      "metadata": {},
      "source": [
        "Machine learning usually works best when the X and Y axes have roughly the same range of values. We'll cover why in later learning material. For now, let's just scale our data slightly."
      ]
    },
    {
      "cell_type": "code",
      "execution_count": 4,
      "id": "bf8f1b8f-ef75-4b14-852b-ad8e69cd4618",
      "metadata": {},
      "outputs": [
        {
          "ename": "NameError",
          "evalue": "name 'graphing' is not defined",
          "output_type": "error",
          "traceback": [
            "\u001b[0;31m---------------------------------------------------------------------------\u001b[0m",
            "\u001b[0;31mNameError\u001b[0m                                 Traceback (most recent call last)",
            "\u001b[1;32m/Users/dickinsd/Github/Designing-and-Implementing-a-Data-Science-Solution-on-Azure/2-3-exercise-separate-data-test-model.ipynb Cell 6\u001b[0m in \u001b[0;36m<cell line: 13>\u001b[0;34m()\u001b[0m\n\u001b[1;32m     <a href='vscode-notebook-cell:/Users/dickinsd/Github/Designing-and-Implementing-a-Data-Science-Solution-on-Azure/2-3-exercise-separate-data-test-model.ipynb#W5sZmlsZQ%3D%3D?line=9'>10</a>\u001b[0m data[\u001b[39m\"\u001b[39m\u001b[39mnormalised_temperature\u001b[39m\u001b[39m\"\u001b[39m] \u001b[39m=\u001b[39m (data[\u001b[39m\"\u001b[39m\u001b[39mmin_temperature\u001b[39m\u001b[39m\"\u001b[39m] \u001b[39m-\u001b[39m np\u001b[39m.\u001b[39mmean(data[\u001b[39m\"\u001b[39m\u001b[39mmin_temperature\u001b[39m\u001b[39m\"\u001b[39m])) \u001b[39m/\u001b[39m np\u001b[39m.\u001b[39mstd(data[\u001b[39m\"\u001b[39m\u001b[39mmin_temperature\u001b[39m\u001b[39m\"\u001b[39m])\n\u001b[1;32m     <a href='vscode-notebook-cell:/Users/dickinsd/Github/Designing-and-Implementing-a-Data-Science-Solution-on-Azure/2-3-exercise-separate-data-test-model.ipynb#W5sZmlsZQ%3D%3D?line=11'>12</a>\u001b[0m \u001b[39m# Graph\u001b[39;00m\n\u001b[0;32m---> <a href='vscode-notebook-cell:/Users/dickinsd/Github/Designing-and-Implementing-a-Data-Science-Solution-on-Azure/2-3-exercise-separate-data-test-model.ipynb#W5sZmlsZQ%3D%3D?line=12'>13</a>\u001b[0m graphing\u001b[39m.\u001b[39mscatter_2D(data, label_x\u001b[39m=\u001b[39m\u001b[39m\"\u001b[39m\u001b[39myears_since_1982\u001b[39m\u001b[39m\"\u001b[39m, label_y\u001b[39m=\u001b[39m\u001b[39m\"\u001b[39m\u001b[39mnormalised_temperature\u001b[39m\u001b[39m\"\u001b[39m, title\u001b[39m=\u001b[39m\u001b[39m\"\u001b[39m\u001b[39mJanuary Temperatures (Normalised)\u001b[39m\u001b[39m\"\u001b[39m)\n",
            "\u001b[0;31mNameError\u001b[0m: name 'graphing' is not defined"
          ]
        }
      ],
      "source": [
        "import numpy as np\n",
        "\n",
        "# This block of code scales and offsets the data slightly, which helps the training process\n",
        "# You don't need to understand this code. We'll cover these concepts in later learning material\n",
        "\n",
        "# Offset date into number of years since 1982\n",
        "data[\"years_since_1982\"] = [(d.year + d.timetuple().tm_yday / 365.25) - 1982 for d in data.date]\n",
        "\n",
        "# Scale and offset temperature so that it has a smaller range of values\n",
        "data[\"normalised_temperature\"] = (data[\"min_temperature\"] - np.mean(data[\"min_temperature\"])) / np.std(data[\"min_temperature\"])\n",
        "\n",
        "# Graph\n",
        "graphing.scatter_2D(data, label_x=\"years_since_1982\", label_y=\"normalised_temperature\", title=\"January Temperatures (Normalised)\")\n"
      ]
    },
    {
      "cell_type": "markdown",
      "id": "19145c35-c9b5-4cd6-8760-ed6fbf6daf79",
      "metadata": {},
      "source": [
        "### 2. The model\n",
        "\n",
        "We'll select a simple linear regression model. This model uses a line to make estimates. You might have come across trendlines like these before when making graphs."
      ]
    },
    {
      "cell_type": "code",
      "execution_count": 5,
      "id": "be5a4c8d-a778-4f59-a7b5-6f9df1ed9486",
      "metadata": {},
      "outputs": [
        {
          "name": "stdout",
          "output_type": "stream",
          "text": [
            "Model made!\n"
          ]
        }
      ],
      "source": [
        "class MyModel:\n",
        "\n",
        "    def __init__(self):\n",
        "        '''\n",
        "        Creates a new MyModel\n",
        "        '''\n",
        "        # Straight lines described by two parameters:\n",
        "        # The slope is the angle of the line\n",
        "        self.slope = 0\n",
        "        # The intercept moves the line up or down\n",
        "        self.intercept = 0\n",
        "\n",
        "    def predict(self, date):\n",
        "        '''\n",
        "        Estimates the temperature from the date\n",
        "        '''\n",
        "        return date * self.slope + self.intercept\n",
        "\n",
        "# Create our model ready to be trained\n",
        "model = MyModel()\n",
        "\n",
        "print(\"Model made!\")"
      ]
    },
    {
      "cell_type": "markdown",
      "id": "a3833c31-74ef-4e98-ab04-e45d490517fd",
      "metadata": {},
      "source": [
        "We wouldn't normally use a model before it has been trained, but for the sake of learning, let's take a quick look at it."
      ]
    },
    {
      "cell_type": "code",
      "execution_count": 6,
      "id": "a3a01f5b-5151-43d6-93a6-f4bdbcead12a",
      "metadata": {},
      "outputs": [
        {
          "name": "stdout",
          "output_type": "stream",
          "text": [
            "Model parameters before training: 0, 0\n",
            "Model visualised before training:\n"
          ]
        },
        {
          "ename": "NameError",
          "evalue": "name 'graphing' is not defined",
          "output_type": "error",
          "traceback": [
            "\u001b[0;31m---------------------------------------------------------------------------\u001b[0m",
            "\u001b[0;31mNameError\u001b[0m                                 Traceback (most recent call last)",
            "\u001b[1;32m/Users/dickinsd/Github/Designing-and-Implementing-a-Data-Science-Solution-on-Azure/2-3-exercise-separate-data-test-model.ipynb Cell 10\u001b[0m in \u001b[0;36m<cell line: 5>\u001b[0;34m()\u001b[0m\n\u001b[1;32m      <a href='vscode-notebook-cell:/Users/dickinsd/Github/Designing-and-Implementing-a-Data-Science-Solution-on-Azure/2-3-exercise-separate-data-test-model.ipynb#X12sZmlsZQ%3D%3D?line=2'>3</a>\u001b[0m \u001b[39m# Look at how well the model does before training\u001b[39;00m\n\u001b[1;32m      <a href='vscode-notebook-cell:/Users/dickinsd/Github/Designing-and-Implementing-a-Data-Science-Solution-on-Azure/2-3-exercise-separate-data-test-model.ipynb#X12sZmlsZQ%3D%3D?line=3'>4</a>\u001b[0m \u001b[39mprint\u001b[39m(\u001b[39m\"\u001b[39m\u001b[39mModel visualised before training:\u001b[39m\u001b[39m\"\u001b[39m)\n\u001b[0;32m----> <a href='vscode-notebook-cell:/Users/dickinsd/Github/Designing-and-Implementing-a-Data-Science-Solution-on-Azure/2-3-exercise-separate-data-test-model.ipynb#X12sZmlsZQ%3D%3D?line=4'>5</a>\u001b[0m graphing\u001b[39m.\u001b[39mscatter_2D(data, \u001b[39m\"\u001b[39m\u001b[39myears_since_1982\u001b[39m\u001b[39m\"\u001b[39m, \u001b[39m\"\u001b[39m\u001b[39mnormalised_temperature\u001b[39m\u001b[39m\"\u001b[39m, trendline\u001b[39m=\u001b[39mmodel\u001b[39m.\u001b[39mpredict)\n",
            "\u001b[0;31mNameError\u001b[0m: name 'graphing' is not defined"
          ]
        }
      ],
      "source": [
        "print(f\"Model parameters before training: {model.intercept}, {model.slope}\")\n",
        "\n",
        "# Look at how well the model does before training\n",
        "print(\"Model visualised before training:\")\n",
        "graphing.scatter_2D(data, \"years_since_1982\", \"normalised_temperature\", trendline=model.predict)   "
      ]
    },
    {
      "cell_type": "markdown",
      "id": "58f4d284-ab3c-4eec-964f-0c6a4ce7a35c",
      "metadata": {},
      "source": [
        "You can see that before training, our model (the red line) isn't useful at all. It always simply predicts zero.\n",
        "\n",
        "### 3. The cost (objective) function\n",
        "\n",
        "Our next step is to create a _cost function_ (_objective function_).\n",
        "\n",
        "These functions in supervised learning compare the model's estimate to the correct answer. In our case, our label is temperature, so our cost function will compare the estimated temperature to temperatures seen in the historical records."
      ]
    },
    {
      "cell_type": "code",
      "execution_count": 7,
      "id": "13fcd39b-853a-4219-bfab-254a2280ba8c",
      "metadata": {},
      "outputs": [],
      "source": [
        "def cost_function(actual_temperatures, estimated_temperatures):\n",
        "    '''\n",
        "    Calculates the difference between actual and estimated temperatures\n",
        "    Returns the difference, and also returns the squared difference (the cost)\n",
        "\n",
        "    actual_temperatures: One or more temperatures recorded in the past\n",
        "    estimated_temperatures: Corresponding temperature(s) estimated by the model\n",
        "    '''\n",
        "\n",
        "    # Calculate the difference between actual temperatures and those\n",
        "    # estimated by the model\n",
        "    difference = estimated_temperatures - actual_temperatures\n",
        "\n",
        "    # Convert to a single number that tells us how well the model did\n",
        "    # (smaller numbers are better)\n",
        "    cost = sum(difference ** 2)\n",
        "\n",
        "    return difference, cost"
      ]
    },
    {
      "cell_type": "markdown",
      "id": "744b3620-e708-42fc-8d24-b5b64508a52b",
      "metadata": {},
      "source": [
        "### 4. The optimizer\n",
        "\n",
        "The role of the optimizer is to guess new parameter values for the model. \n",
        "\n",
        "We haven't covered optimizers in detail yet, so to make things simple, we'll use an prewritten optimizer. You don't need to understand how this works, but if you're curious, you can find it in our GitHub repository. "
      ]
    },
    {
      "cell_type": "code",
      "execution_count": 8,
      "id": "58012dd8-7e3d-4159-b48b-17b4ea7610c3",
      "metadata": {},
      "outputs": [],
      "source": [
        "from m0b_optimizer import MyOptimizer\n",
        "\n",
        "# Create an optimizer\n",
        "optimizer = MyOptimizer()"
      ]
    },
    {
      "cell_type": "markdown",
      "id": "02c83795-7d20-4433-abfd-ab788ec94831",
      "metadata": {},
      "source": [
        "## The training loop\n",
        "\n",
        "Let's put these components together so that they train the model. \n",
        "\n",
        "First, let's make a function that performs one iteration of training. Read each step carefully in the following code. If you want, add some `print()` statements inside the method to help you see the training in action."
      ]
    },
    {
      "cell_type": "code",
      "execution_count": 9,
      "id": "d095339e-48c0-46da-a19d-e6bd74f7e390",
      "metadata": {},
      "outputs": [
        {
          "name": "stdout",
          "output_type": "stream",
          "text": [
            "Training method ready\n"
          ]
        }
      ],
      "source": [
        "def train_one_iteration(model_inputs, true_temperatures, last_cost:float):\n",
        "    '''\n",
        "    Runs a single iteration of training.\n",
        "\n",
        "\n",
        "    model_inputs: One or more dates to provide the model (dates)\n",
        "    true_temperatues: Corresponding temperatures known to occur on those dates\n",
        "\n",
        "    Returns:\n",
        "        A Boolean, as to whether training should continue\n",
        "        The cost calculated (small numbers are better)\n",
        "    '''\n",
        "\n",
        "    # === USE THE MODEL ===\n",
        "    # Estimate temperatures for all data that we have\n",
        "    estimated_temperatures = model.predict(model_inputs)\n",
        "\n",
        "    # === OBJECTIVE FUNCTION ===\n",
        "    # Calculate how well the model is working\n",
        "    # Smaller numbers are better \n",
        "    difference, cost = cost_function(true_temperatures, estimated_temperatures)\n",
        "\n",
        "    # Decide whether to keep training\n",
        "    # We'll stop if the training is no longer improving the model effectively\n",
        "    if cost >= last_cost:\n",
        "        # Stop training\n",
        "        return False, cost\n",
        "    else:\n",
        "        # === OPTIMIZER ===\n",
        "        # Calculate updates to parameters\n",
        "        intercept_update, slope_update = optimizer.get_parameter_updates(model_inputs, cost, difference)\n",
        "\n",
        "        # Change the model parameters\n",
        "        model.slope += slope_update\n",
        "        model.intercept += intercept_update\n",
        "\n",
        "        return True, cost\n",
        "\n",
        "print(\"Training method ready\")"
      ]
    },
    {
      "cell_type": "markdown",
      "id": "b098ce46-67be-4cb9-b49f-59a042af1319",
      "metadata": {},
      "source": [
        "Let's run a few iterations manually, so that you can watch how training works.\n",
        "\n",
        "Run the following code several times, and note how the model changes."
      ]
    },
    {
      "cell_type": "code",
      "execution_count": 17,
      "id": "d29f37c2-4c44-4c3c-b50b-55982f73678c",
      "metadata": {},
      "outputs": [
        {
          "name": "stdout",
          "output_type": "stream",
          "text": [
            "Model parameters before training:\t\t-0.00007755,\t0.01192469\n",
            "Model parameters after 1 iteration of training:\t-0.00009079,\t0.01192473\n"
          ]
        }
      ],
      "source": [
        "import math\n",
        "\n",
        "print(f\"Model parameters before training:\\t\\t{model.intercept:.8f},\\t{model.slope:.8f}\")\n",
        "\n",
        "continue_loop, cost = train_one_iteration(model_inputs = data[\"years_since_1982\"],\n",
        "                                                    true_temperatures = data[\"normalised_temperature\"],\n",
        "                                                    last_cost = math.inf)\n",
        "\n",
        "print(f\"Model parameters after 1 iteration of training:\\t{model.intercept:.8f},\\t{model.slope:.8f}\")\n"
      ]
    },
    {
      "cell_type": "markdown",
      "id": "d55261b0-6e1b-4f23-a874-7a837fb736b7",
      "metadata": {},
      "source": [
        "It will take thousands of iterations to train the model well, so let's wrap it in a loop."
      ]
    },
    {
      "cell_type": "code",
      "execution_count": 18,
      "id": "48ca1461-60dd-405d-be45-dd9ddca34683",
      "metadata": {
        "tags": []
      },
      "outputs": [
        {
          "name": "stdout",
          "output_type": "stream",
          "text": [
            "Training beginning...\n",
            "Iteration: 0\n",
            "Iteration: 400\n",
            "Iteration: 800\n",
            "Iteration: 1200\n",
            "Iteration: 1600\n",
            "Iteration: 2000\n",
            "Iteration: 2400\n",
            "Iteration: 2800\n",
            "Iteration: 3200\n",
            "Iteration: 3600\n",
            "Iteration: 4000\n",
            "Training complete!\n",
            "Model parameters after training:\t-0.00648846,\t0.01193327\n"
          ]
        },
        {
          "ename": "NameError",
          "evalue": "name 'graphing' is not defined",
          "output_type": "error",
          "traceback": [
            "\u001b[0;31m---------------------------------------------------------------------------\u001b[0m",
            "\u001b[0;31mNameError\u001b[0m                                 Traceback (most recent call last)",
            "\u001b[1;32m/Users/dickinsd/Github/Designing-and-Implementing-a-Data-Science-Solution-on-Azure/2-3-exercise-separate-data-test-model.ipynb Cell 20\u001b[0m in \u001b[0;36m<cell line: 24>\u001b[0;34m()\u001b[0m\n\u001b[1;32m     <a href='vscode-notebook-cell:/Users/dickinsd/Github/Designing-and-Implementing-a-Data-Science-Solution-on-Azure/2-3-exercise-separate-data-test-model.ipynb#X25sZmlsZQ%3D%3D?line=21'>22</a>\u001b[0m \u001b[39mprint\u001b[39m(\u001b[39m\"\u001b[39m\u001b[39mTraining complete!\u001b[39m\u001b[39m\"\u001b[39m)\n\u001b[1;32m     <a href='vscode-notebook-cell:/Users/dickinsd/Github/Designing-and-Implementing-a-Data-Science-Solution-on-Azure/2-3-exercise-separate-data-test-model.ipynb#X25sZmlsZQ%3D%3D?line=22'>23</a>\u001b[0m \u001b[39mprint\u001b[39m(\u001b[39mf\u001b[39m\u001b[39m\"\u001b[39m\u001b[39mModel parameters after training:\u001b[39m\u001b[39m\\t\u001b[39;00m\u001b[39m{\u001b[39;00mmodel\u001b[39m.\u001b[39mintercept\u001b[39m:\u001b[39;00m\u001b[39m.8f\u001b[39m\u001b[39m}\u001b[39;00m\u001b[39m,\u001b[39m\u001b[39m\\t\u001b[39;00m\u001b[39m{\u001b[39;00mmodel\u001b[39m.\u001b[39mslope\u001b[39m:\u001b[39;00m\u001b[39m.8f\u001b[39m\u001b[39m}\u001b[39;00m\u001b[39m\"\u001b[39m)\n\u001b[0;32m---> <a href='vscode-notebook-cell:/Users/dickinsd/Github/Designing-and-Implementing-a-Data-Science-Solution-on-Azure/2-3-exercise-separate-data-test-model.ipynb#X25sZmlsZQ%3D%3D?line=23'>24</a>\u001b[0m graphing\u001b[39m.\u001b[39mscatter_2D(data, \u001b[39m\"\u001b[39m\u001b[39myears_since_1982\u001b[39m\u001b[39m\"\u001b[39m, \u001b[39m\"\u001b[39m\u001b[39mnormalised_temperature\u001b[39m\u001b[39m\"\u001b[39m, trendline\u001b[39m=\u001b[39mmodel\u001b[39m.\u001b[39mpredict)\n",
            "\u001b[0;31mNameError\u001b[0m: name 'graphing' is not defined"
          ]
        }
      ],
      "source": [
        "\n",
        "# Start the loop\n",
        "print(\"Training beginning...\")\n",
        "last_cost = math.inf\n",
        "i = 0\n",
        "continue_loop = True\n",
        "while continue_loop:\n",
        "\n",
        "    # Run one iteration of training\n",
        "    # This will tell us whether to stop training, and also what\n",
        "    # the cost was for this iteration\n",
        "    continue_loop, last_cost = train_one_iteration(model_inputs = data[\"years_since_1982\"],\n",
        "                                                    true_temperatures = data[\"normalised_temperature\"],\n",
        "                                                    last_cost = last_cost)\n",
        "   \n",
        "    # Print the status\n",
        "    if i % 400 == 0:\n",
        "        print(\"Iteration:\", i)\n",
        "\n",
        "    i += 1\n",
        "\n",
        "    \n",
        "print(\"Training complete!\")\n",
        "print(f\"Model parameters after training:\\t{model.intercept:.8f},\\t{model.slope:.8f}\")\n",
        "graphing.scatter_2D(data, \"years_since_1982\", \"normalised_temperature\", trendline=model.predict)    "
      ]
    },
    {
      "cell_type": "markdown",
      "id": "d97771db-003f-4345-bf60-5846daa92281",
      "metadata": {},
      "source": [
        "Notice how now the model is trained. It's giving more sensible predictions about January temperatures.\n",
        "\n",
        "Interestingly, the model shows temperatures going up over time. Perhaps we need to stop feeding grain to our elk earlier in the year!\n",
        "\n",
        "## Summary\n",
        "\n",
        "In this exercise, we split up supervised learning into its individual stages to see what's going on in code when we use third-party libraries. The important point to take away is how these pieces fit together. Note that most parts of this process require data."
      ]
    }
  ],
  "metadata": {
    "kernel_info": {
      "name": "conda-env-py38_default-py"
    },
    "kernelspec": {
      "display_name": "Python 3.9.13 ('base')",
      "language": "python",
      "name": "python3"
    },
    "language_info": {
      "codemirror_mode": {
        "name": "ipython",
        "version": 3
      },
      "file_extension": ".py",
      "mimetype": "text/x-python",
      "name": "python",
      "nbconvert_exporter": "python",
      "pygments_lexer": "ipython3",
      "version": "3.9.13"
    },
    "nteract": {
      "version": "nteract-front-end@1.0.0"
    },
    "vscode": {
      "interpreter": {
        "hash": "29ba88fc74c30cfb08fb6ce3b25c2ccd724cd11e96a643650e6c772fb9859a2d"
      }
    }
  },
  "nbformat": 4,
  "nbformat_minor": 5
}
